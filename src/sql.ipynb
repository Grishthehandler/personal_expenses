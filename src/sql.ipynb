{
 "cells": [
  {
   "cell_type": "markdown",
   "metadata": {},
   "source": [
    "# ***Loading Module***"
   ]
  },
  {
   "cell_type": "code",
   "execution_count": 1,
   "metadata": {},
   "outputs": [],
   "source": [
    "import pandas as pd\n",
    "import mysql.connector\n",
    "from mysql.connector import connect, Error\n",
    "from getpass import getpass\n",
    "import warnings\n",
    "from urllib.parse import quote_plus\n",
    "warnings.filterwarnings(\"ignore\", category=UserWarning, module=\"pandas\") # Suppress warnings from pandas\n",
    "from sqlalchemy import create_engine\n",
    "import seaborn as sns\n",
    "import matplotlib.pyplot as plt\n",
    "import plotly.express as px"
   ]
  },
  {
   "cell_type": "markdown",
   "metadata": {},
   "source": [
    "\n",
    "# *Connecting To MySQL*"
   ]
  },
  {
   "cell_type": "code",
   "execution_count": 2,
   "metadata": {},
   "outputs": [
    {
     "name": "stdout",
     "output_type": "stream",
     "text": [
      "Connection to MySQL server established.\n"
     ]
    }
   ],
   "source": [
    "# Get user input for username and password\n",
    "username = input(\"Enter username: \")\n",
    "password = getpass(\"Enter password: \")\n",
    "\n",
    "# Create a connection to the MySQL server\n",
    "try:\n",
    "    with connect(\n",
    "        host=\"localhost\",\n",
    "        user=username,\n",
    "        password=password,\n",
    "    ) as connection:\n",
    "        print(\"Connection to MySQL server established.\")\n",
    "\n",
    "except Exception as e:\n",
    "    print(f\"Error connecting to MySQL server: {e}\")"
   ]
  },
  {
   "cell_type": "code",
   "execution_count": 3,
   "metadata": {},
   "outputs": [],
   "source": [
    "connection.reconnect()"
   ]
  },
  {
   "cell_type": "markdown",
   "metadata": {},
   "source": [
    "# *Creating Database*"
   ]
  },
  {
   "cell_type": "code",
   "execution_count": 4,
   "metadata": {},
   "outputs": [
    {
     "name": "stdout",
     "output_type": "stream",
     "text": [
      "Database Created Successfully\n"
     ]
    }
   ],
   "source": [
    "# Create database if it doesn't exist\n",
    "create_database_query = \"CREATE DATABASE IF NOT EXISTS analyze_personal_expenses\"\n",
    "with connection.cursor() as cursor:\n",
    "    cursor.execute(create_database_query)\n",
    "    connection.commit()\n",
    "    print(\"Database Created Successfully\")"
   ]
  },
  {
   "cell_type": "markdown",
   "metadata": {},
   "source": [
    "# *Connecting To An Existing Database*"
   ]
  },
  {
   "cell_type": "code",
   "execution_count": 5,
   "metadata": {},
   "outputs": [],
   "source": [
    "# Connecting to an existing database.\n",
    "\n",
    "\n",
    "database = mysql.connector.connect(\n",
    "    host =\"localhost\",\n",
    "    username = input(\"Enter username\"),\n",
    "    password = getpass(\"Enter password\"),\n",
    "    database = \"analyze_personal_expenses\"\n",
    ")\n",
    "\n",
    "my_cursor = database.cursor()"
   ]
  },
  {
   "cell_type": "markdown",
   "metadata": {},
   "source": [
    "# *Reading CSV File.*"
   ]
  },
  {
   "cell_type": "code",
   "execution_count": 7,
   "metadata": {},
   "outputs": [
    {
     "data": {
      "text/html": [
       "<div>\n",
       "<style scoped>\n",
       "    .dataframe tbody tr th:only-of-type {\n",
       "        vertical-align: middle;\n",
       "    }\n",
       "\n",
       "    .dataframe tbody tr th {\n",
       "        vertical-align: top;\n",
       "    }\n",
       "\n",
       "    .dataframe thead th {\n",
       "        text-align: right;\n",
       "    }\n",
       "</style>\n",
       "<table border=\"1\" class=\"dataframe\">\n",
       "  <thead>\n",
       "    <tr style=\"text-align: right;\">\n",
       "      <th></th>\n",
       "      <th>Date</th>\n",
       "      <th>Category</th>\n",
       "      <th>Payment Mode</th>\n",
       "      <th>Description</th>\n",
       "      <th>Amount Paid</th>\n",
       "      <th>Cashback</th>\n",
       "    </tr>\n",
       "  </thead>\n",
       "  <tbody>\n",
       "    <tr>\n",
       "      <th>0</th>\n",
       "      <td>2023-01-01</td>\n",
       "      <td>Clothing</td>\n",
       "      <td>Cash</td>\n",
       "      <td>Athletic Wear</td>\n",
       "      <td>2451.52</td>\n",
       "      <td>93.64</td>\n",
       "    </tr>\n",
       "    <tr>\n",
       "      <th>1</th>\n",
       "      <td>2023-01-01</td>\n",
       "      <td>Health &amp; Fitness</td>\n",
       "      <td>Online</td>\n",
       "      <td>Personal Training Sessions</td>\n",
       "      <td>3199.94</td>\n",
       "      <td>46.80</td>\n",
       "    </tr>\n",
       "    <tr>\n",
       "      <th>2</th>\n",
       "      <td>2023-01-01</td>\n",
       "      <td>Subscriptions</td>\n",
       "      <td>Cash</td>\n",
       "      <td>Cloud Storage Services</td>\n",
       "      <td>459.39</td>\n",
       "      <td>34.12</td>\n",
       "    </tr>\n",
       "    <tr>\n",
       "      <th>3</th>\n",
       "      <td>2023-01-01</td>\n",
       "      <td>Clothing</td>\n",
       "      <td>Online</td>\n",
       "      <td>Formal Wear</td>\n",
       "      <td>2065.88</td>\n",
       "      <td>76.83</td>\n",
       "    </tr>\n",
       "    <tr>\n",
       "      <th>4</th>\n",
       "      <td>2023-01-02</td>\n",
       "      <td>Clothing</td>\n",
       "      <td>Cash</td>\n",
       "      <td>Fashion Accessories</td>\n",
       "      <td>350.35</td>\n",
       "      <td>33.80</td>\n",
       "    </tr>\n",
       "  </tbody>\n",
       "</table>\n",
       "</div>"
      ],
      "text/plain": [
       "         Date          Category Payment Mode                 Description  \\\n",
       "0  2023-01-01          Clothing         Cash               Athletic Wear   \n",
       "1  2023-01-01  Health & Fitness       Online  Personal Training Sessions   \n",
       "2  2023-01-01     Subscriptions         Cash      Cloud Storage Services   \n",
       "3  2023-01-01          Clothing       Online                 Formal Wear   \n",
       "4  2023-01-02          Clothing         Cash         Fashion Accessories   \n",
       "\n",
       "   Amount Paid  Cashback  \n",
       "0      2451.52     93.64  \n",
       "1      3199.94     46.80  \n",
       "2       459.39     34.12  \n",
       "3      2065.88     76.83  \n",
       "4       350.35     33.80  "
      ]
     },
     "execution_count": 7,
     "metadata": {},
     "output_type": "execute_result"
    }
   ],
   "source": [
    "query_data = pd.read_csv(\"combined_data.csv\")\n",
    "query_data.head()"
   ]
  },
  {
   "cell_type": "markdown",
   "metadata": {},
   "source": [
    "# *Creating Table*"
   ]
  },
  {
   "cell_type": "code",
   "execution_count": null,
   "metadata": {},
   "outputs": [],
   "source": [
    "# SQL query to create the expenses table\n",
    "create_expenses_table_query = \"\"\"\n",
    "CREATE TABLE IF NOT EXISTS personal_expenses (\n",
    "    id INT AUTO_INCREMENT PRIMARY KEY,\n",
    "    Date DATETIME NOT NULL,\n",
    "    Category VARCHAR(250) NOT NULL,\n",
    "    `Payment Mode` VARCHAR(100) NOT NULL,\n",
    "    Description VARCHAR(250) NOT NULL,\n",
    "    `Amount Paid` DECIMAL(10, 2) NOT NULL,\n",
    "    Cashback DECIMAL(10, 2) NOT NULL\n",
    ");\n",
    "\"\"\"\n",
    "\n",
    "# Execute the create table query\n",
    "my_cursor.execute(create_expenses_table_query)\n",
    "connection.commit()"
   ]
  },
  {
   "cell_type": "markdown",
   "metadata": {},
   "source": [
    "# *Inserting Data Into Table*"
   ]
  },
  {
   "cell_type": "code",
   "execution_count": 10,
   "metadata": {},
   "outputs": [],
   "source": [
    "insert_query = \"\"\"\n",
    "INSERT INTO personal_expenses (Date, Category, `Payment Mode`, Description, `Amount Paid`, Cashback)\n",
    "VALUES (%s, %s, %s, %s, %s, %s)\n",
    "\"\"\"\n",
    "\n",
    "for _, row in query_data.iterrows():\n",
    "    try:\n",
    "        my_cursor.execute(insert_query, tuple(row))\n",
    "        connection.commit()\n",
    "    except Exception as e:\n",
    "        print(f\"Error inserting row {row}: {e}\")"
   ]
  },
  {
   "cell_type": "markdown",
   "metadata": {},
   "source": [
    "# *Running Queries*"
   ]
  },
  {
   "cell_type": "code",
   "execution_count": 11,
   "metadata": {},
   "outputs": [
    {
     "name": "stdout",
     "output_type": "stream",
     "text": [
      "(2400,)\n"
     ]
    }
   ],
   "source": [
    "query1 = (\"SELECT COUNT(*) FROM PERSONAL_EXPENSES\")\n",
    "\n",
    "my_cursor.execute(query1)\n",
    "result = my_cursor.fetchall()\n",
    "for x in result:\n",
    "    print(x)"
   ]
  },
  {
   "cell_type": "code",
   "execution_count": 12,
   "metadata": {},
   "outputs": [
    {
     "name": "stdout",
     "output_type": "stream",
     "text": [
      "(Decimal('5891350.56'),)\n"
     ]
    }
   ],
   "source": [
    "query2 = (\"SELECT SUM(`Amount Paid`) FROM PERSONAL_EXPENSES\")\n",
    "\n",
    "my_cursor.execute(query2)\n",
    "result = my_cursor.fetchall()\n",
    "for x in result:\n",
    "    print(x)"
   ]
  },
  {
   "cell_type": "code",
   "execution_count": 13,
   "metadata": {},
   "outputs": [
    {
     "name": "stdout",
     "output_type": "stream",
     "text": [
      "('Clothing', Decimal('412680.32'))\n",
      "('Health & Fitness', Decimal('330817.90'))\n",
      "('Subscriptions', Decimal('227428.30'))\n",
      "('Groceries', Decimal('230642.42'))\n",
      "('Dining Out', Decimal('420679.34'))\n",
      "('Housing', Decimal('2113226.62'))\n",
      "('Utilities', Decimal('231095.58'))\n",
      "('Transportation', Decimal('429892.66'))\n",
      "('Entertainment', Decimal('380238.56'))\n",
      "('Travel', Decimal('1114648.86'))\n"
     ]
    },
    {
     "data": {
      "application/vnd.plotly.v1+json": {
       "config": {
        "plotlyServerURL": "https://plot.ly"
       },
       "data": [
        {
         "alignmentgroup": "True",
         "hovertemplate": "Category=%{x}<br>Amount Paid=%{text}<extra></extra>",
         "legendgroup": "Clothing",
         "marker": {
          "color": "#636efa",
          "pattern": {
           "shape": ""
          }
         },
         "name": "Clothing",
         "offsetgroup": "Clothing",
         "orientation": "v",
         "showlegend": true,
         "text": [
          412680.32
         ],
         "textposition": "auto",
         "type": "bar",
         "x": [
          "Clothing"
         ],
         "xaxis": "x",
         "y": [
          412680.32
         ],
         "yaxis": "y"
        },
        {
         "alignmentgroup": "True",
         "hovertemplate": "Category=%{x}<br>Amount Paid=%{text}<extra></extra>",
         "legendgroup": "Health & Fitness",
         "marker": {
          "color": "#EF553B",
          "pattern": {
           "shape": ""
          }
         },
         "name": "Health & Fitness",
         "offsetgroup": "Health & Fitness",
         "orientation": "v",
         "showlegend": true,
         "text": [
          330817.9
         ],
         "textposition": "auto",
         "type": "bar",
         "x": [
          "Health & Fitness"
         ],
         "xaxis": "x",
         "y": [
          330817.9
         ],
         "yaxis": "y"
        },
        {
         "alignmentgroup": "True",
         "hovertemplate": "Category=%{x}<br>Amount Paid=%{text}<extra></extra>",
         "legendgroup": "Subscriptions",
         "marker": {
          "color": "#00cc96",
          "pattern": {
           "shape": ""
          }
         },
         "name": "Subscriptions",
         "offsetgroup": "Subscriptions",
         "orientation": "v",
         "showlegend": true,
         "text": [
          227428.3
         ],
         "textposition": "auto",
         "type": "bar",
         "x": [
          "Subscriptions"
         ],
         "xaxis": "x",
         "y": [
          227428.3
         ],
         "yaxis": "y"
        },
        {
         "alignmentgroup": "True",
         "hovertemplate": "Category=%{x}<br>Amount Paid=%{text}<extra></extra>",
         "legendgroup": "Groceries",
         "marker": {
          "color": "#ab63fa",
          "pattern": {
           "shape": ""
          }
         },
         "name": "Groceries",
         "offsetgroup": "Groceries",
         "orientation": "v",
         "showlegend": true,
         "text": [
          230642.42
         ],
         "textposition": "auto",
         "type": "bar",
         "x": [
          "Groceries"
         ],
         "xaxis": "x",
         "y": [
          230642.42
         ],
         "yaxis": "y"
        },
        {
         "alignmentgroup": "True",
         "hovertemplate": "Category=%{x}<br>Amount Paid=%{text}<extra></extra>",
         "legendgroup": "Dining Out",
         "marker": {
          "color": "#FFA15A",
          "pattern": {
           "shape": ""
          }
         },
         "name": "Dining Out",
         "offsetgroup": "Dining Out",
         "orientation": "v",
         "showlegend": true,
         "text": [
          420679.34
         ],
         "textposition": "auto",
         "type": "bar",
         "x": [
          "Dining Out"
         ],
         "xaxis": "x",
         "y": [
          420679.34
         ],
         "yaxis": "y"
        },
        {
         "alignmentgroup": "True",
         "hovertemplate": "Category=%{x}<br>Amount Paid=%{text}<extra></extra>",
         "legendgroup": "Housing",
         "marker": {
          "color": "#19d3f3",
          "pattern": {
           "shape": ""
          }
         },
         "name": "Housing",
         "offsetgroup": "Housing",
         "orientation": "v",
         "showlegend": true,
         "text": [
          2113226.62
         ],
         "textposition": "auto",
         "type": "bar",
         "x": [
          "Housing"
         ],
         "xaxis": "x",
         "y": [
          2113226.62
         ],
         "yaxis": "y"
        },
        {
         "alignmentgroup": "True",
         "hovertemplate": "Category=%{x}<br>Amount Paid=%{text}<extra></extra>",
         "legendgroup": "Utilities",
         "marker": {
          "color": "#FF6692",
          "pattern": {
           "shape": ""
          }
         },
         "name": "Utilities",
         "offsetgroup": "Utilities",
         "orientation": "v",
         "showlegend": true,
         "text": [
          231095.58
         ],
         "textposition": "auto",
         "type": "bar",
         "x": [
          "Utilities"
         ],
         "xaxis": "x",
         "y": [
          231095.58
         ],
         "yaxis": "y"
        },
        {
         "alignmentgroup": "True",
         "hovertemplate": "Category=%{x}<br>Amount Paid=%{text}<extra></extra>",
         "legendgroup": "Transportation",
         "marker": {
          "color": "#B6E880",
          "pattern": {
           "shape": ""
          }
         },
         "name": "Transportation",
         "offsetgroup": "Transportation",
         "orientation": "v",
         "showlegend": true,
         "text": [
          429892.66
         ],
         "textposition": "auto",
         "type": "bar",
         "x": [
          "Transportation"
         ],
         "xaxis": "x",
         "y": [
          429892.66
         ],
         "yaxis": "y"
        },
        {
         "alignmentgroup": "True",
         "hovertemplate": "Category=%{x}<br>Amount Paid=%{text}<extra></extra>",
         "legendgroup": "Entertainment",
         "marker": {
          "color": "#FF97FF",
          "pattern": {
           "shape": ""
          }
         },
         "name": "Entertainment",
         "offsetgroup": "Entertainment",
         "orientation": "v",
         "showlegend": true,
         "text": [
          380238.56
         ],
         "textposition": "auto",
         "type": "bar",
         "x": [
          "Entertainment"
         ],
         "xaxis": "x",
         "y": [
          380238.56
         ],
         "yaxis": "y"
        },
        {
         "alignmentgroup": "True",
         "hovertemplate": "Category=%{x}<br>Amount Paid=%{text}<extra></extra>",
         "legendgroup": "Travel",
         "marker": {
          "color": "#FECB52",
          "pattern": {
           "shape": ""
          }
         },
         "name": "Travel",
         "offsetgroup": "Travel",
         "orientation": "v",
         "showlegend": true,
         "text": [
          1114648.86
         ],
         "textposition": "auto",
         "type": "bar",
         "x": [
          "Travel"
         ],
         "xaxis": "x",
         "y": [
          1114648.86
         ],
         "yaxis": "y"
        }
       ],
       "layout": {
        "barmode": "relative",
        "legend": {
         "title": {
          "text": "Category"
         },
         "tracegroupgap": 0
        },
        "template": {
         "data": {
          "bar": [
           {
            "error_x": {
             "color": "#2a3f5f"
            },
            "error_y": {
             "color": "#2a3f5f"
            },
            "marker": {
             "line": {
              "color": "#E5ECF6",
              "width": 0.5
             },
             "pattern": {
              "fillmode": "overlay",
              "size": 10,
              "solidity": 0.2
             }
            },
            "type": "bar"
           }
          ],
          "barpolar": [
           {
            "marker": {
             "line": {
              "color": "#E5ECF6",
              "width": 0.5
             },
             "pattern": {
              "fillmode": "overlay",
              "size": 10,
              "solidity": 0.2
             }
            },
            "type": "barpolar"
           }
          ],
          "carpet": [
           {
            "aaxis": {
             "endlinecolor": "#2a3f5f",
             "gridcolor": "white",
             "linecolor": "white",
             "minorgridcolor": "white",
             "startlinecolor": "#2a3f5f"
            },
            "baxis": {
             "endlinecolor": "#2a3f5f",
             "gridcolor": "white",
             "linecolor": "white",
             "minorgridcolor": "white",
             "startlinecolor": "#2a3f5f"
            },
            "type": "carpet"
           }
          ],
          "choropleth": [
           {
            "colorbar": {
             "outlinewidth": 0,
             "ticks": ""
            },
            "type": "choropleth"
           }
          ],
          "contour": [
           {
            "colorbar": {
             "outlinewidth": 0,
             "ticks": ""
            },
            "colorscale": [
             [
              0,
              "#0d0887"
             ],
             [
              0.1111111111111111,
              "#46039f"
             ],
             [
              0.2222222222222222,
              "#7201a8"
             ],
             [
              0.3333333333333333,
              "#9c179e"
             ],
             [
              0.4444444444444444,
              "#bd3786"
             ],
             [
              0.5555555555555556,
              "#d8576b"
             ],
             [
              0.6666666666666666,
              "#ed7953"
             ],
             [
              0.7777777777777778,
              "#fb9f3a"
             ],
             [
              0.8888888888888888,
              "#fdca26"
             ],
             [
              1,
              "#f0f921"
             ]
            ],
            "type": "contour"
           }
          ],
          "contourcarpet": [
           {
            "colorbar": {
             "outlinewidth": 0,
             "ticks": ""
            },
            "type": "contourcarpet"
           }
          ],
          "heatmap": [
           {
            "colorbar": {
             "outlinewidth": 0,
             "ticks": ""
            },
            "colorscale": [
             [
              0,
              "#0d0887"
             ],
             [
              0.1111111111111111,
              "#46039f"
             ],
             [
              0.2222222222222222,
              "#7201a8"
             ],
             [
              0.3333333333333333,
              "#9c179e"
             ],
             [
              0.4444444444444444,
              "#bd3786"
             ],
             [
              0.5555555555555556,
              "#d8576b"
             ],
             [
              0.6666666666666666,
              "#ed7953"
             ],
             [
              0.7777777777777778,
              "#fb9f3a"
             ],
             [
              0.8888888888888888,
              "#fdca26"
             ],
             [
              1,
              "#f0f921"
             ]
            ],
            "type": "heatmap"
           }
          ],
          "heatmapgl": [
           {
            "colorbar": {
             "outlinewidth": 0,
             "ticks": ""
            },
            "colorscale": [
             [
              0,
              "#0d0887"
             ],
             [
              0.1111111111111111,
              "#46039f"
             ],
             [
              0.2222222222222222,
              "#7201a8"
             ],
             [
              0.3333333333333333,
              "#9c179e"
             ],
             [
              0.4444444444444444,
              "#bd3786"
             ],
             [
              0.5555555555555556,
              "#d8576b"
             ],
             [
              0.6666666666666666,
              "#ed7953"
             ],
             [
              0.7777777777777778,
              "#fb9f3a"
             ],
             [
              0.8888888888888888,
              "#fdca26"
             ],
             [
              1,
              "#f0f921"
             ]
            ],
            "type": "heatmapgl"
           }
          ],
          "histogram": [
           {
            "marker": {
             "pattern": {
              "fillmode": "overlay",
              "size": 10,
              "solidity": 0.2
             }
            },
            "type": "histogram"
           }
          ],
          "histogram2d": [
           {
            "colorbar": {
             "outlinewidth": 0,
             "ticks": ""
            },
            "colorscale": [
             [
              0,
              "#0d0887"
             ],
             [
              0.1111111111111111,
              "#46039f"
             ],
             [
              0.2222222222222222,
              "#7201a8"
             ],
             [
              0.3333333333333333,
              "#9c179e"
             ],
             [
              0.4444444444444444,
              "#bd3786"
             ],
             [
              0.5555555555555556,
              "#d8576b"
             ],
             [
              0.6666666666666666,
              "#ed7953"
             ],
             [
              0.7777777777777778,
              "#fb9f3a"
             ],
             [
              0.8888888888888888,
              "#fdca26"
             ],
             [
              1,
              "#f0f921"
             ]
            ],
            "type": "histogram2d"
           }
          ],
          "histogram2dcontour": [
           {
            "colorbar": {
             "outlinewidth": 0,
             "ticks": ""
            },
            "colorscale": [
             [
              0,
              "#0d0887"
             ],
             [
              0.1111111111111111,
              "#46039f"
             ],
             [
              0.2222222222222222,
              "#7201a8"
             ],
             [
              0.3333333333333333,
              "#9c179e"
             ],
             [
              0.4444444444444444,
              "#bd3786"
             ],
             [
              0.5555555555555556,
              "#d8576b"
             ],
             [
              0.6666666666666666,
              "#ed7953"
             ],
             [
              0.7777777777777778,
              "#fb9f3a"
             ],
             [
              0.8888888888888888,
              "#fdca26"
             ],
             [
              1,
              "#f0f921"
             ]
            ],
            "type": "histogram2dcontour"
           }
          ],
          "mesh3d": [
           {
            "colorbar": {
             "outlinewidth": 0,
             "ticks": ""
            },
            "type": "mesh3d"
           }
          ],
          "parcoords": [
           {
            "line": {
             "colorbar": {
              "outlinewidth": 0,
              "ticks": ""
             }
            },
            "type": "parcoords"
           }
          ],
          "pie": [
           {
            "automargin": true,
            "type": "pie"
           }
          ],
          "scatter": [
           {
            "fillpattern": {
             "fillmode": "overlay",
             "size": 10,
             "solidity": 0.2
            },
            "type": "scatter"
           }
          ],
          "scatter3d": [
           {
            "line": {
             "colorbar": {
              "outlinewidth": 0,
              "ticks": ""
             }
            },
            "marker": {
             "colorbar": {
              "outlinewidth": 0,
              "ticks": ""
             }
            },
            "type": "scatter3d"
           }
          ],
          "scattercarpet": [
           {
            "marker": {
             "colorbar": {
              "outlinewidth": 0,
              "ticks": ""
             }
            },
            "type": "scattercarpet"
           }
          ],
          "scattergeo": [
           {
            "marker": {
             "colorbar": {
              "outlinewidth": 0,
              "ticks": ""
             }
            },
            "type": "scattergeo"
           }
          ],
          "scattergl": [
           {
            "marker": {
             "colorbar": {
              "outlinewidth": 0,
              "ticks": ""
             }
            },
            "type": "scattergl"
           }
          ],
          "scattermapbox": [
           {
            "marker": {
             "colorbar": {
              "outlinewidth": 0,
              "ticks": ""
             }
            },
            "type": "scattermapbox"
           }
          ],
          "scatterpolar": [
           {
            "marker": {
             "colorbar": {
              "outlinewidth": 0,
              "ticks": ""
             }
            },
            "type": "scatterpolar"
           }
          ],
          "scatterpolargl": [
           {
            "marker": {
             "colorbar": {
              "outlinewidth": 0,
              "ticks": ""
             }
            },
            "type": "scatterpolargl"
           }
          ],
          "scatterternary": [
           {
            "marker": {
             "colorbar": {
              "outlinewidth": 0,
              "ticks": ""
             }
            },
            "type": "scatterternary"
           }
          ],
          "surface": [
           {
            "colorbar": {
             "outlinewidth": 0,
             "ticks": ""
            },
            "colorscale": [
             [
              0,
              "#0d0887"
             ],
             [
              0.1111111111111111,
              "#46039f"
             ],
             [
              0.2222222222222222,
              "#7201a8"
             ],
             [
              0.3333333333333333,
              "#9c179e"
             ],
             [
              0.4444444444444444,
              "#bd3786"
             ],
             [
              0.5555555555555556,
              "#d8576b"
             ],
             [
              0.6666666666666666,
              "#ed7953"
             ],
             [
              0.7777777777777778,
              "#fb9f3a"
             ],
             [
              0.8888888888888888,
              "#fdca26"
             ],
             [
              1,
              "#f0f921"
             ]
            ],
            "type": "surface"
           }
          ],
          "table": [
           {
            "cells": {
             "fill": {
              "color": "#EBF0F8"
             },
             "line": {
              "color": "white"
             }
            },
            "header": {
             "fill": {
              "color": "#C8D4E3"
             },
             "line": {
              "color": "white"
             }
            },
            "type": "table"
           }
          ]
         },
         "layout": {
          "annotationdefaults": {
           "arrowcolor": "#2a3f5f",
           "arrowhead": 0,
           "arrowwidth": 1
          },
          "autotypenumbers": "strict",
          "coloraxis": {
           "colorbar": {
            "outlinewidth": 0,
            "ticks": ""
           }
          },
          "colorscale": {
           "diverging": [
            [
             0,
             "#8e0152"
            ],
            [
             0.1,
             "#c51b7d"
            ],
            [
             0.2,
             "#de77ae"
            ],
            [
             0.3,
             "#f1b6da"
            ],
            [
             0.4,
             "#fde0ef"
            ],
            [
             0.5,
             "#f7f7f7"
            ],
            [
             0.6,
             "#e6f5d0"
            ],
            [
             0.7,
             "#b8e186"
            ],
            [
             0.8,
             "#7fbc41"
            ],
            [
             0.9,
             "#4d9221"
            ],
            [
             1,
             "#276419"
            ]
           ],
           "sequential": [
            [
             0,
             "#0d0887"
            ],
            [
             0.1111111111111111,
             "#46039f"
            ],
            [
             0.2222222222222222,
             "#7201a8"
            ],
            [
             0.3333333333333333,
             "#9c179e"
            ],
            [
             0.4444444444444444,
             "#bd3786"
            ],
            [
             0.5555555555555556,
             "#d8576b"
            ],
            [
             0.6666666666666666,
             "#ed7953"
            ],
            [
             0.7777777777777778,
             "#fb9f3a"
            ],
            [
             0.8888888888888888,
             "#fdca26"
            ],
            [
             1,
             "#f0f921"
            ]
           ],
           "sequentialminus": [
            [
             0,
             "#0d0887"
            ],
            [
             0.1111111111111111,
             "#46039f"
            ],
            [
             0.2222222222222222,
             "#7201a8"
            ],
            [
             0.3333333333333333,
             "#9c179e"
            ],
            [
             0.4444444444444444,
             "#bd3786"
            ],
            [
             0.5555555555555556,
             "#d8576b"
            ],
            [
             0.6666666666666666,
             "#ed7953"
            ],
            [
             0.7777777777777778,
             "#fb9f3a"
            ],
            [
             0.8888888888888888,
             "#fdca26"
            ],
            [
             1,
             "#f0f921"
            ]
           ]
          },
          "colorway": [
           "#636efa",
           "#EF553B",
           "#00cc96",
           "#ab63fa",
           "#FFA15A",
           "#19d3f3",
           "#FF6692",
           "#B6E880",
           "#FF97FF",
           "#FECB52"
          ],
          "font": {
           "color": "#2a3f5f"
          },
          "geo": {
           "bgcolor": "white",
           "lakecolor": "white",
           "landcolor": "#E5ECF6",
           "showlakes": true,
           "showland": true,
           "subunitcolor": "white"
          },
          "hoverlabel": {
           "align": "left"
          },
          "hovermode": "closest",
          "mapbox": {
           "style": "light"
          },
          "paper_bgcolor": "white",
          "plot_bgcolor": "#E5ECF6",
          "polar": {
           "angularaxis": {
            "gridcolor": "white",
            "linecolor": "white",
            "ticks": ""
           },
           "bgcolor": "#E5ECF6",
           "radialaxis": {
            "gridcolor": "white",
            "linecolor": "white",
            "ticks": ""
           }
          },
          "scene": {
           "xaxis": {
            "backgroundcolor": "#E5ECF6",
            "gridcolor": "white",
            "gridwidth": 2,
            "linecolor": "white",
            "showbackground": true,
            "ticks": "",
            "zerolinecolor": "white"
           },
           "yaxis": {
            "backgroundcolor": "#E5ECF6",
            "gridcolor": "white",
            "gridwidth": 2,
            "linecolor": "white",
            "showbackground": true,
            "ticks": "",
            "zerolinecolor": "white"
           },
           "zaxis": {
            "backgroundcolor": "#E5ECF6",
            "gridcolor": "white",
            "gridwidth": 2,
            "linecolor": "white",
            "showbackground": true,
            "ticks": "",
            "zerolinecolor": "white"
           }
          },
          "shapedefaults": {
           "line": {
            "color": "#2a3f5f"
           }
          },
          "ternary": {
           "aaxis": {
            "gridcolor": "white",
            "linecolor": "white",
            "ticks": ""
           },
           "baxis": {
            "gridcolor": "white",
            "linecolor": "white",
            "ticks": ""
           },
           "bgcolor": "#E5ECF6",
           "caxis": {
            "gridcolor": "white",
            "linecolor": "white",
            "ticks": ""
           }
          },
          "title": {
           "x": 0.05
          },
          "xaxis": {
           "automargin": true,
           "gridcolor": "white",
           "linecolor": "white",
           "ticks": "",
           "title": {
            "standoff": 15
           },
           "zerolinecolor": "white",
           "zerolinewidth": 2
          },
          "yaxis": {
           "automargin": true,
           "gridcolor": "white",
           "linecolor": "white",
           "ticks": "",
           "title": {
            "standoff": 15
           },
           "zerolinecolor": "white",
           "zerolinewidth": 2
          }
         }
        },
        "title": {
         "text": "Total Amount Paid by Category"
        },
        "xaxis": {
         "anchor": "y",
         "categoryarray": [
          "Clothing",
          "Health & Fitness",
          "Subscriptions",
          "Groceries",
          "Dining Out",
          "Housing",
          "Utilities",
          "Transportation",
          "Entertainment",
          "Travel"
         ],
         "categoryorder": "array",
         "domain": [
          0,
          1
         ],
         "title": {
          "text": "Category"
         }
        },
        "yaxis": {
         "anchor": "x",
         "domain": [
          0,
          1
         ],
         "title": {
          "text": "Amount Paid"
         }
        }
       }
      }
     },
     "metadata": {},
     "output_type": "display_data"
    }
   ],
   "source": [
    "# Spending By Category\n",
    "query3 =(\"SELECT Category, SUM(`Amount Paid`) AS total_spent FROM PERSONAL_EXPENSES GROUP BY category\")\n",
    "\n",
    "\n",
    "my_cursor.execute(query3)\n",
    "result = my_cursor.fetchall()\n",
    "for x in result:\n",
    "    print(x)\n",
    "    \n",
    "grouped = pd.DataFrame(result,columns=[\"Category\",\"Amount Paid\"])\n",
    "# Bar Chart\n",
    "\n",
    "fig = px.bar(grouped, x=\"Category\",y=\"Amount Paid\", color=\"Category\", title=\"Total Amount Paid by Category\",text=\"Amount Paid\")\n",
    "\n",
    "fig.show()"
   ]
  },
  {
   "cell_type": "code",
   "execution_count": 14,
   "metadata": {},
   "outputs": [
    {
     "name": "stdout",
     "output_type": "stream",
     "text": [
      "('Cash', 1132)\n",
      "('Online', 1268)\n"
     ]
    },
    {
     "data": {
      "application/vnd.plotly.v1+json": {
       "config": {
        "plotlyServerURL": "https://plot.ly"
       },
       "data": [
        {
         "customdata": [
          [
           "Cash"
          ],
          [
           "Online"
          ]
         ],
         "domain": {
          "x": [
           0,
           1
          ],
          "y": [
           0,
           1
          ]
         },
         "hovertemplate": "Payment Mode=%{customdata[0]}<br>Count=%{value}<extra></extra>",
         "labels": [
          "Cash",
          "Online"
         ],
         "legendgroup": "",
         "marker": {
          "colors": [
           "rgb(150,0,90)",
           "rgb(0,0,200)"
          ]
         },
         "name": "",
         "showlegend": true,
         "type": "pie",
         "values": [
          1132,
          1268
         ]
        }
       ],
       "layout": {
        "legend": {
         "tracegroupgap": 0
        },
        "piecolorway": [
         "rgb(150,0,90)",
         "rgb(0,0,200)",
         "rgb(0,25,255)",
         "rgb(0,152,255)",
         "rgb(44,255,150)",
         "rgb(151,255,0)",
         "rgb(255,234,0)",
         "rgb(255,111,0)",
         "rgb(255,0,0)"
        ],
        "template": {
         "data": {
          "bar": [
           {
            "error_x": {
             "color": "#2a3f5f"
            },
            "error_y": {
             "color": "#2a3f5f"
            },
            "marker": {
             "line": {
              "color": "#E5ECF6",
              "width": 0.5
             },
             "pattern": {
              "fillmode": "overlay",
              "size": 10,
              "solidity": 0.2
             }
            },
            "type": "bar"
           }
          ],
          "barpolar": [
           {
            "marker": {
             "line": {
              "color": "#E5ECF6",
              "width": 0.5
             },
             "pattern": {
              "fillmode": "overlay",
              "size": 10,
              "solidity": 0.2
             }
            },
            "type": "barpolar"
           }
          ],
          "carpet": [
           {
            "aaxis": {
             "endlinecolor": "#2a3f5f",
             "gridcolor": "white",
             "linecolor": "white",
             "minorgridcolor": "white",
             "startlinecolor": "#2a3f5f"
            },
            "baxis": {
             "endlinecolor": "#2a3f5f",
             "gridcolor": "white",
             "linecolor": "white",
             "minorgridcolor": "white",
             "startlinecolor": "#2a3f5f"
            },
            "type": "carpet"
           }
          ],
          "choropleth": [
           {
            "colorbar": {
             "outlinewidth": 0,
             "ticks": ""
            },
            "type": "choropleth"
           }
          ],
          "contour": [
           {
            "colorbar": {
             "outlinewidth": 0,
             "ticks": ""
            },
            "colorscale": [
             [
              0,
              "#0d0887"
             ],
             [
              0.1111111111111111,
              "#46039f"
             ],
             [
              0.2222222222222222,
              "#7201a8"
             ],
             [
              0.3333333333333333,
              "#9c179e"
             ],
             [
              0.4444444444444444,
              "#bd3786"
             ],
             [
              0.5555555555555556,
              "#d8576b"
             ],
             [
              0.6666666666666666,
              "#ed7953"
             ],
             [
              0.7777777777777778,
              "#fb9f3a"
             ],
             [
              0.8888888888888888,
              "#fdca26"
             ],
             [
              1,
              "#f0f921"
             ]
            ],
            "type": "contour"
           }
          ],
          "contourcarpet": [
           {
            "colorbar": {
             "outlinewidth": 0,
             "ticks": ""
            },
            "type": "contourcarpet"
           }
          ],
          "heatmap": [
           {
            "colorbar": {
             "outlinewidth": 0,
             "ticks": ""
            },
            "colorscale": [
             [
              0,
              "#0d0887"
             ],
             [
              0.1111111111111111,
              "#46039f"
             ],
             [
              0.2222222222222222,
              "#7201a8"
             ],
             [
              0.3333333333333333,
              "#9c179e"
             ],
             [
              0.4444444444444444,
              "#bd3786"
             ],
             [
              0.5555555555555556,
              "#d8576b"
             ],
             [
              0.6666666666666666,
              "#ed7953"
             ],
             [
              0.7777777777777778,
              "#fb9f3a"
             ],
             [
              0.8888888888888888,
              "#fdca26"
             ],
             [
              1,
              "#f0f921"
             ]
            ],
            "type": "heatmap"
           }
          ],
          "heatmapgl": [
           {
            "colorbar": {
             "outlinewidth": 0,
             "ticks": ""
            },
            "colorscale": [
             [
              0,
              "#0d0887"
             ],
             [
              0.1111111111111111,
              "#46039f"
             ],
             [
              0.2222222222222222,
              "#7201a8"
             ],
             [
              0.3333333333333333,
              "#9c179e"
             ],
             [
              0.4444444444444444,
              "#bd3786"
             ],
             [
              0.5555555555555556,
              "#d8576b"
             ],
             [
              0.6666666666666666,
              "#ed7953"
             ],
             [
              0.7777777777777778,
              "#fb9f3a"
             ],
             [
              0.8888888888888888,
              "#fdca26"
             ],
             [
              1,
              "#f0f921"
             ]
            ],
            "type": "heatmapgl"
           }
          ],
          "histogram": [
           {
            "marker": {
             "pattern": {
              "fillmode": "overlay",
              "size": 10,
              "solidity": 0.2
             }
            },
            "type": "histogram"
           }
          ],
          "histogram2d": [
           {
            "colorbar": {
             "outlinewidth": 0,
             "ticks": ""
            },
            "colorscale": [
             [
              0,
              "#0d0887"
             ],
             [
              0.1111111111111111,
              "#46039f"
             ],
             [
              0.2222222222222222,
              "#7201a8"
             ],
             [
              0.3333333333333333,
              "#9c179e"
             ],
             [
              0.4444444444444444,
              "#bd3786"
             ],
             [
              0.5555555555555556,
              "#d8576b"
             ],
             [
              0.6666666666666666,
              "#ed7953"
             ],
             [
              0.7777777777777778,
              "#fb9f3a"
             ],
             [
              0.8888888888888888,
              "#fdca26"
             ],
             [
              1,
              "#f0f921"
             ]
            ],
            "type": "histogram2d"
           }
          ],
          "histogram2dcontour": [
           {
            "colorbar": {
             "outlinewidth": 0,
             "ticks": ""
            },
            "colorscale": [
             [
              0,
              "#0d0887"
             ],
             [
              0.1111111111111111,
              "#46039f"
             ],
             [
              0.2222222222222222,
              "#7201a8"
             ],
             [
              0.3333333333333333,
              "#9c179e"
             ],
             [
              0.4444444444444444,
              "#bd3786"
             ],
             [
              0.5555555555555556,
              "#d8576b"
             ],
             [
              0.6666666666666666,
              "#ed7953"
             ],
             [
              0.7777777777777778,
              "#fb9f3a"
             ],
             [
              0.8888888888888888,
              "#fdca26"
             ],
             [
              1,
              "#f0f921"
             ]
            ],
            "type": "histogram2dcontour"
           }
          ],
          "mesh3d": [
           {
            "colorbar": {
             "outlinewidth": 0,
             "ticks": ""
            },
            "type": "mesh3d"
           }
          ],
          "parcoords": [
           {
            "line": {
             "colorbar": {
              "outlinewidth": 0,
              "ticks": ""
             }
            },
            "type": "parcoords"
           }
          ],
          "pie": [
           {
            "automargin": true,
            "type": "pie"
           }
          ],
          "scatter": [
           {
            "fillpattern": {
             "fillmode": "overlay",
             "size": 10,
             "solidity": 0.2
            },
            "type": "scatter"
           }
          ],
          "scatter3d": [
           {
            "line": {
             "colorbar": {
              "outlinewidth": 0,
              "ticks": ""
             }
            },
            "marker": {
             "colorbar": {
              "outlinewidth": 0,
              "ticks": ""
             }
            },
            "type": "scatter3d"
           }
          ],
          "scattercarpet": [
           {
            "marker": {
             "colorbar": {
              "outlinewidth": 0,
              "ticks": ""
             }
            },
            "type": "scattercarpet"
           }
          ],
          "scattergeo": [
           {
            "marker": {
             "colorbar": {
              "outlinewidth": 0,
              "ticks": ""
             }
            },
            "type": "scattergeo"
           }
          ],
          "scattergl": [
           {
            "marker": {
             "colorbar": {
              "outlinewidth": 0,
              "ticks": ""
             }
            },
            "type": "scattergl"
           }
          ],
          "scattermapbox": [
           {
            "marker": {
             "colorbar": {
              "outlinewidth": 0,
              "ticks": ""
             }
            },
            "type": "scattermapbox"
           }
          ],
          "scatterpolar": [
           {
            "marker": {
             "colorbar": {
              "outlinewidth": 0,
              "ticks": ""
             }
            },
            "type": "scatterpolar"
           }
          ],
          "scatterpolargl": [
           {
            "marker": {
             "colorbar": {
              "outlinewidth": 0,
              "ticks": ""
             }
            },
            "type": "scatterpolargl"
           }
          ],
          "scatterternary": [
           {
            "marker": {
             "colorbar": {
              "outlinewidth": 0,
              "ticks": ""
             }
            },
            "type": "scatterternary"
           }
          ],
          "surface": [
           {
            "colorbar": {
             "outlinewidth": 0,
             "ticks": ""
            },
            "colorscale": [
             [
              0,
              "#0d0887"
             ],
             [
              0.1111111111111111,
              "#46039f"
             ],
             [
              0.2222222222222222,
              "#7201a8"
             ],
             [
              0.3333333333333333,
              "#9c179e"
             ],
             [
              0.4444444444444444,
              "#bd3786"
             ],
             [
              0.5555555555555556,
              "#d8576b"
             ],
             [
              0.6666666666666666,
              "#ed7953"
             ],
             [
              0.7777777777777778,
              "#fb9f3a"
             ],
             [
              0.8888888888888888,
              "#fdca26"
             ],
             [
              1,
              "#f0f921"
             ]
            ],
            "type": "surface"
           }
          ],
          "table": [
           {
            "cells": {
             "fill": {
              "color": "#EBF0F8"
             },
             "line": {
              "color": "white"
             }
            },
            "header": {
             "fill": {
              "color": "#C8D4E3"
             },
             "line": {
              "color": "white"
             }
            },
            "type": "table"
           }
          ]
         },
         "layout": {
          "annotationdefaults": {
           "arrowcolor": "#2a3f5f",
           "arrowhead": 0,
           "arrowwidth": 1
          },
          "autotypenumbers": "strict",
          "coloraxis": {
           "colorbar": {
            "outlinewidth": 0,
            "ticks": ""
           }
          },
          "colorscale": {
           "diverging": [
            [
             0,
             "#8e0152"
            ],
            [
             0.1,
             "#c51b7d"
            ],
            [
             0.2,
             "#de77ae"
            ],
            [
             0.3,
             "#f1b6da"
            ],
            [
             0.4,
             "#fde0ef"
            ],
            [
             0.5,
             "#f7f7f7"
            ],
            [
             0.6,
             "#e6f5d0"
            ],
            [
             0.7,
             "#b8e186"
            ],
            [
             0.8,
             "#7fbc41"
            ],
            [
             0.9,
             "#4d9221"
            ],
            [
             1,
             "#276419"
            ]
           ],
           "sequential": [
            [
             0,
             "#0d0887"
            ],
            [
             0.1111111111111111,
             "#46039f"
            ],
            [
             0.2222222222222222,
             "#7201a8"
            ],
            [
             0.3333333333333333,
             "#9c179e"
            ],
            [
             0.4444444444444444,
             "#bd3786"
            ],
            [
             0.5555555555555556,
             "#d8576b"
            ],
            [
             0.6666666666666666,
             "#ed7953"
            ],
            [
             0.7777777777777778,
             "#fb9f3a"
            ],
            [
             0.8888888888888888,
             "#fdca26"
            ],
            [
             1,
             "#f0f921"
            ]
           ],
           "sequentialminus": [
            [
             0,
             "#0d0887"
            ],
            [
             0.1111111111111111,
             "#46039f"
            ],
            [
             0.2222222222222222,
             "#7201a8"
            ],
            [
             0.3333333333333333,
             "#9c179e"
            ],
            [
             0.4444444444444444,
             "#bd3786"
            ],
            [
             0.5555555555555556,
             "#d8576b"
            ],
            [
             0.6666666666666666,
             "#ed7953"
            ],
            [
             0.7777777777777778,
             "#fb9f3a"
            ],
            [
             0.8888888888888888,
             "#fdca26"
            ],
            [
             1,
             "#f0f921"
            ]
           ]
          },
          "colorway": [
           "#636efa",
           "#EF553B",
           "#00cc96",
           "#ab63fa",
           "#FFA15A",
           "#19d3f3",
           "#FF6692",
           "#B6E880",
           "#FF97FF",
           "#FECB52"
          ],
          "font": {
           "color": "#2a3f5f"
          },
          "geo": {
           "bgcolor": "white",
           "lakecolor": "white",
           "landcolor": "#E5ECF6",
           "showlakes": true,
           "showland": true,
           "subunitcolor": "white"
          },
          "hoverlabel": {
           "align": "left"
          },
          "hovermode": "closest",
          "mapbox": {
           "style": "light"
          },
          "paper_bgcolor": "white",
          "plot_bgcolor": "#E5ECF6",
          "polar": {
           "angularaxis": {
            "gridcolor": "white",
            "linecolor": "white",
            "ticks": ""
           },
           "bgcolor": "#E5ECF6",
           "radialaxis": {
            "gridcolor": "white",
            "linecolor": "white",
            "ticks": ""
           }
          },
          "scene": {
           "xaxis": {
            "backgroundcolor": "#E5ECF6",
            "gridcolor": "white",
            "gridwidth": 2,
            "linecolor": "white",
            "showbackground": true,
            "ticks": "",
            "zerolinecolor": "white"
           },
           "yaxis": {
            "backgroundcolor": "#E5ECF6",
            "gridcolor": "white",
            "gridwidth": 2,
            "linecolor": "white",
            "showbackground": true,
            "ticks": "",
            "zerolinecolor": "white"
           },
           "zaxis": {
            "backgroundcolor": "#E5ECF6",
            "gridcolor": "white",
            "gridwidth": 2,
            "linecolor": "white",
            "showbackground": true,
            "ticks": "",
            "zerolinecolor": "white"
           }
          },
          "shapedefaults": {
           "line": {
            "color": "#2a3f5f"
           }
          },
          "ternary": {
           "aaxis": {
            "gridcolor": "white",
            "linecolor": "white",
            "ticks": ""
           },
           "baxis": {
            "gridcolor": "white",
            "linecolor": "white",
            "ticks": ""
           },
           "bgcolor": "#E5ECF6",
           "caxis": {
            "gridcolor": "white",
            "linecolor": "white",
            "ticks": ""
           }
          },
          "title": {
           "x": 0.05
          },
          "xaxis": {
           "automargin": true,
           "gridcolor": "white",
           "linecolor": "white",
           "ticks": "",
           "title": {
            "standoff": 15
           },
           "zerolinecolor": "white",
           "zerolinewidth": 2
          },
          "yaxis": {
           "automargin": true,
           "gridcolor": "white",
           "linecolor": "white",
           "ticks": "",
           "title": {
            "standoff": 15
           },
           "zerolinecolor": "white",
           "zerolinewidth": 2
          }
         }
        },
        "title": {
         "text": "Distribution of Payment Modes"
        }
       }
      }
     },
     "metadata": {},
     "output_type": "display_data"
    }
   ],
   "source": [
    "query4 = (\"SELECT `Payment Mode`, COUNT(*) FROM PERSONAL_EXPENSES GROUP BY `Payment Mode`\")\n",
    "\n",
    "my_cursor.execute(query4)\n",
    "\n",
    "result = my_cursor.fetchall()\n",
    "\n",
    "for x in result:\n",
    "    \n",
    "    print(x)\n",
    "    \n",
    "df_piechart = pd.DataFrame(result, columns=['Payment Mode', 'Count'])\n",
    "    \n",
    "fig = px.pie(df_piechart, values='Count', names='Payment Mode', \n",
    "             title='Distribution of Payment Modes',\n",
    "             color='Payment Mode',\n",
    "             color_discrete_sequence=px.colors.sequential.Rainbow\n",
    ")\n",
    "fig.show()"
   ]
  },
  {
   "cell_type": "code",
   "execution_count": 15,
   "metadata": {},
   "outputs": [
    {
     "name": "stdout",
     "output_type": "stream",
     "text": [
      "('Mortgage Payment', Decimal('733978.94'))\n",
      "('Airfare', Decimal('553544.78'))\n",
      "('Rent Payment', Decimal('497809.30'))\n",
      "('Appliance Purchases', Decimal('381297.72'))\n",
      "('Furnishings', Decimal('276569.18'))\n",
      "('Hotel Accommodation', Decimal('248415.68'))\n",
      "('Dinner At A Restaurant', Decimal('194050.90'))\n",
      "('Fuel Costs', Decimal('131168.46'))\n",
      "('Video Games', Decimal('105345.72'))\n",
      "('Tour Activities', Decimal('88625.32'))\n"
     ]
    },
    {
     "data": {
      "application/vnd.plotly.v1+json": {
       "config": {
        "plotlyServerURL": "https://plot.ly"
       },
       "data": [
        {
         "alignmentgroup": "True",
         "hovertemplate": "Total Amount Paid=%{text}<br>Description=%{x}<extra></extra>",
         "legendgroup": "733978.94",
         "marker": {
          "color": "#636efa",
          "pattern": {
           "shape": ""
          }
         },
         "name": "733978.94",
         "offsetgroup": "733978.94",
         "orientation": "v",
         "showlegend": true,
         "text": [
          733978.94
         ],
         "textposition": "auto",
         "type": "bar",
         "x": [
          "Mortgage Payment"
         ],
         "xaxis": "x",
         "y": [
          733978.94
         ],
         "yaxis": "y"
        },
        {
         "alignmentgroup": "True",
         "hovertemplate": "Total Amount Paid=%{text}<br>Description=%{x}<extra></extra>",
         "legendgroup": "553544.78",
         "marker": {
          "color": "#EF553B",
          "pattern": {
           "shape": ""
          }
         },
         "name": "553544.78",
         "offsetgroup": "553544.78",
         "orientation": "v",
         "showlegend": true,
         "text": [
          553544.78
         ],
         "textposition": "auto",
         "type": "bar",
         "x": [
          "Airfare"
         ],
         "xaxis": "x",
         "y": [
          553544.78
         ],
         "yaxis": "y"
        },
        {
         "alignmentgroup": "True",
         "hovertemplate": "Total Amount Paid=%{text}<br>Description=%{x}<extra></extra>",
         "legendgroup": "497809.30",
         "marker": {
          "color": "#00cc96",
          "pattern": {
           "shape": ""
          }
         },
         "name": "497809.30",
         "offsetgroup": "497809.30",
         "orientation": "v",
         "showlegend": true,
         "text": [
          497809.3
         ],
         "textposition": "auto",
         "type": "bar",
         "x": [
          "Rent Payment"
         ],
         "xaxis": "x",
         "y": [
          497809.3
         ],
         "yaxis": "y"
        },
        {
         "alignmentgroup": "True",
         "hovertemplate": "Total Amount Paid=%{text}<br>Description=%{x}<extra></extra>",
         "legendgroup": "381297.72",
         "marker": {
          "color": "#ab63fa",
          "pattern": {
           "shape": ""
          }
         },
         "name": "381297.72",
         "offsetgroup": "381297.72",
         "orientation": "v",
         "showlegend": true,
         "text": [
          381297.72
         ],
         "textposition": "auto",
         "type": "bar",
         "x": [
          "Appliance Purchases"
         ],
         "xaxis": "x",
         "y": [
          381297.72
         ],
         "yaxis": "y"
        },
        {
         "alignmentgroup": "True",
         "hovertemplate": "Total Amount Paid=%{text}<br>Description=%{x}<extra></extra>",
         "legendgroup": "276569.18",
         "marker": {
          "color": "#FFA15A",
          "pattern": {
           "shape": ""
          }
         },
         "name": "276569.18",
         "offsetgroup": "276569.18",
         "orientation": "v",
         "showlegend": true,
         "text": [
          276569.18
         ],
         "textposition": "auto",
         "type": "bar",
         "x": [
          "Furnishings"
         ],
         "xaxis": "x",
         "y": [
          276569.18
         ],
         "yaxis": "y"
        },
        {
         "alignmentgroup": "True",
         "hovertemplate": "Total Amount Paid=%{text}<br>Description=%{x}<extra></extra>",
         "legendgroup": "248415.68",
         "marker": {
          "color": "#19d3f3",
          "pattern": {
           "shape": ""
          }
         },
         "name": "248415.68",
         "offsetgroup": "248415.68",
         "orientation": "v",
         "showlegend": true,
         "text": [
          248415.68
         ],
         "textposition": "auto",
         "type": "bar",
         "x": [
          "Hotel Accommodation"
         ],
         "xaxis": "x",
         "y": [
          248415.68
         ],
         "yaxis": "y"
        },
        {
         "alignmentgroup": "True",
         "hovertemplate": "Total Amount Paid=%{text}<br>Description=%{x}<extra></extra>",
         "legendgroup": "194050.90",
         "marker": {
          "color": "#FF6692",
          "pattern": {
           "shape": ""
          }
         },
         "name": "194050.90",
         "offsetgroup": "194050.90",
         "orientation": "v",
         "showlegend": true,
         "text": [
          194050.9
         ],
         "textposition": "auto",
         "type": "bar",
         "x": [
          "Dinner At A Restaurant"
         ],
         "xaxis": "x",
         "y": [
          194050.9
         ],
         "yaxis": "y"
        },
        {
         "alignmentgroup": "True",
         "hovertemplate": "Total Amount Paid=%{text}<br>Description=%{x}<extra></extra>",
         "legendgroup": "131168.46",
         "marker": {
          "color": "#B6E880",
          "pattern": {
           "shape": ""
          }
         },
         "name": "131168.46",
         "offsetgroup": "131168.46",
         "orientation": "v",
         "showlegend": true,
         "text": [
          131168.46
         ],
         "textposition": "auto",
         "type": "bar",
         "x": [
          "Fuel Costs"
         ],
         "xaxis": "x",
         "y": [
          131168.46
         ],
         "yaxis": "y"
        },
        {
         "alignmentgroup": "True",
         "hovertemplate": "Total Amount Paid=%{text}<br>Description=%{x}<extra></extra>",
         "legendgroup": "105345.72",
         "marker": {
          "color": "#FF97FF",
          "pattern": {
           "shape": ""
          }
         },
         "name": "105345.72",
         "offsetgroup": "105345.72",
         "orientation": "v",
         "showlegend": true,
         "text": [
          105345.72
         ],
         "textposition": "auto",
         "type": "bar",
         "x": [
          "Video Games"
         ],
         "xaxis": "x",
         "y": [
          105345.72
         ],
         "yaxis": "y"
        },
        {
         "alignmentgroup": "True",
         "hovertemplate": "Total Amount Paid=%{text}<br>Description=%{x}<extra></extra>",
         "legendgroup": "88625.32",
         "marker": {
          "color": "#FECB52",
          "pattern": {
           "shape": ""
          }
         },
         "name": "88625.32",
         "offsetgroup": "88625.32",
         "orientation": "v",
         "showlegend": true,
         "text": [
          88625.32
         ],
         "textposition": "auto",
         "type": "bar",
         "x": [
          "Tour Activities"
         ],
         "xaxis": "x",
         "y": [
          88625.32
         ],
         "yaxis": "y"
        }
       ],
       "layout": {
        "barmode": "relative",
        "legend": {
         "title": {
          "text": "Total Amount Paid"
         },
         "tracegroupgap": 0
        },
        "template": {
         "data": {
          "bar": [
           {
            "error_x": {
             "color": "#2a3f5f"
            },
            "error_y": {
             "color": "#2a3f5f"
            },
            "marker": {
             "line": {
              "color": "#E5ECF6",
              "width": 0.5
             },
             "pattern": {
              "fillmode": "overlay",
              "size": 10,
              "solidity": 0.2
             }
            },
            "type": "bar"
           }
          ],
          "barpolar": [
           {
            "marker": {
             "line": {
              "color": "#E5ECF6",
              "width": 0.5
             },
             "pattern": {
              "fillmode": "overlay",
              "size": 10,
              "solidity": 0.2
             }
            },
            "type": "barpolar"
           }
          ],
          "carpet": [
           {
            "aaxis": {
             "endlinecolor": "#2a3f5f",
             "gridcolor": "white",
             "linecolor": "white",
             "minorgridcolor": "white",
             "startlinecolor": "#2a3f5f"
            },
            "baxis": {
             "endlinecolor": "#2a3f5f",
             "gridcolor": "white",
             "linecolor": "white",
             "minorgridcolor": "white",
             "startlinecolor": "#2a3f5f"
            },
            "type": "carpet"
           }
          ],
          "choropleth": [
           {
            "colorbar": {
             "outlinewidth": 0,
             "ticks": ""
            },
            "type": "choropleth"
           }
          ],
          "contour": [
           {
            "colorbar": {
             "outlinewidth": 0,
             "ticks": ""
            },
            "colorscale": [
             [
              0,
              "#0d0887"
             ],
             [
              0.1111111111111111,
              "#46039f"
             ],
             [
              0.2222222222222222,
              "#7201a8"
             ],
             [
              0.3333333333333333,
              "#9c179e"
             ],
             [
              0.4444444444444444,
              "#bd3786"
             ],
             [
              0.5555555555555556,
              "#d8576b"
             ],
             [
              0.6666666666666666,
              "#ed7953"
             ],
             [
              0.7777777777777778,
              "#fb9f3a"
             ],
             [
              0.8888888888888888,
              "#fdca26"
             ],
             [
              1,
              "#f0f921"
             ]
            ],
            "type": "contour"
           }
          ],
          "contourcarpet": [
           {
            "colorbar": {
             "outlinewidth": 0,
             "ticks": ""
            },
            "type": "contourcarpet"
           }
          ],
          "heatmap": [
           {
            "colorbar": {
             "outlinewidth": 0,
             "ticks": ""
            },
            "colorscale": [
             [
              0,
              "#0d0887"
             ],
             [
              0.1111111111111111,
              "#46039f"
             ],
             [
              0.2222222222222222,
              "#7201a8"
             ],
             [
              0.3333333333333333,
              "#9c179e"
             ],
             [
              0.4444444444444444,
              "#bd3786"
             ],
             [
              0.5555555555555556,
              "#d8576b"
             ],
             [
              0.6666666666666666,
              "#ed7953"
             ],
             [
              0.7777777777777778,
              "#fb9f3a"
             ],
             [
              0.8888888888888888,
              "#fdca26"
             ],
             [
              1,
              "#f0f921"
             ]
            ],
            "type": "heatmap"
           }
          ],
          "heatmapgl": [
           {
            "colorbar": {
             "outlinewidth": 0,
             "ticks": ""
            },
            "colorscale": [
             [
              0,
              "#0d0887"
             ],
             [
              0.1111111111111111,
              "#46039f"
             ],
             [
              0.2222222222222222,
              "#7201a8"
             ],
             [
              0.3333333333333333,
              "#9c179e"
             ],
             [
              0.4444444444444444,
              "#bd3786"
             ],
             [
              0.5555555555555556,
              "#d8576b"
             ],
             [
              0.6666666666666666,
              "#ed7953"
             ],
             [
              0.7777777777777778,
              "#fb9f3a"
             ],
             [
              0.8888888888888888,
              "#fdca26"
             ],
             [
              1,
              "#f0f921"
             ]
            ],
            "type": "heatmapgl"
           }
          ],
          "histogram": [
           {
            "marker": {
             "pattern": {
              "fillmode": "overlay",
              "size": 10,
              "solidity": 0.2
             }
            },
            "type": "histogram"
           }
          ],
          "histogram2d": [
           {
            "colorbar": {
             "outlinewidth": 0,
             "ticks": ""
            },
            "colorscale": [
             [
              0,
              "#0d0887"
             ],
             [
              0.1111111111111111,
              "#46039f"
             ],
             [
              0.2222222222222222,
              "#7201a8"
             ],
             [
              0.3333333333333333,
              "#9c179e"
             ],
             [
              0.4444444444444444,
              "#bd3786"
             ],
             [
              0.5555555555555556,
              "#d8576b"
             ],
             [
              0.6666666666666666,
              "#ed7953"
             ],
             [
              0.7777777777777778,
              "#fb9f3a"
             ],
             [
              0.8888888888888888,
              "#fdca26"
             ],
             [
              1,
              "#f0f921"
             ]
            ],
            "type": "histogram2d"
           }
          ],
          "histogram2dcontour": [
           {
            "colorbar": {
             "outlinewidth": 0,
             "ticks": ""
            },
            "colorscale": [
             [
              0,
              "#0d0887"
             ],
             [
              0.1111111111111111,
              "#46039f"
             ],
             [
              0.2222222222222222,
              "#7201a8"
             ],
             [
              0.3333333333333333,
              "#9c179e"
             ],
             [
              0.4444444444444444,
              "#bd3786"
             ],
             [
              0.5555555555555556,
              "#d8576b"
             ],
             [
              0.6666666666666666,
              "#ed7953"
             ],
             [
              0.7777777777777778,
              "#fb9f3a"
             ],
             [
              0.8888888888888888,
              "#fdca26"
             ],
             [
              1,
              "#f0f921"
             ]
            ],
            "type": "histogram2dcontour"
           }
          ],
          "mesh3d": [
           {
            "colorbar": {
             "outlinewidth": 0,
             "ticks": ""
            },
            "type": "mesh3d"
           }
          ],
          "parcoords": [
           {
            "line": {
             "colorbar": {
              "outlinewidth": 0,
              "ticks": ""
             }
            },
            "type": "parcoords"
           }
          ],
          "pie": [
           {
            "automargin": true,
            "type": "pie"
           }
          ],
          "scatter": [
           {
            "fillpattern": {
             "fillmode": "overlay",
             "size": 10,
             "solidity": 0.2
            },
            "type": "scatter"
           }
          ],
          "scatter3d": [
           {
            "line": {
             "colorbar": {
              "outlinewidth": 0,
              "ticks": ""
             }
            },
            "marker": {
             "colorbar": {
              "outlinewidth": 0,
              "ticks": ""
             }
            },
            "type": "scatter3d"
           }
          ],
          "scattercarpet": [
           {
            "marker": {
             "colorbar": {
              "outlinewidth": 0,
              "ticks": ""
             }
            },
            "type": "scattercarpet"
           }
          ],
          "scattergeo": [
           {
            "marker": {
             "colorbar": {
              "outlinewidth": 0,
              "ticks": ""
             }
            },
            "type": "scattergeo"
           }
          ],
          "scattergl": [
           {
            "marker": {
             "colorbar": {
              "outlinewidth": 0,
              "ticks": ""
             }
            },
            "type": "scattergl"
           }
          ],
          "scattermapbox": [
           {
            "marker": {
             "colorbar": {
              "outlinewidth": 0,
              "ticks": ""
             }
            },
            "type": "scattermapbox"
           }
          ],
          "scatterpolar": [
           {
            "marker": {
             "colorbar": {
              "outlinewidth": 0,
              "ticks": ""
             }
            },
            "type": "scatterpolar"
           }
          ],
          "scatterpolargl": [
           {
            "marker": {
             "colorbar": {
              "outlinewidth": 0,
              "ticks": ""
             }
            },
            "type": "scatterpolargl"
           }
          ],
          "scatterternary": [
           {
            "marker": {
             "colorbar": {
              "outlinewidth": 0,
              "ticks": ""
             }
            },
            "type": "scatterternary"
           }
          ],
          "surface": [
           {
            "colorbar": {
             "outlinewidth": 0,
             "ticks": ""
            },
            "colorscale": [
             [
              0,
              "#0d0887"
             ],
             [
              0.1111111111111111,
              "#46039f"
             ],
             [
              0.2222222222222222,
              "#7201a8"
             ],
             [
              0.3333333333333333,
              "#9c179e"
             ],
             [
              0.4444444444444444,
              "#bd3786"
             ],
             [
              0.5555555555555556,
              "#d8576b"
             ],
             [
              0.6666666666666666,
              "#ed7953"
             ],
             [
              0.7777777777777778,
              "#fb9f3a"
             ],
             [
              0.8888888888888888,
              "#fdca26"
             ],
             [
              1,
              "#f0f921"
             ]
            ],
            "type": "surface"
           }
          ],
          "table": [
           {
            "cells": {
             "fill": {
              "color": "#EBF0F8"
             },
             "line": {
              "color": "white"
             }
            },
            "header": {
             "fill": {
              "color": "#C8D4E3"
             },
             "line": {
              "color": "white"
             }
            },
            "type": "table"
           }
          ]
         },
         "layout": {
          "annotationdefaults": {
           "arrowcolor": "#2a3f5f",
           "arrowhead": 0,
           "arrowwidth": 1
          },
          "autotypenumbers": "strict",
          "coloraxis": {
           "colorbar": {
            "outlinewidth": 0,
            "ticks": ""
           }
          },
          "colorscale": {
           "diverging": [
            [
             0,
             "#8e0152"
            ],
            [
             0.1,
             "#c51b7d"
            ],
            [
             0.2,
             "#de77ae"
            ],
            [
             0.3,
             "#f1b6da"
            ],
            [
             0.4,
             "#fde0ef"
            ],
            [
             0.5,
             "#f7f7f7"
            ],
            [
             0.6,
             "#e6f5d0"
            ],
            [
             0.7,
             "#b8e186"
            ],
            [
             0.8,
             "#7fbc41"
            ],
            [
             0.9,
             "#4d9221"
            ],
            [
             1,
             "#276419"
            ]
           ],
           "sequential": [
            [
             0,
             "#0d0887"
            ],
            [
             0.1111111111111111,
             "#46039f"
            ],
            [
             0.2222222222222222,
             "#7201a8"
            ],
            [
             0.3333333333333333,
             "#9c179e"
            ],
            [
             0.4444444444444444,
             "#bd3786"
            ],
            [
             0.5555555555555556,
             "#d8576b"
            ],
            [
             0.6666666666666666,
             "#ed7953"
            ],
            [
             0.7777777777777778,
             "#fb9f3a"
            ],
            [
             0.8888888888888888,
             "#fdca26"
            ],
            [
             1,
             "#f0f921"
            ]
           ],
           "sequentialminus": [
            [
             0,
             "#0d0887"
            ],
            [
             0.1111111111111111,
             "#46039f"
            ],
            [
             0.2222222222222222,
             "#7201a8"
            ],
            [
             0.3333333333333333,
             "#9c179e"
            ],
            [
             0.4444444444444444,
             "#bd3786"
            ],
            [
             0.5555555555555556,
             "#d8576b"
            ],
            [
             0.6666666666666666,
             "#ed7953"
            ],
            [
             0.7777777777777778,
             "#fb9f3a"
            ],
            [
             0.8888888888888888,
             "#fdca26"
            ],
            [
             1,
             "#f0f921"
            ]
           ]
          },
          "colorway": [
           "#636efa",
           "#EF553B",
           "#00cc96",
           "#ab63fa",
           "#FFA15A",
           "#19d3f3",
           "#FF6692",
           "#B6E880",
           "#FF97FF",
           "#FECB52"
          ],
          "font": {
           "color": "#2a3f5f"
          },
          "geo": {
           "bgcolor": "white",
           "lakecolor": "white",
           "landcolor": "#E5ECF6",
           "showlakes": true,
           "showland": true,
           "subunitcolor": "white"
          },
          "hoverlabel": {
           "align": "left"
          },
          "hovermode": "closest",
          "mapbox": {
           "style": "light"
          },
          "paper_bgcolor": "white",
          "plot_bgcolor": "#E5ECF6",
          "polar": {
           "angularaxis": {
            "gridcolor": "white",
            "linecolor": "white",
            "ticks": ""
           },
           "bgcolor": "#E5ECF6",
           "radialaxis": {
            "gridcolor": "white",
            "linecolor": "white",
            "ticks": ""
           }
          },
          "scene": {
           "xaxis": {
            "backgroundcolor": "#E5ECF6",
            "gridcolor": "white",
            "gridwidth": 2,
            "linecolor": "white",
            "showbackground": true,
            "ticks": "",
            "zerolinecolor": "white"
           },
           "yaxis": {
            "backgroundcolor": "#E5ECF6",
            "gridcolor": "white",
            "gridwidth": 2,
            "linecolor": "white",
            "showbackground": true,
            "ticks": "",
            "zerolinecolor": "white"
           },
           "zaxis": {
            "backgroundcolor": "#E5ECF6",
            "gridcolor": "white",
            "gridwidth": 2,
            "linecolor": "white",
            "showbackground": true,
            "ticks": "",
            "zerolinecolor": "white"
           }
          },
          "shapedefaults": {
           "line": {
            "color": "#2a3f5f"
           }
          },
          "ternary": {
           "aaxis": {
            "gridcolor": "white",
            "linecolor": "white",
            "ticks": ""
           },
           "baxis": {
            "gridcolor": "white",
            "linecolor": "white",
            "ticks": ""
           },
           "bgcolor": "#E5ECF6",
           "caxis": {
            "gridcolor": "white",
            "linecolor": "white",
            "ticks": ""
           }
          },
          "title": {
           "x": 0.05
          },
          "xaxis": {
           "automargin": true,
           "gridcolor": "white",
           "linecolor": "white",
           "ticks": "",
           "title": {
            "standoff": 15
           },
           "zerolinecolor": "white",
           "zerolinewidth": 2
          },
          "yaxis": {
           "automargin": true,
           "gridcolor": "white",
           "linecolor": "white",
           "ticks": "",
           "title": {
            "standoff": 15
           },
           "zerolinecolor": "white",
           "zerolinewidth": 2
          }
         }
        },
        "title": {
         "text": "Top 10 Description By Total Amount Paid"
        },
        "xaxis": {
         "anchor": "y",
         "domain": [
          0,
          1
         ],
         "title": {
          "text": "Description"
         }
        },
        "yaxis": {
         "anchor": "x",
         "categoryarray": [
          88625.32,
          105345.72,
          131168.46,
          194050.9,
          248415.68,
          276569.18,
          381297.72,
          497809.3,
          553544.78,
          733978.94
         ],
         "categoryorder": "array",
         "domain": [
          0,
          1
         ],
         "title": {
          "text": "Total Amount Paid"
         }
        }
       }
      }
     },
     "metadata": {},
     "output_type": "display_data"
    }
   ],
   "source": [
    "query5 = (\"SELECT Description, SUM(`Amount Paid`) FROM PERSONAL_EXPENSES GROUP BY Description ORDER BY SUM(`Amount Paid`) DESC LIMIT 10\")\n",
    "\n",
    "\n",
    "my_cursor.execute(query5)\n",
    "\n",
    "top_expenses_result = my_cursor.fetchall()\n",
    "\n",
    "for x in top_expenses_result:\n",
    "    \n",
    "    print(x)\n",
    "    \n",
    "top_expenses_df = pd.DataFrame(top_expenses_result, columns=[\"Description\", \"Total Amount Paid\"])\n",
    "\n",
    "fig  = px.bar(top_expenses_df,x = \"Description\", y = \"Total Amount Paid\",\n",
    "            title=\"Top 10 Description By Total Amount Paid\",\n",
    "            color= \"Total Amount Paid\",\n",
    "            text= \"Total Amount Paid\",\n",
    "            color_continuous_scale=px.colors.sequential.Inferno)\n",
    "    \n",
    "fig.show()\n"
   ]
  },
  {
   "cell_type": "code",
   "execution_count": 16,
   "metadata": {},
   "outputs": [
    {
     "name": "stdout",
     "output_type": "stream",
     "text": [
      "(487, datetime.date(2023, 5, 25), 'Travel', 'Online', 'Airfare', Decimal('42455.96'), Decimal('3919.34'))\n",
      "(598, datetime.date(2023, 6, 30), 'Travel', 'Online', 'Airfare', Decimal('43043.98'), Decimal('599.01'))\n",
      "(626, datetime.date(2023, 7, 8), 'Travel', 'Cash', 'Airfare', Decimal('40160.03'), Decimal('2001.71'))\n",
      "(731, datetime.date(2023, 8, 9), 'Travel', 'Online', 'Airfare', Decimal('40630.31'), Decimal('3097.97'))\n",
      "(893, datetime.date(2023, 9, 27), 'Travel', 'Online', 'Airfare', Decimal('45263.34'), Decimal('1402.38'))\n",
      "(1687, datetime.date(2023, 5, 25), 'Travel', 'Online', 'Airfare', Decimal('42455.96'), Decimal('3919.34'))\n",
      "(1798, datetime.date(2023, 6, 30), 'Travel', 'Online', 'Airfare', Decimal('43043.98'), Decimal('599.01'))\n",
      "(1826, datetime.date(2023, 7, 8), 'Travel', 'Cash', 'Airfare', Decimal('40160.03'), Decimal('2001.71'))\n",
      "(1931, datetime.date(2023, 8, 9), 'Travel', 'Online', 'Airfare', Decimal('40630.31'), Decimal('3097.97'))\n",
      "(2093, datetime.date(2023, 9, 27), 'Travel', 'Online', 'Airfare', Decimal('45263.34'), Decimal('1402.38'))\n"
     ]
    },
    {
     "data": {
      "application/vnd.plotly.v1+json": {
       "config": {
        "plotlyServerURL": "https://plot.ly"
       },
       "data": [
        {
         "alignmentgroup": "True",
         "hovertemplate": "Amount Paid=%{text}<br>Category=%{x}<extra></extra>",
         "legendgroup": "42455.96",
         "marker": {
          "color": "#f0f921",
          "pattern": {
           "shape": ""
          }
         },
         "name": "42455.96",
         "offsetgroup": "42455.96",
         "orientation": "v",
         "showlegend": true,
         "text": [
          42455.96,
          42455.96
         ],
         "textposition": "auto",
         "type": "bar",
         "x": [
          "Travel",
          "Travel"
         ],
         "xaxis": "x",
         "y": [
          42455.96,
          42455.96
         ],
         "yaxis": "y"
        },
        {
         "alignmentgroup": "True",
         "hovertemplate": "Amount Paid=%{text}<br>Category=%{x}<extra></extra>",
         "legendgroup": "43043.98",
         "marker": {
          "color": "#fdca26",
          "pattern": {
           "shape": ""
          }
         },
         "name": "43043.98",
         "offsetgroup": "43043.98",
         "orientation": "v",
         "showlegend": true,
         "text": [
          43043.98,
          43043.98
         ],
         "textposition": "auto",
         "type": "bar",
         "x": [
          "Travel",
          "Travel"
         ],
         "xaxis": "x",
         "y": [
          43043.98,
          43043.98
         ],
         "yaxis": "y"
        },
        {
         "alignmentgroup": "True",
         "hovertemplate": "Amount Paid=%{text}<br>Category=%{x}<extra></extra>",
         "legendgroup": "40160.03",
         "marker": {
          "color": "#fb9f3a",
          "pattern": {
           "shape": ""
          }
         },
         "name": "40160.03",
         "offsetgroup": "40160.03",
         "orientation": "v",
         "showlegend": true,
         "text": [
          40160.03,
          40160.03
         ],
         "textposition": "auto",
         "type": "bar",
         "x": [
          "Travel",
          "Travel"
         ],
         "xaxis": "x",
         "y": [
          40160.03,
          40160.03
         ],
         "yaxis": "y"
        },
        {
         "alignmentgroup": "True",
         "hovertemplate": "Amount Paid=%{text}<br>Category=%{x}<extra></extra>",
         "legendgroup": "40630.31",
         "marker": {
          "color": "#ed7953",
          "pattern": {
           "shape": ""
          }
         },
         "name": "40630.31",
         "offsetgroup": "40630.31",
         "orientation": "v",
         "showlegend": true,
         "text": [
          40630.31,
          40630.31
         ],
         "textposition": "auto",
         "type": "bar",
         "x": [
          "Travel",
          "Travel"
         ],
         "xaxis": "x",
         "y": [
          40630.31,
          40630.31
         ],
         "yaxis": "y"
        },
        {
         "alignmentgroup": "True",
         "hovertemplate": "Amount Paid=%{text}<br>Category=%{x}<extra></extra>",
         "legendgroup": "45263.34",
         "marker": {
          "color": "#d8576b",
          "pattern": {
           "shape": ""
          }
         },
         "name": "45263.34",
         "offsetgroup": "45263.34",
         "orientation": "v",
         "showlegend": true,
         "text": [
          45263.34,
          45263.34
         ],
         "textposition": "auto",
         "type": "bar",
         "x": [
          "Travel",
          "Travel"
         ],
         "xaxis": "x",
         "y": [
          45263.34,
          45263.34
         ],
         "yaxis": "y"
        }
       ],
       "layout": {
        "barmode": "relative",
        "legend": {
         "title": {
          "text": "Amount Paid"
         },
         "tracegroupgap": 0
        },
        "template": {
         "data": {
          "bar": [
           {
            "error_x": {
             "color": "#2a3f5f"
            },
            "error_y": {
             "color": "#2a3f5f"
            },
            "marker": {
             "line": {
              "color": "#E5ECF6",
              "width": 0.5
             },
             "pattern": {
              "fillmode": "overlay",
              "size": 10,
              "solidity": 0.2
             }
            },
            "type": "bar"
           }
          ],
          "barpolar": [
           {
            "marker": {
             "line": {
              "color": "#E5ECF6",
              "width": 0.5
             },
             "pattern": {
              "fillmode": "overlay",
              "size": 10,
              "solidity": 0.2
             }
            },
            "type": "barpolar"
           }
          ],
          "carpet": [
           {
            "aaxis": {
             "endlinecolor": "#2a3f5f",
             "gridcolor": "white",
             "linecolor": "white",
             "minorgridcolor": "white",
             "startlinecolor": "#2a3f5f"
            },
            "baxis": {
             "endlinecolor": "#2a3f5f",
             "gridcolor": "white",
             "linecolor": "white",
             "minorgridcolor": "white",
             "startlinecolor": "#2a3f5f"
            },
            "type": "carpet"
           }
          ],
          "choropleth": [
           {
            "colorbar": {
             "outlinewidth": 0,
             "ticks": ""
            },
            "type": "choropleth"
           }
          ],
          "contour": [
           {
            "colorbar": {
             "outlinewidth": 0,
             "ticks": ""
            },
            "colorscale": [
             [
              0,
              "#0d0887"
             ],
             [
              0.1111111111111111,
              "#46039f"
             ],
             [
              0.2222222222222222,
              "#7201a8"
             ],
             [
              0.3333333333333333,
              "#9c179e"
             ],
             [
              0.4444444444444444,
              "#bd3786"
             ],
             [
              0.5555555555555556,
              "#d8576b"
             ],
             [
              0.6666666666666666,
              "#ed7953"
             ],
             [
              0.7777777777777778,
              "#fb9f3a"
             ],
             [
              0.8888888888888888,
              "#fdca26"
             ],
             [
              1,
              "#f0f921"
             ]
            ],
            "type": "contour"
           }
          ],
          "contourcarpet": [
           {
            "colorbar": {
             "outlinewidth": 0,
             "ticks": ""
            },
            "type": "contourcarpet"
           }
          ],
          "heatmap": [
           {
            "colorbar": {
             "outlinewidth": 0,
             "ticks": ""
            },
            "colorscale": [
             [
              0,
              "#0d0887"
             ],
             [
              0.1111111111111111,
              "#46039f"
             ],
             [
              0.2222222222222222,
              "#7201a8"
             ],
             [
              0.3333333333333333,
              "#9c179e"
             ],
             [
              0.4444444444444444,
              "#bd3786"
             ],
             [
              0.5555555555555556,
              "#d8576b"
             ],
             [
              0.6666666666666666,
              "#ed7953"
             ],
             [
              0.7777777777777778,
              "#fb9f3a"
             ],
             [
              0.8888888888888888,
              "#fdca26"
             ],
             [
              1,
              "#f0f921"
             ]
            ],
            "type": "heatmap"
           }
          ],
          "heatmapgl": [
           {
            "colorbar": {
             "outlinewidth": 0,
             "ticks": ""
            },
            "colorscale": [
             [
              0,
              "#0d0887"
             ],
             [
              0.1111111111111111,
              "#46039f"
             ],
             [
              0.2222222222222222,
              "#7201a8"
             ],
             [
              0.3333333333333333,
              "#9c179e"
             ],
             [
              0.4444444444444444,
              "#bd3786"
             ],
             [
              0.5555555555555556,
              "#d8576b"
             ],
             [
              0.6666666666666666,
              "#ed7953"
             ],
             [
              0.7777777777777778,
              "#fb9f3a"
             ],
             [
              0.8888888888888888,
              "#fdca26"
             ],
             [
              1,
              "#f0f921"
             ]
            ],
            "type": "heatmapgl"
           }
          ],
          "histogram": [
           {
            "marker": {
             "pattern": {
              "fillmode": "overlay",
              "size": 10,
              "solidity": 0.2
             }
            },
            "type": "histogram"
           }
          ],
          "histogram2d": [
           {
            "colorbar": {
             "outlinewidth": 0,
             "ticks": ""
            },
            "colorscale": [
             [
              0,
              "#0d0887"
             ],
             [
              0.1111111111111111,
              "#46039f"
             ],
             [
              0.2222222222222222,
              "#7201a8"
             ],
             [
              0.3333333333333333,
              "#9c179e"
             ],
             [
              0.4444444444444444,
              "#bd3786"
             ],
             [
              0.5555555555555556,
              "#d8576b"
             ],
             [
              0.6666666666666666,
              "#ed7953"
             ],
             [
              0.7777777777777778,
              "#fb9f3a"
             ],
             [
              0.8888888888888888,
              "#fdca26"
             ],
             [
              1,
              "#f0f921"
             ]
            ],
            "type": "histogram2d"
           }
          ],
          "histogram2dcontour": [
           {
            "colorbar": {
             "outlinewidth": 0,
             "ticks": ""
            },
            "colorscale": [
             [
              0,
              "#0d0887"
             ],
             [
              0.1111111111111111,
              "#46039f"
             ],
             [
              0.2222222222222222,
              "#7201a8"
             ],
             [
              0.3333333333333333,
              "#9c179e"
             ],
             [
              0.4444444444444444,
              "#bd3786"
             ],
             [
              0.5555555555555556,
              "#d8576b"
             ],
             [
              0.6666666666666666,
              "#ed7953"
             ],
             [
              0.7777777777777778,
              "#fb9f3a"
             ],
             [
              0.8888888888888888,
              "#fdca26"
             ],
             [
              1,
              "#f0f921"
             ]
            ],
            "type": "histogram2dcontour"
           }
          ],
          "mesh3d": [
           {
            "colorbar": {
             "outlinewidth": 0,
             "ticks": ""
            },
            "type": "mesh3d"
           }
          ],
          "parcoords": [
           {
            "line": {
             "colorbar": {
              "outlinewidth": 0,
              "ticks": ""
             }
            },
            "type": "parcoords"
           }
          ],
          "pie": [
           {
            "automargin": true,
            "type": "pie"
           }
          ],
          "scatter": [
           {
            "fillpattern": {
             "fillmode": "overlay",
             "size": 10,
             "solidity": 0.2
            },
            "type": "scatter"
           }
          ],
          "scatter3d": [
           {
            "line": {
             "colorbar": {
              "outlinewidth": 0,
              "ticks": ""
             }
            },
            "marker": {
             "colorbar": {
              "outlinewidth": 0,
              "ticks": ""
             }
            },
            "type": "scatter3d"
           }
          ],
          "scattercarpet": [
           {
            "marker": {
             "colorbar": {
              "outlinewidth": 0,
              "ticks": ""
             }
            },
            "type": "scattercarpet"
           }
          ],
          "scattergeo": [
           {
            "marker": {
             "colorbar": {
              "outlinewidth": 0,
              "ticks": ""
             }
            },
            "type": "scattergeo"
           }
          ],
          "scattergl": [
           {
            "marker": {
             "colorbar": {
              "outlinewidth": 0,
              "ticks": ""
             }
            },
            "type": "scattergl"
           }
          ],
          "scattermapbox": [
           {
            "marker": {
             "colorbar": {
              "outlinewidth": 0,
              "ticks": ""
             }
            },
            "type": "scattermapbox"
           }
          ],
          "scatterpolar": [
           {
            "marker": {
             "colorbar": {
              "outlinewidth": 0,
              "ticks": ""
             }
            },
            "type": "scatterpolar"
           }
          ],
          "scatterpolargl": [
           {
            "marker": {
             "colorbar": {
              "outlinewidth": 0,
              "ticks": ""
             }
            },
            "type": "scatterpolargl"
           }
          ],
          "scatterternary": [
           {
            "marker": {
             "colorbar": {
              "outlinewidth": 0,
              "ticks": ""
             }
            },
            "type": "scatterternary"
           }
          ],
          "surface": [
           {
            "colorbar": {
             "outlinewidth": 0,
             "ticks": ""
            },
            "colorscale": [
             [
              0,
              "#0d0887"
             ],
             [
              0.1111111111111111,
              "#46039f"
             ],
             [
              0.2222222222222222,
              "#7201a8"
             ],
             [
              0.3333333333333333,
              "#9c179e"
             ],
             [
              0.4444444444444444,
              "#bd3786"
             ],
             [
              0.5555555555555556,
              "#d8576b"
             ],
             [
              0.6666666666666666,
              "#ed7953"
             ],
             [
              0.7777777777777778,
              "#fb9f3a"
             ],
             [
              0.8888888888888888,
              "#fdca26"
             ],
             [
              1,
              "#f0f921"
             ]
            ],
            "type": "surface"
           }
          ],
          "table": [
           {
            "cells": {
             "fill": {
              "color": "#EBF0F8"
             },
             "line": {
              "color": "white"
             }
            },
            "header": {
             "fill": {
              "color": "#C8D4E3"
             },
             "line": {
              "color": "white"
             }
            },
            "type": "table"
           }
          ]
         },
         "layout": {
          "annotationdefaults": {
           "arrowcolor": "#2a3f5f",
           "arrowhead": 0,
           "arrowwidth": 1
          },
          "autotypenumbers": "strict",
          "coloraxis": {
           "colorbar": {
            "outlinewidth": 0,
            "ticks": ""
           }
          },
          "colorscale": {
           "diverging": [
            [
             0,
             "#8e0152"
            ],
            [
             0.1,
             "#c51b7d"
            ],
            [
             0.2,
             "#de77ae"
            ],
            [
             0.3,
             "#f1b6da"
            ],
            [
             0.4,
             "#fde0ef"
            ],
            [
             0.5,
             "#f7f7f7"
            ],
            [
             0.6,
             "#e6f5d0"
            ],
            [
             0.7,
             "#b8e186"
            ],
            [
             0.8,
             "#7fbc41"
            ],
            [
             0.9,
             "#4d9221"
            ],
            [
             1,
             "#276419"
            ]
           ],
           "sequential": [
            [
             0,
             "#0d0887"
            ],
            [
             0.1111111111111111,
             "#46039f"
            ],
            [
             0.2222222222222222,
             "#7201a8"
            ],
            [
             0.3333333333333333,
             "#9c179e"
            ],
            [
             0.4444444444444444,
             "#bd3786"
            ],
            [
             0.5555555555555556,
             "#d8576b"
            ],
            [
             0.6666666666666666,
             "#ed7953"
            ],
            [
             0.7777777777777778,
             "#fb9f3a"
            ],
            [
             0.8888888888888888,
             "#fdca26"
            ],
            [
             1,
             "#f0f921"
            ]
           ],
           "sequentialminus": [
            [
             0,
             "#0d0887"
            ],
            [
             0.1111111111111111,
             "#46039f"
            ],
            [
             0.2222222222222222,
             "#7201a8"
            ],
            [
             0.3333333333333333,
             "#9c179e"
            ],
            [
             0.4444444444444444,
             "#bd3786"
            ],
            [
             0.5555555555555556,
             "#d8576b"
            ],
            [
             0.6666666666666666,
             "#ed7953"
            ],
            [
             0.7777777777777778,
             "#fb9f3a"
            ],
            [
             0.8888888888888888,
             "#fdca26"
            ],
            [
             1,
             "#f0f921"
            ]
           ]
          },
          "colorway": [
           "#636efa",
           "#EF553B",
           "#00cc96",
           "#ab63fa",
           "#FFA15A",
           "#19d3f3",
           "#FF6692",
           "#B6E880",
           "#FF97FF",
           "#FECB52"
          ],
          "font": {
           "color": "#2a3f5f"
          },
          "geo": {
           "bgcolor": "white",
           "lakecolor": "white",
           "landcolor": "#E5ECF6",
           "showlakes": true,
           "showland": true,
           "subunitcolor": "white"
          },
          "hoverlabel": {
           "align": "left"
          },
          "hovermode": "closest",
          "mapbox": {
           "style": "light"
          },
          "paper_bgcolor": "white",
          "plot_bgcolor": "#E5ECF6",
          "polar": {
           "angularaxis": {
            "gridcolor": "white",
            "linecolor": "white",
            "ticks": ""
           },
           "bgcolor": "#E5ECF6",
           "radialaxis": {
            "gridcolor": "white",
            "linecolor": "white",
            "ticks": ""
           }
          },
          "scene": {
           "xaxis": {
            "backgroundcolor": "#E5ECF6",
            "gridcolor": "white",
            "gridwidth": 2,
            "linecolor": "white",
            "showbackground": true,
            "ticks": "",
            "zerolinecolor": "white"
           },
           "yaxis": {
            "backgroundcolor": "#E5ECF6",
            "gridcolor": "white",
            "gridwidth": 2,
            "linecolor": "white",
            "showbackground": true,
            "ticks": "",
            "zerolinecolor": "white"
           },
           "zaxis": {
            "backgroundcolor": "#E5ECF6",
            "gridcolor": "white",
            "gridwidth": 2,
            "linecolor": "white",
            "showbackground": true,
            "ticks": "",
            "zerolinecolor": "white"
           }
          },
          "shapedefaults": {
           "line": {
            "color": "#2a3f5f"
           }
          },
          "ternary": {
           "aaxis": {
            "gridcolor": "white",
            "linecolor": "white",
            "ticks": ""
           },
           "baxis": {
            "gridcolor": "white",
            "linecolor": "white",
            "ticks": ""
           },
           "bgcolor": "#E5ECF6",
           "caxis": {
            "gridcolor": "white",
            "linecolor": "white",
            "ticks": ""
           }
          },
          "title": {
           "x": 0.05
          },
          "xaxis": {
           "automargin": true,
           "gridcolor": "white",
           "linecolor": "white",
           "ticks": "",
           "title": {
            "standoff": 15
           },
           "zerolinecolor": "white",
           "zerolinewidth": 2
          },
          "yaxis": {
           "automargin": true,
           "gridcolor": "white",
           "linecolor": "white",
           "ticks": "",
           "title": {
            "standoff": 15
           },
           "zerolinecolor": "white",
           "zerolinewidth": 2
          }
         }
        },
        "title": {
         "text": "Transactions Above 40,000 by Category"
        },
        "xaxis": {
         "anchor": "y",
         "domain": [
          0,
          1
         ],
         "title": {
          "text": "Category"
         }
        },
        "yaxis": {
         "anchor": "x",
         "categoryarray": [
          45263.34,
          40630.31,
          40160.03,
          43043.98,
          42455.96
         ],
         "categoryorder": "array",
         "domain": [
          0,
          1
         ],
         "title": {
          "text": "Amount Paid"
         }
        }
       }
      }
     },
     "metadata": {},
     "output_type": "display_data"
    }
   ],
   "source": [
    "# Transactions with amount > 40000\n",
    "\n",
    "query6 = (\"SELECT * FROM PERSONAL_EXPENSES WHERE `Amount Paid` > 40000\")\n",
    "\n",
    "my_cursor.execute(query6)\n",
    "\n",
    "transaction_above_40000 = my_cursor.fetchall()\n",
    "\n",
    "for x in transaction_above_40000:\n",
    "    \n",
    "    print(x)\n",
    "    \n",
    "transaction_above_40000_df =pd.DataFrame(transaction_above_40000)\n",
    "    \n",
    "column_names = [i[0] for i in my_cursor.description]\n",
    "transaction_above_40000_df.columns = column_names \n",
    "\n",
    "fig = px.bar(transaction_above_40000_df, x=\"Category\", y=\"Amount Paid\",\n",
    "             title=\"Transactions Above 40,000 by Category\",\n",
    "             color=\"Amount Paid\",\n",
    "             text=\"Amount Paid\",\n",
    "             color_discrete_sequence= px.colors.sequential.Plasma_r)\n",
    "\n",
    "fig.show()\n"
   ]
  },
  {
   "cell_type": "code",
   "execution_count": 17,
   "metadata": {},
   "outputs": [
    {
     "name": "stdout",
     "output_type": "stream",
     "text": [
      "(datetime.date(2023, 1, 1), Decimal('16353.46'))\n",
      "(datetime.date(2023, 1, 2), Decimal('700.70'))\n",
      "(datetime.date(2023, 1, 3), Decimal('4411.02'))\n",
      "(datetime.date(2023, 1, 4), Decimal('1530.38'))\n",
      "(datetime.date(2023, 1, 5), Decimal('3894.10'))\n",
      "(datetime.date(2023, 1, 6), Decimal('45354.06'))\n",
      "(datetime.date(2023, 1, 7), Decimal('5061.80'))\n",
      "(datetime.date(2023, 1, 8), Decimal('72604.60'))\n",
      "(datetime.date(2023, 1, 9), Decimal('10370.42'))\n",
      "(datetime.date(2023, 1, 10), Decimal('20682.64'))\n",
      "(datetime.date(2023, 1, 11), Decimal('675.18'))\n",
      "(datetime.date(2023, 1, 12), Decimal('3876.92'))\n",
      "(datetime.date(2023, 1, 13), Decimal('31619.18'))\n",
      "(datetime.date(2023, 1, 14), Decimal('4442.46'))\n",
      "(datetime.date(2023, 1, 15), Decimal('13060.86'))\n",
      "(datetime.date(2023, 1, 16), Decimal('23122.26'))\n",
      "(datetime.date(2023, 1, 17), Decimal('10612.78'))\n",
      "(datetime.date(2023, 1, 18), Decimal('18114.90'))\n",
      "(datetime.date(2023, 1, 19), Decimal('7056.10'))\n",
      "(datetime.date(2023, 1, 20), Decimal('9997.66'))\n",
      "(datetime.date(2023, 1, 21), Decimal('25776.86'))\n",
      "(datetime.date(2023, 1, 22), Decimal('39836.12'))\n",
      "(datetime.date(2023, 1, 23), Decimal('11110.46'))\n",
      "(datetime.date(2023, 1, 24), Decimal('2874.98'))\n",
      "(datetime.date(2023, 1, 25), Decimal('3280.28'))\n",
      "(datetime.date(2023, 1, 26), Decimal('10079.50'))\n",
      "(datetime.date(2023, 1, 27), Decimal('6908.50'))\n",
      "(datetime.date(2023, 1, 28), Decimal('17291.18'))\n",
      "(datetime.date(2023, 1, 29), Decimal('16791.56'))\n",
      "(datetime.date(2023, 2, 1), Decimal('42353.38'))\n",
      "(datetime.date(2023, 2, 2), Decimal('2645.40'))\n",
      "(datetime.date(2023, 2, 3), Decimal('15892.88'))\n",
      "(datetime.date(2023, 2, 4), Decimal('2352.30'))\n",
      "(datetime.date(2023, 2, 5), Decimal('7564.64'))\n",
      "(datetime.date(2023, 2, 6), Decimal('3962.42'))\n",
      "(datetime.date(2023, 2, 7), Decimal('16935.52'))\n",
      "(datetime.date(2023, 2, 8), Decimal('12497.42'))\n",
      "(datetime.date(2023, 2, 9), Decimal('61529.76'))\n",
      "(datetime.date(2023, 2, 10), Decimal('3168.48'))\n",
      "(datetime.date(2023, 2, 11), Decimal('3485.14'))\n",
      "(datetime.date(2023, 2, 12), Decimal('7203.10'))\n",
      "(datetime.date(2023, 2, 13), Decimal('39694.42'))\n",
      "(datetime.date(2023, 2, 14), Decimal('54616.38'))\n",
      "(datetime.date(2023, 2, 15), Decimal('40606.86'))\n",
      "(datetime.date(2023, 2, 16), Decimal('2962.30'))\n",
      "(datetime.date(2023, 2, 17), Decimal('12957.14'))\n",
      "(datetime.date(2023, 2, 18), Decimal('8459.64'))\n",
      "(datetime.date(2023, 2, 19), Decimal('36422.10'))\n",
      "(datetime.date(2023, 2, 20), Decimal('8492.16'))\n",
      "(datetime.date(2023, 2, 21), Decimal('7941.76'))\n",
      "(datetime.date(2023, 2, 22), Decimal('20002.70'))\n",
      "(datetime.date(2023, 2, 23), Decimal('8845.74'))\n",
      "(datetime.date(2023, 2, 24), Decimal('85548.34'))\n",
      "(datetime.date(2023, 2, 25), Decimal('748.22'))\n",
      "(datetime.date(2023, 2, 26), Decimal('1997.50'))\n",
      "(datetime.date(2023, 2, 27), Decimal('12154.18'))\n",
      "(datetime.date(2023, 2, 28), Decimal('3283.64'))\n",
      "(datetime.date(2023, 3, 1), Decimal('9255.24'))\n",
      "(datetime.date(2023, 3, 2), Decimal('34781.78'))\n",
      "(datetime.date(2023, 3, 3), Decimal('6180.08'))\n",
      "(datetime.date(2023, 3, 4), Decimal('16559.10'))\n",
      "(datetime.date(2023, 3, 5), Decimal('8031.82'))\n",
      "(datetime.date(2023, 3, 6), Decimal('59319.46'))\n",
      "(datetime.date(2023, 3, 7), Decimal('7509.90'))\n",
      "(datetime.date(2023, 3, 8), Decimal('2683.58'))\n",
      "(datetime.date(2023, 3, 9), Decimal('15610.94'))\n",
      "(datetime.date(2023, 3, 10), Decimal('39780.62'))\n",
      "(datetime.date(2023, 3, 11), Decimal('8201.18'))\n",
      "(datetime.date(2023, 3, 12), Decimal('4529.94'))\n",
      "(datetime.date(2023, 3, 13), Decimal('9874.74'))\n",
      "(datetime.date(2023, 3, 14), Decimal('11073.96'))\n",
      "(datetime.date(2023, 3, 15), Decimal('9663.02'))\n",
      "(datetime.date(2023, 3, 16), Decimal('460.60'))\n",
      "(datetime.date(2023, 3, 17), Decimal('13825.62'))\n",
      "(datetime.date(2023, 3, 18), Decimal('16243.72'))\n",
      "(datetime.date(2023, 3, 19), Decimal('20337.56'))\n",
      "(datetime.date(2023, 3, 20), Decimal('24900.80'))\n",
      "(datetime.date(2023, 3, 21), Decimal('7316.24'))\n",
      "(datetime.date(2023, 3, 22), Decimal('12220.68'))\n",
      "(datetime.date(2023, 3, 23), Decimal('22148.70'))\n",
      "(datetime.date(2023, 3, 24), Decimal('9030.40'))\n",
      "(datetime.date(2023, 3, 25), Decimal('2638.46'))\n",
      "(datetime.date(2023, 3, 26), Decimal('22275.56'))\n",
      "(datetime.date(2023, 3, 27), Decimal('53337.38'))\n",
      "(datetime.date(2023, 3, 28), Decimal('9427.30'))\n",
      "(datetime.date(2023, 3, 29), Decimal('16666.22'))\n",
      "(datetime.date(2023, 4, 1), Decimal('4388.34'))\n",
      "(datetime.date(2023, 4, 2), Decimal('7602.04'))\n",
      "(datetime.date(2023, 4, 3), Decimal('6267.88'))\n",
      "(datetime.date(2023, 4, 4), Decimal('10620.00'))\n",
      "(datetime.date(2023, 4, 5), Decimal('2072.56'))\n",
      "(datetime.date(2023, 4, 6), Decimal('14382.06'))\n",
      "(datetime.date(2023, 4, 7), Decimal('44306.70'))\n",
      "(datetime.date(2023, 4, 8), Decimal('11219.04'))\n",
      "(datetime.date(2023, 4, 9), Decimal('2929.28'))\n",
      "(datetime.date(2023, 4, 10), Decimal('5046.02'))\n",
      "(datetime.date(2023, 4, 11), Decimal('42149.46'))\n",
      "(datetime.date(2023, 4, 12), Decimal('52189.94'))\n",
      "(datetime.date(2023, 4, 13), Decimal('24117.66'))\n",
      "(datetime.date(2023, 4, 14), Decimal('8487.06'))\n",
      "(datetime.date(2023, 4, 15), Decimal('9258.34'))\n",
      "(datetime.date(2023, 4, 16), Decimal('3820.94'))\n",
      "(datetime.date(2023, 4, 17), Decimal('17755.16'))\n",
      "(datetime.date(2023, 4, 18), Decimal('2038.12'))\n",
      "(datetime.date(2023, 4, 19), Decimal('8450.10'))\n",
      "(datetime.date(2023, 4, 20), Decimal('12881.58'))\n",
      "(datetime.date(2023, 4, 21), Decimal('14788.76'))\n",
      "(datetime.date(2023, 4, 22), Decimal('16569.28'))\n",
      "(datetime.date(2023, 4, 23), Decimal('32396.92'))\n",
      "(datetime.date(2023, 4, 24), Decimal('9151.80'))\n",
      "(datetime.date(2023, 4, 25), Decimal('15002.14'))\n",
      "(datetime.date(2023, 4, 26), Decimal('2192.06'))\n",
      "(datetime.date(2023, 4, 27), Decimal('26616.00'))\n",
      "(datetime.date(2023, 4, 28), Decimal('4056.40'))\n",
      "(datetime.date(2023, 5, 1), Decimal('4138.78'))\n",
      "(datetime.date(2023, 5, 2), Decimal('6952.36'))\n",
      "(datetime.date(2023, 5, 3), Decimal('13177.76'))\n",
      "(datetime.date(2023, 5, 4), Decimal('57836.76'))\n",
      "(datetime.date(2023, 5, 5), Decimal('11315.94'))\n",
      "(datetime.date(2023, 5, 6), Decimal('8617.80'))\n",
      "(datetime.date(2023, 5, 7), Decimal('15812.56'))\n",
      "(datetime.date(2023, 5, 8), Decimal('25649.18'))\n",
      "(datetime.date(2023, 5, 9), Decimal('10916.06'))\n",
      "(datetime.date(2023, 5, 10), Decimal('9246.30'))\n",
      "(datetime.date(2023, 5, 11), Decimal('5494.70'))\n",
      "(datetime.date(2023, 5, 12), Decimal('13272.38'))\n",
      "(datetime.date(2023, 5, 13), Decimal('19366.94'))\n",
      "(datetime.date(2023, 5, 14), Decimal('52800.12'))\n",
      "(datetime.date(2023, 5, 15), Decimal('7987.64'))\n",
      "(datetime.date(2023, 5, 16), Decimal('748.24'))\n",
      "(datetime.date(2023, 5, 17), Decimal('8019.80'))\n",
      "(datetime.date(2023, 5, 18), Decimal('22426.40'))\n",
      "(datetime.date(2023, 5, 19), Decimal('11687.80'))\n",
      "(datetime.date(2023, 5, 20), Decimal('10263.80'))\n",
      "(datetime.date(2023, 5, 21), Decimal('5658.48'))\n",
      "(datetime.date(2023, 5, 22), Decimal('28492.42'))\n",
      "(datetime.date(2023, 5, 23), Decimal('989.02'))\n",
      "(datetime.date(2023, 5, 24), Decimal('3835.32'))\n",
      "(datetime.date(2023, 5, 25), Decimal('86875.22'))\n",
      "(datetime.date(2023, 5, 26), Decimal('9988.66'))\n",
      "(datetime.date(2023, 5, 27), Decimal('12642.60'))\n",
      "(datetime.date(2023, 5, 28), Decimal('15985.64'))\n",
      "(datetime.date(2023, 6, 1), Decimal('3311.96'))\n",
      "(datetime.date(2023, 6, 2), Decimal('9860.08'))\n",
      "(datetime.date(2023, 6, 3), Decimal('1397.20'))\n",
      "(datetime.date(2023, 6, 4), Decimal('7206.56'))\n",
      "(datetime.date(2023, 6, 5), Decimal('6678.92'))\n",
      "(datetime.date(2023, 6, 6), Decimal('12152.44'))\n",
      "(datetime.date(2023, 6, 7), Decimal('9390.24'))\n",
      "(datetime.date(2023, 6, 8), Decimal('21028.04'))\n",
      "(datetime.date(2023, 6, 9), Decimal('5982.66'))\n",
      "(datetime.date(2023, 6, 10), Decimal('22798.72'))\n",
      "(datetime.date(2023, 6, 11), Decimal('13939.32'))\n",
      "(datetime.date(2023, 6, 12), Decimal('1582.96'))\n",
      "(datetime.date(2023, 6, 13), Decimal('2467.42'))\n",
      "(datetime.date(2023, 6, 14), Decimal('11469.82'))\n",
      "(datetime.date(2023, 6, 15), Decimal('48803.18'))\n",
      "(datetime.date(2023, 6, 16), Decimal('1684.40'))\n",
      "(datetime.date(2023, 6, 17), Decimal('67712.88'))\n",
      "(datetime.date(2023, 6, 18), Decimal('14164.06'))\n",
      "(datetime.date(2023, 6, 19), Decimal('8610.50'))\n",
      "(datetime.date(2023, 6, 20), Decimal('18772.90'))\n",
      "(datetime.date(2023, 6, 21), Decimal('16287.90'))\n",
      "(datetime.date(2023, 6, 22), Decimal('3383.92'))\n",
      "(datetime.date(2023, 6, 23), Decimal('6082.10'))\n",
      "(datetime.date(2023, 6, 24), Decimal('5791.98'))\n",
      "(datetime.date(2023, 6, 25), Decimal('6577.94'))\n",
      "(datetime.date(2023, 6, 26), Decimal('8010.26'))\n",
      "(datetime.date(2023, 6, 27), Decimal('3541.24'))\n",
      "(datetime.date(2023, 6, 28), Decimal('19563.72'))\n",
      "(datetime.date(2023, 6, 29), Decimal('13461.12'))\n",
      "(datetime.date(2023, 6, 30), Decimal('90284.26'))\n",
      "(datetime.date(2023, 7, 1), Decimal('8393.04'))\n",
      "(datetime.date(2023, 7, 2), Decimal('30890.48'))\n",
      "(datetime.date(2023, 7, 3), Decimal('14166.68'))\n",
      "(datetime.date(2023, 7, 4), Decimal('5091.54'))\n",
      "(datetime.date(2023, 7, 5), Decimal('9895.86'))\n",
      "(datetime.date(2023, 7, 6), Decimal('7953.84'))\n",
      "(datetime.date(2023, 7, 7), Decimal('10201.56'))\n",
      "(datetime.date(2023, 7, 8), Decimal('107705.16'))\n",
      "(datetime.date(2023, 7, 9), Decimal('6070.28'))\n",
      "(datetime.date(2023, 7, 10), Decimal('74804.12'))\n",
      "(datetime.date(2023, 7, 11), Decimal('8142.72'))\n",
      "(datetime.date(2023, 7, 12), Decimal('10721.28'))\n",
      "(datetime.date(2023, 7, 13), Decimal('28130.84'))\n",
      "(datetime.date(2023, 7, 14), Decimal('17159.50'))\n",
      "(datetime.date(2023, 7, 15), Decimal('9836.68'))\n",
      "(datetime.date(2023, 7, 16), Decimal('3205.78'))\n",
      "(datetime.date(2023, 7, 17), Decimal('5578.34'))\n",
      "(datetime.date(2023, 7, 18), Decimal('9367.94'))\n",
      "(datetime.date(2023, 7, 19), Decimal('14920.48'))\n",
      "(datetime.date(2023, 7, 20), Decimal('5863.26'))\n",
      "(datetime.date(2023, 7, 21), Decimal('44278.64'))\n",
      "(datetime.date(2023, 7, 22), Decimal('5534.98'))\n",
      "(datetime.date(2023, 7, 23), Decimal('1208.78'))\n",
      "(datetime.date(2023, 7, 24), Decimal('7572.30'))\n",
      "(datetime.date(2023, 7, 25), Decimal('6195.60'))\n",
      "(datetime.date(2023, 7, 26), Decimal('1320.90'))\n",
      "(datetime.date(2023, 7, 27), Decimal('15379.78'))\n",
      "(datetime.date(2023, 7, 28), Decimal('11830.92'))\n",
      "(datetime.date(2023, 7, 29), Decimal('8345.88'))\n",
      "(datetime.date(2023, 7, 30), Decimal('61430.90'))\n",
      "(datetime.date(2023, 7, 31), Decimal('1399.92'))\n",
      "(datetime.date(2023, 8, 1), Decimal('36181.74'))\n",
      "(datetime.date(2023, 8, 2), Decimal('25961.58'))\n",
      "(datetime.date(2023, 8, 3), Decimal('3570.26'))\n",
      "(datetime.date(2023, 8, 4), Decimal('20903.58'))\n",
      "(datetime.date(2023, 8, 5), Decimal('7756.38'))\n",
      "(datetime.date(2023, 8, 6), Decimal('45868.96'))\n",
      "(datetime.date(2023, 8, 7), Decimal('25436.16'))\n",
      "(datetime.date(2023, 8, 8), Decimal('5838.18'))\n",
      "(datetime.date(2023, 8, 9), Decimal('85867.28'))\n",
      "(datetime.date(2023, 8, 10), Decimal('37404.94'))\n",
      "(datetime.date(2023, 8, 11), Decimal('53559.66'))\n",
      "(datetime.date(2023, 8, 12), Decimal('1534.32'))\n",
      "(datetime.date(2023, 8, 13), Decimal('5017.64'))\n",
      "(datetime.date(2023, 8, 14), Decimal('13814.32'))\n",
      "(datetime.date(2023, 8, 15), Decimal('1475.56'))\n",
      "(datetime.date(2023, 8, 16), Decimal('13551.46'))\n",
      "(datetime.date(2023, 8, 17), Decimal('8215.80'))\n",
      "(datetime.date(2023, 8, 18), Decimal('1891.92'))\n",
      "(datetime.date(2023, 8, 19), Decimal('9156.74'))\n",
      "(datetime.date(2023, 8, 20), Decimal('4627.70'))\n",
      "(datetime.date(2023, 8, 21), Decimal('13245.74'))\n",
      "(datetime.date(2023, 8, 22), Decimal('13386.72'))\n",
      "(datetime.date(2023, 8, 23), Decimal('8934.00'))\n",
      "(datetime.date(2023, 8, 24), Decimal('2035.22'))\n",
      "(datetime.date(2023, 8, 25), Decimal('21334.88'))\n",
      "(datetime.date(2023, 8, 26), Decimal('421.98'))\n",
      "(datetime.date(2023, 8, 27), Decimal('3650.64'))\n",
      "(datetime.date(2023, 8, 28), Decimal('12410.74'))\n",
      "(datetime.date(2023, 8, 29), Decimal('22961.86'))\n",
      "(datetime.date(2023, 8, 30), Decimal('62143.32'))\n",
      "(datetime.date(2023, 8, 31), Decimal('4573.16'))\n",
      "(datetime.date(2023, 9, 1), Decimal('9927.50'))\n",
      "(datetime.date(2023, 9, 2), Decimal('2186.56'))\n",
      "(datetime.date(2023, 9, 3), Decimal('43481.90'))\n",
      "(datetime.date(2023, 9, 4), Decimal('9001.78'))\n",
      "(datetime.date(2023, 9, 5), Decimal('32473.44'))\n",
      "(datetime.date(2023, 9, 6), Decimal('6918.32'))\n",
      "(datetime.date(2023, 9, 7), Decimal('8797.66'))\n",
      "(datetime.date(2023, 9, 8), Decimal('36222.38'))\n",
      "(datetime.date(2023, 9, 9), Decimal('4699.62'))\n",
      "(datetime.date(2023, 9, 10), Decimal('1384.04'))\n",
      "(datetime.date(2023, 9, 11), Decimal('5469.34'))\n",
      "(datetime.date(2023, 9, 12), Decimal('43956.68'))\n",
      "(datetime.date(2023, 9, 13), Decimal('16531.66'))\n",
      "(datetime.date(2023, 9, 14), Decimal('26091.10'))\n",
      "(datetime.date(2023, 9, 15), Decimal('2052.48'))\n",
      "(datetime.date(2023, 9, 16), Decimal('2015.00'))\n",
      "(datetime.date(2023, 9, 17), Decimal('9627.30'))\n",
      "(datetime.date(2023, 9, 18), Decimal('22132.44'))\n",
      "(datetime.date(2023, 9, 19), Decimal('9671.38'))\n",
      "(datetime.date(2023, 9, 20), Decimal('6750.76'))\n",
      "(datetime.date(2023, 9, 21), Decimal('24644.54'))\n",
      "(datetime.date(2023, 9, 22), Decimal('8945.46'))\n",
      "(datetime.date(2023, 9, 23), Decimal('4080.32'))\n",
      "(datetime.date(2023, 9, 24), Decimal('14868.88'))\n",
      "(datetime.date(2023, 9, 25), Decimal('2355.46'))\n",
      "(datetime.date(2023, 9, 26), Decimal('9234.92'))\n",
      "(datetime.date(2023, 9, 27), Decimal('100769.70'))\n",
      "(datetime.date(2023, 9, 28), Decimal('65369.34'))\n",
      "(datetime.date(2023, 9, 29), Decimal('4479.42'))\n",
      "(datetime.date(2023, 10, 1), Decimal('1772.26'))\n",
      "(datetime.date(2023, 10, 2), Decimal('3708.84'))\n",
      "(datetime.date(2023, 10, 3), Decimal('66821.10'))\n",
      "(datetime.date(2023, 10, 4), Decimal('13756.54'))\n",
      "(datetime.date(2023, 10, 5), Decimal('6878.44'))\n",
      "(datetime.date(2023, 10, 6), Decimal('11886.70'))\n",
      "(datetime.date(2023, 10, 7), Decimal('8429.58'))\n",
      "(datetime.date(2023, 10, 8), Decimal('17173.36'))\n",
      "(datetime.date(2023, 10, 9), Decimal('2940.64'))\n",
      "(datetime.date(2023, 10, 10), Decimal('15381.34'))\n",
      "(datetime.date(2023, 10, 11), Decimal('11929.82'))\n",
      "(datetime.date(2023, 10, 12), Decimal('19484.26'))\n",
      "(datetime.date(2023, 10, 13), Decimal('78696.48'))\n",
      "(datetime.date(2023, 10, 14), Decimal('77753.22'))\n",
      "(datetime.date(2023, 10, 15), Decimal('2065.40'))\n",
      "(datetime.date(2023, 10, 16), Decimal('13722.46'))\n",
      "(datetime.date(2023, 10, 17), Decimal('43510.22'))\n",
      "(datetime.date(2023, 10, 18), Decimal('14518.02'))\n",
      "(datetime.date(2023, 10, 19), Decimal('291.56'))\n",
      "(datetime.date(2023, 10, 20), Decimal('24630.26'))\n",
      "(datetime.date(2023, 10, 21), Decimal('22301.90'))\n",
      "(datetime.date(2023, 10, 22), Decimal('1297.32'))\n",
      "(datetime.date(2023, 10, 23), Decimal('17723.66'))\n",
      "(datetime.date(2023, 10, 24), Decimal('16493.14'))\n",
      "(datetime.date(2023, 10, 25), Decimal('2139.30'))\n",
      "(datetime.date(2023, 10, 26), Decimal('11935.76'))\n",
      "(datetime.date(2023, 10, 27), Decimal('2786.46'))\n",
      "(datetime.date(2023, 10, 28), Decimal('5344.30'))\n",
      "(datetime.date(2023, 11, 1), Decimal('8838.56'))\n",
      "(datetime.date(2023, 11, 2), Decimal('2598.78'))\n",
      "(datetime.date(2023, 11, 3), Decimal('3180.40'))\n",
      "(datetime.date(2023, 11, 4), Decimal('12367.34'))\n",
      "(datetime.date(2023, 11, 5), Decimal('22668.10'))\n",
      "(datetime.date(2023, 11, 6), Decimal('4121.82'))\n",
      "(datetime.date(2023, 11, 7), Decimal('11874.42'))\n",
      "(datetime.date(2023, 11, 8), Decimal('6889.16'))\n",
      "(datetime.date(2023, 11, 9), Decimal('7853.34'))\n",
      "(datetime.date(2023, 11, 10), Decimal('77988.10'))\n",
      "(datetime.date(2023, 11, 11), Decimal('999.28'))\n",
      "(datetime.date(2023, 11, 12), Decimal('9990.40'))\n",
      "(datetime.date(2023, 11, 13), Decimal('10772.58'))\n",
      "(datetime.date(2023, 11, 14), Decimal('70247.94'))\n",
      "(datetime.date(2023, 11, 15), Decimal('1123.32'))\n",
      "(datetime.date(2023, 11, 16), Decimal('20926.64'))\n",
      "(datetime.date(2023, 11, 17), Decimal('16546.64'))\n",
      "(datetime.date(2023, 11, 18), Decimal('3066.88'))\n",
      "(datetime.date(2023, 11, 19), Decimal('19564.32'))\n",
      "(datetime.date(2023, 11, 20), Decimal('25893.38'))\n",
      "(datetime.date(2023, 11, 21), Decimal('55586.14'))\n",
      "(datetime.date(2023, 11, 22), Decimal('9079.44'))\n",
      "(datetime.date(2023, 11, 23), Decimal('10825.70'))\n",
      "(datetime.date(2023, 11, 24), Decimal('10208.34'))\n",
      "(datetime.date(2023, 11, 25), Decimal('11859.80'))\n",
      "(datetime.date(2023, 11, 26), Decimal('20863.16'))\n",
      "(datetime.date(2023, 11, 27), Decimal('31192.60'))\n",
      "(datetime.date(2023, 11, 28), Decimal('13120.16'))\n",
      "(datetime.date(2023, 11, 29), Decimal('1858.62'))\n",
      "(datetime.date(2023, 11, 30), Decimal('20246.80'))\n",
      "(datetime.date(2023, 12, 1), Decimal('24403.92'))\n",
      "(datetime.date(2023, 12, 2), Decimal('9725.38'))\n",
      "(datetime.date(2023, 12, 3), Decimal('5223.86'))\n",
      "(datetime.date(2023, 12, 4), Decimal('642.14'))\n",
      "(datetime.date(2023, 12, 5), Decimal('6727.02'))\n",
      "(datetime.date(2023, 12, 6), Decimal('673.00'))\n",
      "(datetime.date(2023, 12, 7), Decimal('39324.00'))\n",
      "(datetime.date(2023, 12, 8), Decimal('6182.12'))\n",
      "(datetime.date(2023, 12, 9), Decimal('17228.72'))\n",
      "(datetime.date(2023, 12, 10), Decimal('7071.92'))\n",
      "(datetime.date(2023, 12, 11), Decimal('2130.60'))\n",
      "(datetime.date(2023, 12, 12), Decimal('5495.58'))\n",
      "(datetime.date(2023, 12, 13), Decimal('43420.02'))\n",
      "(datetime.date(2023, 12, 14), Decimal('20963.26'))\n",
      "(datetime.date(2023, 12, 15), Decimal('6909.06'))\n",
      "(datetime.date(2023, 12, 16), Decimal('2016.98'))\n",
      "(datetime.date(2023, 12, 17), Decimal('2880.08'))\n",
      "(datetime.date(2023, 12, 18), Decimal('3998.74'))\n",
      "(datetime.date(2023, 12, 19), Decimal('60935.84'))\n",
      "(datetime.date(2023, 12, 20), Decimal('5581.90'))\n",
      "(datetime.date(2023, 12, 21), Decimal('11206.64'))\n",
      "(datetime.date(2023, 12, 22), Decimal('5719.94'))\n",
      "(datetime.date(2023, 12, 23), Decimal('16026.18'))\n",
      "(datetime.date(2023, 12, 24), Decimal('4029.06'))\n",
      "(datetime.date(2023, 12, 25), Decimal('4570.08'))\n",
      "(datetime.date(2023, 12, 26), Decimal('18232.16'))\n",
      "(datetime.date(2023, 12, 27), Decimal('20503.56'))\n",
      "(datetime.date(2023, 12, 28), Decimal('12216.50'))\n",
      "(datetime.date(2023, 12, 29), Decimal('13458.94'))\n",
      "(datetime.date(2023, 12, 30), Decimal('23157.56'))\n",
      "(datetime.date(2023, 12, 31), Decimal('4849.44'))\n"
     ]
    },
    {
     "data": {
      "application/vnd.plotly.v1+json": {
       "config": {
        "plotlyServerURL": "https://plot.ly"
       },
       "data": [
        {
         "hovertemplate": "Date=%{x}<br>Amount Paid=%{y}<extra></extra>",
         "legendgroup": "",
         "line": {
          "color": "#003366",
          "dash": "solid",
          "width": 3
         },
         "marker": {
          "color": "#FFD700",
          "size": 5,
          "symbol": "circle"
         },
         "mode": "lines+markers",
         "name": "",
         "orientation": "v",
         "showlegend": false,
         "type": "scatter",
         "x": [
          "2023-01-01",
          "2023-01-02",
          "2023-01-03",
          "2023-01-04",
          "2023-01-05",
          "2023-01-06",
          "2023-01-07",
          "2023-01-08",
          "2023-01-09",
          "2023-01-10",
          "2023-01-11",
          "2023-01-12",
          "2023-01-13",
          "2023-01-14",
          "2023-01-15",
          "2023-01-16",
          "2023-01-17",
          "2023-01-18",
          "2023-01-19",
          "2023-01-20",
          "2023-01-21",
          "2023-01-22",
          "2023-01-23",
          "2023-01-24",
          "2023-01-25",
          "2023-01-26",
          "2023-01-27",
          "2023-01-28",
          "2023-01-29",
          "2023-02-01",
          "2023-02-02",
          "2023-02-03",
          "2023-02-04",
          "2023-02-05",
          "2023-02-06",
          "2023-02-07",
          "2023-02-08",
          "2023-02-09",
          "2023-02-10",
          "2023-02-11",
          "2023-02-12",
          "2023-02-13",
          "2023-02-14",
          "2023-02-15",
          "2023-02-16",
          "2023-02-17",
          "2023-02-18",
          "2023-02-19",
          "2023-02-20",
          "2023-02-21",
          "2023-02-22",
          "2023-02-23",
          "2023-02-24",
          "2023-02-25",
          "2023-02-26",
          "2023-02-27",
          "2023-02-28",
          "2023-03-01",
          "2023-03-02",
          "2023-03-03",
          "2023-03-04",
          "2023-03-05",
          "2023-03-06",
          "2023-03-07",
          "2023-03-08",
          "2023-03-09",
          "2023-03-10",
          "2023-03-11",
          "2023-03-12",
          "2023-03-13",
          "2023-03-14",
          "2023-03-15",
          "2023-03-16",
          "2023-03-17",
          "2023-03-18",
          "2023-03-19",
          "2023-03-20",
          "2023-03-21",
          "2023-03-22",
          "2023-03-23",
          "2023-03-24",
          "2023-03-25",
          "2023-03-26",
          "2023-03-27",
          "2023-03-28",
          "2023-03-29",
          "2023-04-01",
          "2023-04-02",
          "2023-04-03",
          "2023-04-04",
          "2023-04-05",
          "2023-04-06",
          "2023-04-07",
          "2023-04-08",
          "2023-04-09",
          "2023-04-10",
          "2023-04-11",
          "2023-04-12",
          "2023-04-13",
          "2023-04-14",
          "2023-04-15",
          "2023-04-16",
          "2023-04-17",
          "2023-04-18",
          "2023-04-19",
          "2023-04-20",
          "2023-04-21",
          "2023-04-22",
          "2023-04-23",
          "2023-04-24",
          "2023-04-25",
          "2023-04-26",
          "2023-04-27",
          "2023-04-28",
          "2023-05-01",
          "2023-05-02",
          "2023-05-03",
          "2023-05-04",
          "2023-05-05",
          "2023-05-06",
          "2023-05-07",
          "2023-05-08",
          "2023-05-09",
          "2023-05-10",
          "2023-05-11",
          "2023-05-12",
          "2023-05-13",
          "2023-05-14",
          "2023-05-15",
          "2023-05-16",
          "2023-05-17",
          "2023-05-18",
          "2023-05-19",
          "2023-05-20",
          "2023-05-21",
          "2023-05-22",
          "2023-05-23",
          "2023-05-24",
          "2023-05-25",
          "2023-05-26",
          "2023-05-27",
          "2023-05-28",
          "2023-06-01",
          "2023-06-02",
          "2023-06-03",
          "2023-06-04",
          "2023-06-05",
          "2023-06-06",
          "2023-06-07",
          "2023-06-08",
          "2023-06-09",
          "2023-06-10",
          "2023-06-11",
          "2023-06-12",
          "2023-06-13",
          "2023-06-14",
          "2023-06-15",
          "2023-06-16",
          "2023-06-17",
          "2023-06-18",
          "2023-06-19",
          "2023-06-20",
          "2023-06-21",
          "2023-06-22",
          "2023-06-23",
          "2023-06-24",
          "2023-06-25",
          "2023-06-26",
          "2023-06-27",
          "2023-06-28",
          "2023-06-29",
          "2023-06-30",
          "2023-07-01",
          "2023-07-02",
          "2023-07-03",
          "2023-07-04",
          "2023-07-05",
          "2023-07-06",
          "2023-07-07",
          "2023-07-08",
          "2023-07-09",
          "2023-07-10",
          "2023-07-11",
          "2023-07-12",
          "2023-07-13",
          "2023-07-14",
          "2023-07-15",
          "2023-07-16",
          "2023-07-17",
          "2023-07-18",
          "2023-07-19",
          "2023-07-20",
          "2023-07-21",
          "2023-07-22",
          "2023-07-23",
          "2023-07-24",
          "2023-07-25",
          "2023-07-26",
          "2023-07-27",
          "2023-07-28",
          "2023-07-29",
          "2023-07-30",
          "2023-07-31",
          "2023-08-01",
          "2023-08-02",
          "2023-08-03",
          "2023-08-04",
          "2023-08-05",
          "2023-08-06",
          "2023-08-07",
          "2023-08-08",
          "2023-08-09",
          "2023-08-10",
          "2023-08-11",
          "2023-08-12",
          "2023-08-13",
          "2023-08-14",
          "2023-08-15",
          "2023-08-16",
          "2023-08-17",
          "2023-08-18",
          "2023-08-19",
          "2023-08-20",
          "2023-08-21",
          "2023-08-22",
          "2023-08-23",
          "2023-08-24",
          "2023-08-25",
          "2023-08-26",
          "2023-08-27",
          "2023-08-28",
          "2023-08-29",
          "2023-08-30",
          "2023-08-31",
          "2023-09-01",
          "2023-09-02",
          "2023-09-03",
          "2023-09-04",
          "2023-09-05",
          "2023-09-06",
          "2023-09-07",
          "2023-09-08",
          "2023-09-09",
          "2023-09-10",
          "2023-09-11",
          "2023-09-12",
          "2023-09-13",
          "2023-09-14",
          "2023-09-15",
          "2023-09-16",
          "2023-09-17",
          "2023-09-18",
          "2023-09-19",
          "2023-09-20",
          "2023-09-21",
          "2023-09-22",
          "2023-09-23",
          "2023-09-24",
          "2023-09-25",
          "2023-09-26",
          "2023-09-27",
          "2023-09-28",
          "2023-09-29",
          "2023-10-01",
          "2023-10-02",
          "2023-10-03",
          "2023-10-04",
          "2023-10-05",
          "2023-10-06",
          "2023-10-07",
          "2023-10-08",
          "2023-10-09",
          "2023-10-10",
          "2023-10-11",
          "2023-10-12",
          "2023-10-13",
          "2023-10-14",
          "2023-10-15",
          "2023-10-16",
          "2023-10-17",
          "2023-10-18",
          "2023-10-19",
          "2023-10-20",
          "2023-10-21",
          "2023-10-22",
          "2023-10-23",
          "2023-10-24",
          "2023-10-25",
          "2023-10-26",
          "2023-10-27",
          "2023-10-28",
          "2023-11-01",
          "2023-11-02",
          "2023-11-03",
          "2023-11-04",
          "2023-11-05",
          "2023-11-06",
          "2023-11-07",
          "2023-11-08",
          "2023-11-09",
          "2023-11-10",
          "2023-11-11",
          "2023-11-12",
          "2023-11-13",
          "2023-11-14",
          "2023-11-15",
          "2023-11-16",
          "2023-11-17",
          "2023-11-18",
          "2023-11-19",
          "2023-11-20",
          "2023-11-21",
          "2023-11-22",
          "2023-11-23",
          "2023-11-24",
          "2023-11-25",
          "2023-11-26",
          "2023-11-27",
          "2023-11-28",
          "2023-11-29",
          "2023-11-30",
          "2023-12-01",
          "2023-12-02",
          "2023-12-03",
          "2023-12-04",
          "2023-12-05",
          "2023-12-06",
          "2023-12-07",
          "2023-12-08",
          "2023-12-09",
          "2023-12-10",
          "2023-12-11",
          "2023-12-12",
          "2023-12-13",
          "2023-12-14",
          "2023-12-15",
          "2023-12-16",
          "2023-12-17",
          "2023-12-18",
          "2023-12-19",
          "2023-12-20",
          "2023-12-21",
          "2023-12-22",
          "2023-12-23",
          "2023-12-24",
          "2023-12-25",
          "2023-12-26",
          "2023-12-27",
          "2023-12-28",
          "2023-12-29",
          "2023-12-30",
          "2023-12-31"
         ],
         "xaxis": "x",
         "y": [
          16353.46,
          700.7,
          4411.02,
          1530.38,
          3894.1,
          45354.06,
          5061.8,
          72604.6,
          10370.42,
          20682.64,
          675.18,
          3876.92,
          31619.18,
          4442.46,
          13060.86,
          23122.26,
          10612.78,
          18114.9,
          7056.1,
          9997.66,
          25776.86,
          39836.12,
          11110.46,
          2874.98,
          3280.28,
          10079.5,
          6908.5,
          17291.18,
          16791.56,
          42353.38,
          2645.4,
          15892.88,
          2352.3,
          7564.64,
          3962.42,
          16935.52,
          12497.42,
          61529.76,
          3168.48,
          3485.14,
          7203.1,
          39694.42,
          54616.38,
          40606.86,
          2962.3,
          12957.14,
          8459.64,
          36422.1,
          8492.16,
          7941.76,
          20002.7,
          8845.74,
          85548.34,
          748.22,
          1997.5,
          12154.18,
          3283.64,
          9255.24,
          34781.78,
          6180.08,
          16559.1,
          8031.82,
          59319.46,
          7509.9,
          2683.58,
          15610.94,
          39780.62,
          8201.18,
          4529.94,
          9874.74,
          11073.96,
          9663.02,
          460.6,
          13825.62,
          16243.72,
          20337.56,
          24900.8,
          7316.24,
          12220.68,
          22148.7,
          9030.4,
          2638.46,
          22275.56,
          53337.38,
          9427.3,
          16666.22,
          4388.34,
          7602.04,
          6267.88,
          10620,
          2072.56,
          14382.06,
          44306.7,
          11219.04,
          2929.28,
          5046.02,
          42149.46,
          52189.94,
          24117.66,
          8487.06,
          9258.34,
          3820.94,
          17755.16,
          2038.12,
          8450.1,
          12881.58,
          14788.76,
          16569.28,
          32396.92,
          9151.8,
          15002.14,
          2192.06,
          26616,
          4056.4,
          4138.78,
          6952.36,
          13177.76,
          57836.76,
          11315.94,
          8617.8,
          15812.56,
          25649.18,
          10916.06,
          9246.3,
          5494.7,
          13272.38,
          19366.94,
          52800.12,
          7987.64,
          748.24,
          8019.8,
          22426.4,
          11687.8,
          10263.8,
          5658.48,
          28492.42,
          989.02,
          3835.32,
          86875.22,
          9988.66,
          12642.6,
          15985.64,
          3311.96,
          9860.08,
          1397.2,
          7206.56,
          6678.92,
          12152.44,
          9390.24,
          21028.04,
          5982.66,
          22798.72,
          13939.32,
          1582.96,
          2467.42,
          11469.82,
          48803.18,
          1684.4,
          67712.88,
          14164.06,
          8610.5,
          18772.9,
          16287.9,
          3383.92,
          6082.1,
          5791.98,
          6577.94,
          8010.26,
          3541.24,
          19563.72,
          13461.12,
          90284.26,
          8393.04,
          30890.48,
          14166.68,
          5091.54,
          9895.86,
          7953.84,
          10201.56,
          107705.16,
          6070.28,
          74804.12,
          8142.72,
          10721.28,
          28130.84,
          17159.5,
          9836.68,
          3205.78,
          5578.34,
          9367.94,
          14920.48,
          5863.26,
          44278.64,
          5534.98,
          1208.78,
          7572.3,
          6195.6,
          1320.9,
          15379.78,
          11830.92,
          8345.88,
          61430.9,
          1399.92,
          36181.74,
          25961.58,
          3570.26,
          20903.58,
          7756.38,
          45868.96,
          25436.16,
          5838.18,
          85867.28,
          37404.94,
          53559.66,
          1534.32,
          5017.64,
          13814.32,
          1475.56,
          13551.46,
          8215.8,
          1891.92,
          9156.74,
          4627.7,
          13245.74,
          13386.72,
          8934,
          2035.22,
          21334.88,
          421.98,
          3650.64,
          12410.74,
          22961.86,
          62143.32,
          4573.16,
          9927.5,
          2186.56,
          43481.9,
          9001.78,
          32473.44,
          6918.32,
          8797.66,
          36222.38,
          4699.62,
          1384.04,
          5469.34,
          43956.68,
          16531.66,
          26091.1,
          2052.48,
          2015,
          9627.3,
          22132.44,
          9671.38,
          6750.76,
          24644.54,
          8945.46,
          4080.32,
          14868.88,
          2355.46,
          9234.92,
          100769.7,
          65369.34,
          4479.42,
          1772.26,
          3708.84,
          66821.1,
          13756.54,
          6878.44,
          11886.7,
          8429.58,
          17173.36,
          2940.64,
          15381.34,
          11929.82,
          19484.26,
          78696.48,
          77753.22,
          2065.4,
          13722.46,
          43510.22,
          14518.02,
          291.56,
          24630.26,
          22301.9,
          1297.32,
          17723.66,
          16493.14,
          2139.3,
          11935.76,
          2786.46,
          5344.3,
          8838.56,
          2598.78,
          3180.4,
          12367.34,
          22668.1,
          4121.82,
          11874.42,
          6889.16,
          7853.34,
          77988.1,
          999.28,
          9990.4,
          10772.58,
          70247.94,
          1123.32,
          20926.64,
          16546.64,
          3066.88,
          19564.32,
          25893.38,
          55586.14,
          9079.44,
          10825.7,
          10208.34,
          11859.8,
          20863.16,
          31192.6,
          13120.16,
          1858.62,
          20246.8,
          24403.92,
          9725.38,
          5223.86,
          642.14,
          6727.02,
          673,
          39324,
          6182.12,
          17228.72,
          7071.92,
          2130.6,
          5495.58,
          43420.02,
          20963.26,
          6909.06,
          2016.98,
          2880.08,
          3998.74,
          60935.84,
          5581.9,
          11206.64,
          5719.94,
          16026.18,
          4029.06,
          4570.08,
          18232.16,
          20503.56,
          12216.5,
          13458.94,
          23157.56,
          4849.44
         ],
         "yaxis": "y"
        }
       ],
       "layout": {
        "legend": {
         "tracegroupgap": 0
        },
        "template": {
         "data": {
          "bar": [
           {
            "error_x": {
             "color": "#2a3f5f"
            },
            "error_y": {
             "color": "#2a3f5f"
            },
            "marker": {
             "line": {
              "color": "#E5ECF6",
              "width": 0.5
             },
             "pattern": {
              "fillmode": "overlay",
              "size": 10,
              "solidity": 0.2
             }
            },
            "type": "bar"
           }
          ],
          "barpolar": [
           {
            "marker": {
             "line": {
              "color": "#E5ECF6",
              "width": 0.5
             },
             "pattern": {
              "fillmode": "overlay",
              "size": 10,
              "solidity": 0.2
             }
            },
            "type": "barpolar"
           }
          ],
          "carpet": [
           {
            "aaxis": {
             "endlinecolor": "#2a3f5f",
             "gridcolor": "white",
             "linecolor": "white",
             "minorgridcolor": "white",
             "startlinecolor": "#2a3f5f"
            },
            "baxis": {
             "endlinecolor": "#2a3f5f",
             "gridcolor": "white",
             "linecolor": "white",
             "minorgridcolor": "white",
             "startlinecolor": "#2a3f5f"
            },
            "type": "carpet"
           }
          ],
          "choropleth": [
           {
            "colorbar": {
             "outlinewidth": 0,
             "ticks": ""
            },
            "type": "choropleth"
           }
          ],
          "contour": [
           {
            "colorbar": {
             "outlinewidth": 0,
             "ticks": ""
            },
            "colorscale": [
             [
              0,
              "#0d0887"
             ],
             [
              0.1111111111111111,
              "#46039f"
             ],
             [
              0.2222222222222222,
              "#7201a8"
             ],
             [
              0.3333333333333333,
              "#9c179e"
             ],
             [
              0.4444444444444444,
              "#bd3786"
             ],
             [
              0.5555555555555556,
              "#d8576b"
             ],
             [
              0.6666666666666666,
              "#ed7953"
             ],
             [
              0.7777777777777778,
              "#fb9f3a"
             ],
             [
              0.8888888888888888,
              "#fdca26"
             ],
             [
              1,
              "#f0f921"
             ]
            ],
            "type": "contour"
           }
          ],
          "contourcarpet": [
           {
            "colorbar": {
             "outlinewidth": 0,
             "ticks": ""
            },
            "type": "contourcarpet"
           }
          ],
          "heatmap": [
           {
            "colorbar": {
             "outlinewidth": 0,
             "ticks": ""
            },
            "colorscale": [
             [
              0,
              "#0d0887"
             ],
             [
              0.1111111111111111,
              "#46039f"
             ],
             [
              0.2222222222222222,
              "#7201a8"
             ],
             [
              0.3333333333333333,
              "#9c179e"
             ],
             [
              0.4444444444444444,
              "#bd3786"
             ],
             [
              0.5555555555555556,
              "#d8576b"
             ],
             [
              0.6666666666666666,
              "#ed7953"
             ],
             [
              0.7777777777777778,
              "#fb9f3a"
             ],
             [
              0.8888888888888888,
              "#fdca26"
             ],
             [
              1,
              "#f0f921"
             ]
            ],
            "type": "heatmap"
           }
          ],
          "heatmapgl": [
           {
            "colorbar": {
             "outlinewidth": 0,
             "ticks": ""
            },
            "colorscale": [
             [
              0,
              "#0d0887"
             ],
             [
              0.1111111111111111,
              "#46039f"
             ],
             [
              0.2222222222222222,
              "#7201a8"
             ],
             [
              0.3333333333333333,
              "#9c179e"
             ],
             [
              0.4444444444444444,
              "#bd3786"
             ],
             [
              0.5555555555555556,
              "#d8576b"
             ],
             [
              0.6666666666666666,
              "#ed7953"
             ],
             [
              0.7777777777777778,
              "#fb9f3a"
             ],
             [
              0.8888888888888888,
              "#fdca26"
             ],
             [
              1,
              "#f0f921"
             ]
            ],
            "type": "heatmapgl"
           }
          ],
          "histogram": [
           {
            "marker": {
             "pattern": {
              "fillmode": "overlay",
              "size": 10,
              "solidity": 0.2
             }
            },
            "type": "histogram"
           }
          ],
          "histogram2d": [
           {
            "colorbar": {
             "outlinewidth": 0,
             "ticks": ""
            },
            "colorscale": [
             [
              0,
              "#0d0887"
             ],
             [
              0.1111111111111111,
              "#46039f"
             ],
             [
              0.2222222222222222,
              "#7201a8"
             ],
             [
              0.3333333333333333,
              "#9c179e"
             ],
             [
              0.4444444444444444,
              "#bd3786"
             ],
             [
              0.5555555555555556,
              "#d8576b"
             ],
             [
              0.6666666666666666,
              "#ed7953"
             ],
             [
              0.7777777777777778,
              "#fb9f3a"
             ],
             [
              0.8888888888888888,
              "#fdca26"
             ],
             [
              1,
              "#f0f921"
             ]
            ],
            "type": "histogram2d"
           }
          ],
          "histogram2dcontour": [
           {
            "colorbar": {
             "outlinewidth": 0,
             "ticks": ""
            },
            "colorscale": [
             [
              0,
              "#0d0887"
             ],
             [
              0.1111111111111111,
              "#46039f"
             ],
             [
              0.2222222222222222,
              "#7201a8"
             ],
             [
              0.3333333333333333,
              "#9c179e"
             ],
             [
              0.4444444444444444,
              "#bd3786"
             ],
             [
              0.5555555555555556,
              "#d8576b"
             ],
             [
              0.6666666666666666,
              "#ed7953"
             ],
             [
              0.7777777777777778,
              "#fb9f3a"
             ],
             [
              0.8888888888888888,
              "#fdca26"
             ],
             [
              1,
              "#f0f921"
             ]
            ],
            "type": "histogram2dcontour"
           }
          ],
          "mesh3d": [
           {
            "colorbar": {
             "outlinewidth": 0,
             "ticks": ""
            },
            "type": "mesh3d"
           }
          ],
          "parcoords": [
           {
            "line": {
             "colorbar": {
              "outlinewidth": 0,
              "ticks": ""
             }
            },
            "type": "parcoords"
           }
          ],
          "pie": [
           {
            "automargin": true,
            "type": "pie"
           }
          ],
          "scatter": [
           {
            "fillpattern": {
             "fillmode": "overlay",
             "size": 10,
             "solidity": 0.2
            },
            "type": "scatter"
           }
          ],
          "scatter3d": [
           {
            "line": {
             "colorbar": {
              "outlinewidth": 0,
              "ticks": ""
             }
            },
            "marker": {
             "colorbar": {
              "outlinewidth": 0,
              "ticks": ""
             }
            },
            "type": "scatter3d"
           }
          ],
          "scattercarpet": [
           {
            "marker": {
             "colorbar": {
              "outlinewidth": 0,
              "ticks": ""
             }
            },
            "type": "scattercarpet"
           }
          ],
          "scattergeo": [
           {
            "marker": {
             "colorbar": {
              "outlinewidth": 0,
              "ticks": ""
             }
            },
            "type": "scattergeo"
           }
          ],
          "scattergl": [
           {
            "marker": {
             "colorbar": {
              "outlinewidth": 0,
              "ticks": ""
             }
            },
            "type": "scattergl"
           }
          ],
          "scattermapbox": [
           {
            "marker": {
             "colorbar": {
              "outlinewidth": 0,
              "ticks": ""
             }
            },
            "type": "scattermapbox"
           }
          ],
          "scatterpolar": [
           {
            "marker": {
             "colorbar": {
              "outlinewidth": 0,
              "ticks": ""
             }
            },
            "type": "scatterpolar"
           }
          ],
          "scatterpolargl": [
           {
            "marker": {
             "colorbar": {
              "outlinewidth": 0,
              "ticks": ""
             }
            },
            "type": "scatterpolargl"
           }
          ],
          "scatterternary": [
           {
            "marker": {
             "colorbar": {
              "outlinewidth": 0,
              "ticks": ""
             }
            },
            "type": "scatterternary"
           }
          ],
          "surface": [
           {
            "colorbar": {
             "outlinewidth": 0,
             "ticks": ""
            },
            "colorscale": [
             [
              0,
              "#0d0887"
             ],
             [
              0.1111111111111111,
              "#46039f"
             ],
             [
              0.2222222222222222,
              "#7201a8"
             ],
             [
              0.3333333333333333,
              "#9c179e"
             ],
             [
              0.4444444444444444,
              "#bd3786"
             ],
             [
              0.5555555555555556,
              "#d8576b"
             ],
             [
              0.6666666666666666,
              "#ed7953"
             ],
             [
              0.7777777777777778,
              "#fb9f3a"
             ],
             [
              0.8888888888888888,
              "#fdca26"
             ],
             [
              1,
              "#f0f921"
             ]
            ],
            "type": "surface"
           }
          ],
          "table": [
           {
            "cells": {
             "fill": {
              "color": "#EBF0F8"
             },
             "line": {
              "color": "white"
             }
            },
            "header": {
             "fill": {
              "color": "#C8D4E3"
             },
             "line": {
              "color": "white"
             }
            },
            "type": "table"
           }
          ]
         },
         "layout": {
          "annotationdefaults": {
           "arrowcolor": "#2a3f5f",
           "arrowhead": 0,
           "arrowwidth": 1
          },
          "autotypenumbers": "strict",
          "coloraxis": {
           "colorbar": {
            "outlinewidth": 0,
            "ticks": ""
           }
          },
          "colorscale": {
           "diverging": [
            [
             0,
             "#8e0152"
            ],
            [
             0.1,
             "#c51b7d"
            ],
            [
             0.2,
             "#de77ae"
            ],
            [
             0.3,
             "#f1b6da"
            ],
            [
             0.4,
             "#fde0ef"
            ],
            [
             0.5,
             "#f7f7f7"
            ],
            [
             0.6,
             "#e6f5d0"
            ],
            [
             0.7,
             "#b8e186"
            ],
            [
             0.8,
             "#7fbc41"
            ],
            [
             0.9,
             "#4d9221"
            ],
            [
             1,
             "#276419"
            ]
           ],
           "sequential": [
            [
             0,
             "#0d0887"
            ],
            [
             0.1111111111111111,
             "#46039f"
            ],
            [
             0.2222222222222222,
             "#7201a8"
            ],
            [
             0.3333333333333333,
             "#9c179e"
            ],
            [
             0.4444444444444444,
             "#bd3786"
            ],
            [
             0.5555555555555556,
             "#d8576b"
            ],
            [
             0.6666666666666666,
             "#ed7953"
            ],
            [
             0.7777777777777778,
             "#fb9f3a"
            ],
            [
             0.8888888888888888,
             "#fdca26"
            ],
            [
             1,
             "#f0f921"
            ]
           ],
           "sequentialminus": [
            [
             0,
             "#0d0887"
            ],
            [
             0.1111111111111111,
             "#46039f"
            ],
            [
             0.2222222222222222,
             "#7201a8"
            ],
            [
             0.3333333333333333,
             "#9c179e"
            ],
            [
             0.4444444444444444,
             "#bd3786"
            ],
            [
             0.5555555555555556,
             "#d8576b"
            ],
            [
             0.6666666666666666,
             "#ed7953"
            ],
            [
             0.7777777777777778,
             "#fb9f3a"
            ],
            [
             0.8888888888888888,
             "#fdca26"
            ],
            [
             1,
             "#f0f921"
            ]
           ]
          },
          "colorway": [
           "#636efa",
           "#EF553B",
           "#00cc96",
           "#ab63fa",
           "#FFA15A",
           "#19d3f3",
           "#FF6692",
           "#B6E880",
           "#FF97FF",
           "#FECB52"
          ],
          "font": {
           "color": "#2a3f5f"
          },
          "geo": {
           "bgcolor": "white",
           "lakecolor": "white",
           "landcolor": "#E5ECF6",
           "showlakes": true,
           "showland": true,
           "subunitcolor": "white"
          },
          "hoverlabel": {
           "align": "left"
          },
          "hovermode": "closest",
          "mapbox": {
           "style": "light"
          },
          "paper_bgcolor": "white",
          "plot_bgcolor": "#E5ECF6",
          "polar": {
           "angularaxis": {
            "gridcolor": "white",
            "linecolor": "white",
            "ticks": ""
           },
           "bgcolor": "#E5ECF6",
           "radialaxis": {
            "gridcolor": "white",
            "linecolor": "white",
            "ticks": ""
           }
          },
          "scene": {
           "xaxis": {
            "backgroundcolor": "#E5ECF6",
            "gridcolor": "white",
            "gridwidth": 2,
            "linecolor": "white",
            "showbackground": true,
            "ticks": "",
            "zerolinecolor": "white"
           },
           "yaxis": {
            "backgroundcolor": "#E5ECF6",
            "gridcolor": "white",
            "gridwidth": 2,
            "linecolor": "white",
            "showbackground": true,
            "ticks": "",
            "zerolinecolor": "white"
           },
           "zaxis": {
            "backgroundcolor": "#E5ECF6",
            "gridcolor": "white",
            "gridwidth": 2,
            "linecolor": "white",
            "showbackground": true,
            "ticks": "",
            "zerolinecolor": "white"
           }
          },
          "shapedefaults": {
           "line": {
            "color": "#2a3f5f"
           }
          },
          "ternary": {
           "aaxis": {
            "gridcolor": "white",
            "linecolor": "white",
            "ticks": ""
           },
           "baxis": {
            "gridcolor": "white",
            "linecolor": "white",
            "ticks": ""
           },
           "bgcolor": "#E5ECF6",
           "caxis": {
            "gridcolor": "white",
            "linecolor": "white",
            "ticks": ""
           }
          },
          "title": {
           "x": 0.05
          },
          "xaxis": {
           "automargin": true,
           "gridcolor": "white",
           "linecolor": "white",
           "ticks": "",
           "title": {
            "standoff": 15
           },
           "zerolinecolor": "white",
           "zerolinewidth": 2
          },
          "yaxis": {
           "automargin": true,
           "gridcolor": "white",
           "linecolor": "white",
           "ticks": "",
           "title": {
            "standoff": 15
           },
           "zerolinecolor": "white",
           "zerolinewidth": 2
          }
         }
        },
        "title": {
         "text": "Amount Paid Over Time"
        },
        "xaxis": {
         "anchor": "y",
         "domain": [
          0,
          1
         ],
         "tickangle": -90,
         "title": {
          "text": "Date"
         }
        },
        "yaxis": {
         "anchor": "x",
         "domain": [
          0,
          1
         ],
         "title": {
          "text": "Amount Paid"
         }
        }
       }
      }
     },
     "metadata": {},
     "output_type": "display_data"
    }
   ],
   "source": [
    "# Daily spending trend\n",
    "\n",
    "query7 = \"SELECT date, SUM(`Amount Paid`) FROM PERSONAL_EXPENSES GROUP BY date ORDER BY date\"\n",
    "\n",
    "my_cursor.execute(query7)\n",
    "\n",
    "daily_spending_trend = my_cursor.fetchall()\n",
    "\n",
    "for x in daily_spending_trend:\n",
    "    \n",
    "    print(x)\n",
    "    \n",
    "    \n",
    "daily_spending_trend_df = pd.DataFrame(daily_spending_trend, columns=[\"Date\", \"Amount Paid\"])\n",
    "\n",
    "fig = px.line(daily_spending_trend_df,\n",
    "              x=\"Date\",\n",
    "              y=\"Amount Paid\",\n",
    "              title=\"Amount Paid Over Time\",\n",
    "              markers=True)\n",
    "\n",
    "fig.update_traces(\n",
    "    line=dict(color=\"#003366\", width=3),  # Dark Blue\n",
    "    marker=dict(color=\"#FFD700\", size=5)   # Gold\n",
    ")\n",
    "\n",
    "fig.update_layout(xaxis_tickangle=-90)\n",
    "\n",
    "fig.show()"
   ]
  },
  {
   "cell_type": "code",
   "execution_count": 18,
   "metadata": {},
   "outputs": [
    {
     "name": "stdout",
     "output_type": "stream",
     "text": [
      "('Clothing', Decimal('1810.001404'))\n",
      "('Health & Fitness', Decimal('1797.923370'))\n",
      "('Subscriptions', Decimal('1093.405288'))\n",
      "('Groceries', Decimal('1213.907474'))\n",
      "('Dining Out', Decimal('808.998731'))\n",
      "('Housing', Decimal('10358.954020'))\n",
      "('Utilities', Decimal('1111.036442'))\n",
      "('Transportation', Decimal('2047.107905'))\n",
      "('Entertainment', Decimal('1558.354754'))\n",
      "('Travel', Decimal('5463.965000'))\n"
     ]
    },
    {
     "data": {
      "application/vnd.plotly.v1+json": {
       "config": {
        "plotlyServerURL": "https://plot.ly"
       },
       "data": [
        {
         "alignmentgroup": "True",
         "hovertemplate": "Average Spending=%{text}<br>Category=%{x}<extra></extra>",
         "legendgroup": "1810.001404",
         "marker": {
          "color": "#78290f",
          "pattern": {
           "shape": ""
          }
         },
         "name": "1810.001404",
         "offsetgroup": "1810.001404",
         "orientation": "v",
         "showlegend": true,
         "text": [
          1810.001404
         ],
         "textposition": "auto",
         "type": "bar",
         "x": [
          "Clothing"
         ],
         "xaxis": "x",
         "y": [
          1810.001404
         ],
         "yaxis": "y"
        },
        {
         "alignmentgroup": "True",
         "hovertemplate": "Average Spending=%{text}<br>Category=%{x}<extra></extra>",
         "legendgroup": "1797.923370",
         "marker": {
          "color": "#f7ede2",
          "pattern": {
           "shape": ""
          }
         },
         "name": "1797.923370",
         "offsetgroup": "1797.923370",
         "orientation": "v",
         "showlegend": true,
         "text": [
          1797.92337
         ],
         "textposition": "auto",
         "type": "bar",
         "x": [
          "Health & Fitness"
         ],
         "xaxis": "x",
         "y": [
          1797.92337
         ],
         "yaxis": "y"
        },
        {
         "alignmentgroup": "True",
         "hovertemplate": "Average Spending=%{text}<br>Category=%{x}<extra></extra>",
         "legendgroup": "1093.405288",
         "marker": {
          "color": "#bcbd8b",
          "pattern": {
           "shape": ""
          }
         },
         "name": "1093.405288",
         "offsetgroup": "1093.405288",
         "orientation": "v",
         "showlegend": true,
         "text": [
          1093.405288
         ],
         "textposition": "auto",
         "type": "bar",
         "x": [
          "Subscriptions"
         ],
         "xaxis": "x",
         "y": [
          1093.405288
         ],
         "yaxis": "y"
        },
        {
         "alignmentgroup": "True",
         "hovertemplate": "Average Spending=%{text}<br>Category=%{x}<extra></extra>",
         "legendgroup": "1213.907474",
         "marker": {
          "color": "#b5e2fa",
          "pattern": {
           "shape": ""
          }
         },
         "name": "1213.907474",
         "offsetgroup": "1213.907474",
         "orientation": "v",
         "showlegend": true,
         "text": [
          1213.907474
         ],
         "textposition": "auto",
         "type": "bar",
         "x": [
          "Groceries"
         ],
         "xaxis": "x",
         "y": [
          1213.907474
         ],
         "yaxis": "y"
        },
        {
         "alignmentgroup": "True",
         "hovertemplate": "Average Spending=%{text}<br>Category=%{x}<extra></extra>",
         "legendgroup": "808.998731",
         "marker": {
          "color": "#eddea4",
          "pattern": {
           "shape": ""
          }
         },
         "name": "808.998731",
         "offsetgroup": "808.998731",
         "orientation": "v",
         "showlegend": true,
         "text": [
          808.998731
         ],
         "textposition": "auto",
         "type": "bar",
         "x": [
          "Dining Out"
         ],
         "xaxis": "x",
         "y": [
          808.998731
         ],
         "yaxis": "y"
        },
        {
         "alignmentgroup": "True",
         "hovertemplate": "Average Spending=%{text}<br>Category=%{x}<extra></extra>",
         "legendgroup": "10358.954020",
         "marker": {
          "color": "#ae2012",
          "pattern": {
           "shape": ""
          }
         },
         "name": "10358.954020",
         "offsetgroup": "10358.954020",
         "orientation": "v",
         "showlegend": true,
         "text": [
          10358.95402
         ],
         "textposition": "auto",
         "type": "bar",
         "x": [
          "Housing"
         ],
         "xaxis": "x",
         "y": [
          10358.95402
         ],
         "yaxis": "y"
        },
        {
         "alignmentgroup": "True",
         "hovertemplate": "Average Spending=%{text}<br>Category=%{x}<extra></extra>",
         "legendgroup": "1111.036442",
         "marker": {
          "color": "#0d1321",
          "pattern": {
           "shape": ""
          }
         },
         "name": "1111.036442",
         "offsetgroup": "1111.036442",
         "orientation": "v",
         "showlegend": true,
         "text": [
          1111.036442
         ],
         "textposition": "auto",
         "type": "bar",
         "x": [
          "Utilities"
         ],
         "xaxis": "x",
         "y": [
          1111.036442
         ],
         "yaxis": "y"
        },
        {
         "alignmentgroup": "True",
         "hovertemplate": "Average Spending=%{text}<br>Category=%{x}<extra></extra>",
         "legendgroup": "2047.107905",
         "marker": {
          "color": "#1b4965",
          "pattern": {
           "shape": ""
          }
         },
         "name": "2047.107905",
         "offsetgroup": "2047.107905",
         "orientation": "v",
         "showlegend": true,
         "text": [
          2047.107905
         ],
         "textposition": "auto",
         "type": "bar",
         "x": [
          "Transportation"
         ],
         "xaxis": "x",
         "y": [
          2047.107905
         ],
         "yaxis": "y"
        },
        {
         "alignmentgroup": "True",
         "hovertemplate": "Average Spending=%{text}<br>Category=%{x}<extra></extra>",
         "legendgroup": "1558.354754",
         "marker": {
          "color": "#053c5e",
          "pattern": {
           "shape": ""
          }
         },
         "name": "1558.354754",
         "offsetgroup": "1558.354754",
         "orientation": "v",
         "showlegend": true,
         "text": [
          1558.354754
         ],
         "textposition": "auto",
         "type": "bar",
         "x": [
          "Entertainment"
         ],
         "xaxis": "x",
         "y": [
          1558.354754
         ],
         "yaxis": "y"
        },
        {
         "alignmentgroup": "True",
         "hovertemplate": "Average Spending=%{text}<br>Category=%{x}<extra></extra>",
         "legendgroup": "5463.965000",
         "marker": {
          "color": "#001f54",
          "pattern": {
           "shape": ""
          }
         },
         "name": "5463.965000",
         "offsetgroup": "5463.965000",
         "orientation": "v",
         "showlegend": true,
         "text": [
          5463.965
         ],
         "textposition": "auto",
         "type": "bar",
         "x": [
          "Travel"
         ],
         "xaxis": "x",
         "y": [
          5463.965
         ],
         "yaxis": "y"
        }
       ],
       "layout": {
        "barmode": "relative",
        "legend": {
         "title": {
          "text": "Average Spending"
         },
         "tracegroupgap": 0
        },
        "template": {
         "data": {
          "bar": [
           {
            "error_x": {
             "color": "#2a3f5f"
            },
            "error_y": {
             "color": "#2a3f5f"
            },
            "marker": {
             "line": {
              "color": "#E5ECF6",
              "width": 0.5
             },
             "pattern": {
              "fillmode": "overlay",
              "size": 10,
              "solidity": 0.2
             }
            },
            "type": "bar"
           }
          ],
          "barpolar": [
           {
            "marker": {
             "line": {
              "color": "#E5ECF6",
              "width": 0.5
             },
             "pattern": {
              "fillmode": "overlay",
              "size": 10,
              "solidity": 0.2
             }
            },
            "type": "barpolar"
           }
          ],
          "carpet": [
           {
            "aaxis": {
             "endlinecolor": "#2a3f5f",
             "gridcolor": "white",
             "linecolor": "white",
             "minorgridcolor": "white",
             "startlinecolor": "#2a3f5f"
            },
            "baxis": {
             "endlinecolor": "#2a3f5f",
             "gridcolor": "white",
             "linecolor": "white",
             "minorgridcolor": "white",
             "startlinecolor": "#2a3f5f"
            },
            "type": "carpet"
           }
          ],
          "choropleth": [
           {
            "colorbar": {
             "outlinewidth": 0,
             "ticks": ""
            },
            "type": "choropleth"
           }
          ],
          "contour": [
           {
            "colorbar": {
             "outlinewidth": 0,
             "ticks": ""
            },
            "colorscale": [
             [
              0,
              "#0d0887"
             ],
             [
              0.1111111111111111,
              "#46039f"
             ],
             [
              0.2222222222222222,
              "#7201a8"
             ],
             [
              0.3333333333333333,
              "#9c179e"
             ],
             [
              0.4444444444444444,
              "#bd3786"
             ],
             [
              0.5555555555555556,
              "#d8576b"
             ],
             [
              0.6666666666666666,
              "#ed7953"
             ],
             [
              0.7777777777777778,
              "#fb9f3a"
             ],
             [
              0.8888888888888888,
              "#fdca26"
             ],
             [
              1,
              "#f0f921"
             ]
            ],
            "type": "contour"
           }
          ],
          "contourcarpet": [
           {
            "colorbar": {
             "outlinewidth": 0,
             "ticks": ""
            },
            "type": "contourcarpet"
           }
          ],
          "heatmap": [
           {
            "colorbar": {
             "outlinewidth": 0,
             "ticks": ""
            },
            "colorscale": [
             [
              0,
              "#0d0887"
             ],
             [
              0.1111111111111111,
              "#46039f"
             ],
             [
              0.2222222222222222,
              "#7201a8"
             ],
             [
              0.3333333333333333,
              "#9c179e"
             ],
             [
              0.4444444444444444,
              "#bd3786"
             ],
             [
              0.5555555555555556,
              "#d8576b"
             ],
             [
              0.6666666666666666,
              "#ed7953"
             ],
             [
              0.7777777777777778,
              "#fb9f3a"
             ],
             [
              0.8888888888888888,
              "#fdca26"
             ],
             [
              1,
              "#f0f921"
             ]
            ],
            "type": "heatmap"
           }
          ],
          "heatmapgl": [
           {
            "colorbar": {
             "outlinewidth": 0,
             "ticks": ""
            },
            "colorscale": [
             [
              0,
              "#0d0887"
             ],
             [
              0.1111111111111111,
              "#46039f"
             ],
             [
              0.2222222222222222,
              "#7201a8"
             ],
             [
              0.3333333333333333,
              "#9c179e"
             ],
             [
              0.4444444444444444,
              "#bd3786"
             ],
             [
              0.5555555555555556,
              "#d8576b"
             ],
             [
              0.6666666666666666,
              "#ed7953"
             ],
             [
              0.7777777777777778,
              "#fb9f3a"
             ],
             [
              0.8888888888888888,
              "#fdca26"
             ],
             [
              1,
              "#f0f921"
             ]
            ],
            "type": "heatmapgl"
           }
          ],
          "histogram": [
           {
            "marker": {
             "pattern": {
              "fillmode": "overlay",
              "size": 10,
              "solidity": 0.2
             }
            },
            "type": "histogram"
           }
          ],
          "histogram2d": [
           {
            "colorbar": {
             "outlinewidth": 0,
             "ticks": ""
            },
            "colorscale": [
             [
              0,
              "#0d0887"
             ],
             [
              0.1111111111111111,
              "#46039f"
             ],
             [
              0.2222222222222222,
              "#7201a8"
             ],
             [
              0.3333333333333333,
              "#9c179e"
             ],
             [
              0.4444444444444444,
              "#bd3786"
             ],
             [
              0.5555555555555556,
              "#d8576b"
             ],
             [
              0.6666666666666666,
              "#ed7953"
             ],
             [
              0.7777777777777778,
              "#fb9f3a"
             ],
             [
              0.8888888888888888,
              "#fdca26"
             ],
             [
              1,
              "#f0f921"
             ]
            ],
            "type": "histogram2d"
           }
          ],
          "histogram2dcontour": [
           {
            "colorbar": {
             "outlinewidth": 0,
             "ticks": ""
            },
            "colorscale": [
             [
              0,
              "#0d0887"
             ],
             [
              0.1111111111111111,
              "#46039f"
             ],
             [
              0.2222222222222222,
              "#7201a8"
             ],
             [
              0.3333333333333333,
              "#9c179e"
             ],
             [
              0.4444444444444444,
              "#bd3786"
             ],
             [
              0.5555555555555556,
              "#d8576b"
             ],
             [
              0.6666666666666666,
              "#ed7953"
             ],
             [
              0.7777777777777778,
              "#fb9f3a"
             ],
             [
              0.8888888888888888,
              "#fdca26"
             ],
             [
              1,
              "#f0f921"
             ]
            ],
            "type": "histogram2dcontour"
           }
          ],
          "mesh3d": [
           {
            "colorbar": {
             "outlinewidth": 0,
             "ticks": ""
            },
            "type": "mesh3d"
           }
          ],
          "parcoords": [
           {
            "line": {
             "colorbar": {
              "outlinewidth": 0,
              "ticks": ""
             }
            },
            "type": "parcoords"
           }
          ],
          "pie": [
           {
            "automargin": true,
            "type": "pie"
           }
          ],
          "scatter": [
           {
            "fillpattern": {
             "fillmode": "overlay",
             "size": 10,
             "solidity": 0.2
            },
            "type": "scatter"
           }
          ],
          "scatter3d": [
           {
            "line": {
             "colorbar": {
              "outlinewidth": 0,
              "ticks": ""
             }
            },
            "marker": {
             "colorbar": {
              "outlinewidth": 0,
              "ticks": ""
             }
            },
            "type": "scatter3d"
           }
          ],
          "scattercarpet": [
           {
            "marker": {
             "colorbar": {
              "outlinewidth": 0,
              "ticks": ""
             }
            },
            "type": "scattercarpet"
           }
          ],
          "scattergeo": [
           {
            "marker": {
             "colorbar": {
              "outlinewidth": 0,
              "ticks": ""
             }
            },
            "type": "scattergeo"
           }
          ],
          "scattergl": [
           {
            "marker": {
             "colorbar": {
              "outlinewidth": 0,
              "ticks": ""
             }
            },
            "type": "scattergl"
           }
          ],
          "scattermapbox": [
           {
            "marker": {
             "colorbar": {
              "outlinewidth": 0,
              "ticks": ""
             }
            },
            "type": "scattermapbox"
           }
          ],
          "scatterpolar": [
           {
            "marker": {
             "colorbar": {
              "outlinewidth": 0,
              "ticks": ""
             }
            },
            "type": "scatterpolar"
           }
          ],
          "scatterpolargl": [
           {
            "marker": {
             "colorbar": {
              "outlinewidth": 0,
              "ticks": ""
             }
            },
            "type": "scatterpolargl"
           }
          ],
          "scatterternary": [
           {
            "marker": {
             "colorbar": {
              "outlinewidth": 0,
              "ticks": ""
             }
            },
            "type": "scatterternary"
           }
          ],
          "surface": [
           {
            "colorbar": {
             "outlinewidth": 0,
             "ticks": ""
            },
            "colorscale": [
             [
              0,
              "#0d0887"
             ],
             [
              0.1111111111111111,
              "#46039f"
             ],
             [
              0.2222222222222222,
              "#7201a8"
             ],
             [
              0.3333333333333333,
              "#9c179e"
             ],
             [
              0.4444444444444444,
              "#bd3786"
             ],
             [
              0.5555555555555556,
              "#d8576b"
             ],
             [
              0.6666666666666666,
              "#ed7953"
             ],
             [
              0.7777777777777778,
              "#fb9f3a"
             ],
             [
              0.8888888888888888,
              "#fdca26"
             ],
             [
              1,
              "#f0f921"
             ]
            ],
            "type": "surface"
           }
          ],
          "table": [
           {
            "cells": {
             "fill": {
              "color": "#EBF0F8"
             },
             "line": {
              "color": "white"
             }
            },
            "header": {
             "fill": {
              "color": "#C8D4E3"
             },
             "line": {
              "color": "white"
             }
            },
            "type": "table"
           }
          ]
         },
         "layout": {
          "annotationdefaults": {
           "arrowcolor": "#2a3f5f",
           "arrowhead": 0,
           "arrowwidth": 1
          },
          "autotypenumbers": "strict",
          "coloraxis": {
           "colorbar": {
            "outlinewidth": 0,
            "ticks": ""
           }
          },
          "colorscale": {
           "diverging": [
            [
             0,
             "#8e0152"
            ],
            [
             0.1,
             "#c51b7d"
            ],
            [
             0.2,
             "#de77ae"
            ],
            [
             0.3,
             "#f1b6da"
            ],
            [
             0.4,
             "#fde0ef"
            ],
            [
             0.5,
             "#f7f7f7"
            ],
            [
             0.6,
             "#e6f5d0"
            ],
            [
             0.7,
             "#b8e186"
            ],
            [
             0.8,
             "#7fbc41"
            ],
            [
             0.9,
             "#4d9221"
            ],
            [
             1,
             "#276419"
            ]
           ],
           "sequential": [
            [
             0,
             "#0d0887"
            ],
            [
             0.1111111111111111,
             "#46039f"
            ],
            [
             0.2222222222222222,
             "#7201a8"
            ],
            [
             0.3333333333333333,
             "#9c179e"
            ],
            [
             0.4444444444444444,
             "#bd3786"
            ],
            [
             0.5555555555555556,
             "#d8576b"
            ],
            [
             0.6666666666666666,
             "#ed7953"
            ],
            [
             0.7777777777777778,
             "#fb9f3a"
            ],
            [
             0.8888888888888888,
             "#fdca26"
            ],
            [
             1,
             "#f0f921"
            ]
           ],
           "sequentialminus": [
            [
             0,
             "#0d0887"
            ],
            [
             0.1111111111111111,
             "#46039f"
            ],
            [
             0.2222222222222222,
             "#7201a8"
            ],
            [
             0.3333333333333333,
             "#9c179e"
            ],
            [
             0.4444444444444444,
             "#bd3786"
            ],
            [
             0.5555555555555556,
             "#d8576b"
            ],
            [
             0.6666666666666666,
             "#ed7953"
            ],
            [
             0.7777777777777778,
             "#fb9f3a"
            ],
            [
             0.8888888888888888,
             "#fdca26"
            ],
            [
             1,
             "#f0f921"
            ]
           ]
          },
          "colorway": [
           "#636efa",
           "#EF553B",
           "#00cc96",
           "#ab63fa",
           "#FFA15A",
           "#19d3f3",
           "#FF6692",
           "#B6E880",
           "#FF97FF",
           "#FECB52"
          ],
          "font": {
           "color": "#2a3f5f"
          },
          "geo": {
           "bgcolor": "white",
           "lakecolor": "white",
           "landcolor": "#E5ECF6",
           "showlakes": true,
           "showland": true,
           "subunitcolor": "white"
          },
          "hoverlabel": {
           "align": "left"
          },
          "hovermode": "closest",
          "mapbox": {
           "style": "light"
          },
          "paper_bgcolor": "white",
          "plot_bgcolor": "#E5ECF6",
          "polar": {
           "angularaxis": {
            "gridcolor": "white",
            "linecolor": "white",
            "ticks": ""
           },
           "bgcolor": "#E5ECF6",
           "radialaxis": {
            "gridcolor": "white",
            "linecolor": "white",
            "ticks": ""
           }
          },
          "scene": {
           "xaxis": {
            "backgroundcolor": "#E5ECF6",
            "gridcolor": "white",
            "gridwidth": 2,
            "linecolor": "white",
            "showbackground": true,
            "ticks": "",
            "zerolinecolor": "white"
           },
           "yaxis": {
            "backgroundcolor": "#E5ECF6",
            "gridcolor": "white",
            "gridwidth": 2,
            "linecolor": "white",
            "showbackground": true,
            "ticks": "",
            "zerolinecolor": "white"
           },
           "zaxis": {
            "backgroundcolor": "#E5ECF6",
            "gridcolor": "white",
            "gridwidth": 2,
            "linecolor": "white",
            "showbackground": true,
            "ticks": "",
            "zerolinecolor": "white"
           }
          },
          "shapedefaults": {
           "line": {
            "color": "#2a3f5f"
           }
          },
          "ternary": {
           "aaxis": {
            "gridcolor": "white",
            "linecolor": "white",
            "ticks": ""
           },
           "baxis": {
            "gridcolor": "white",
            "linecolor": "white",
            "ticks": ""
           },
           "bgcolor": "#E5ECF6",
           "caxis": {
            "gridcolor": "white",
            "linecolor": "white",
            "ticks": ""
           }
          },
          "title": {
           "x": 0.05
          },
          "xaxis": {
           "automargin": true,
           "gridcolor": "white",
           "linecolor": "white",
           "ticks": "",
           "title": {
            "standoff": 15
           },
           "zerolinecolor": "white",
           "zerolinewidth": 2
          },
          "yaxis": {
           "automargin": true,
           "gridcolor": "white",
           "linecolor": "white",
           "ticks": "",
           "title": {
            "standoff": 15
           },
           "zerolinecolor": "white",
           "zerolinewidth": 2
          }
         }
        },
        "title": {
         "text": "Average Spending Per Category"
        },
        "xaxis": {
         "anchor": "y",
         "domain": [
          0,
          1
         ],
         "title": {
          "text": "Category"
         }
        },
        "yaxis": {
         "anchor": "x",
         "categoryarray": [
          5463.965,
          1558.354754,
          2047.107905,
          1111.036442,
          10358.95402,
          808.998731,
          1213.907474,
          1093.405288,
          1797.92337,
          1810.001404
         ],
         "categoryorder": "array",
         "domain": [
          0,
          1
         ],
         "title": {
          "text": "Average Spending"
         }
        }
       }
      }
     },
     "metadata": {},
     "output_type": "display_data"
    }
   ],
   "source": [
    "# Average spending per category.\n",
    "\n",
    "query8 = (\"SELECT Category, AVG(`Amount Paid`) FROM PERSONAL_EXPENSES GROUP BY Category\")\n",
    "\n",
    "my_cursor.execute(query8)\n",
    "\n",
    "avg_spending_result = my_cursor.fetchall()\n",
    "\n",
    "for x in avg_spending_result:\n",
    "    \n",
    "    print(x)\n",
    "    \n",
    "    \n",
    "average_spending_df = pd.DataFrame(avg_spending_result, columns=[\"Category\", \"Average Spending\"])\n",
    "\n",
    "custom_colors = ['#78290f','#f7ede2','#bcbd8b','#b5e2fa','#eddea4',\"#ae2012\",\"#0d1321\",\"#1b4965\",\"#053c5e\",\"#001f54\"]\n",
    "\n",
    "\n",
    "fig = px.bar(average_spending_df,\n",
    "             x=\"Category\",\n",
    "             y=\"Average Spending\",\n",
    "             title=\"Average Spending Per Category\",\n",
    "             color=\"Average Spending\",\n",
    "             text=\"Average Spending\",\n",
    "             color_discrete_sequence=custom_colors,\n",
    "             )\n",
    "\n",
    "fig.show()\n",
    "\n"
   ]
  },
  {
   "cell_type": "code",
   "execution_count": 19,
   "metadata": {},
   "outputs": [
    {
     "name": "stdout",
     "output_type": "stream",
     "text": [
      "('Clothing', 228)\n",
      "('Health & Fitness', 184)\n",
      "('Subscriptions', 208)\n",
      "('Groceries', 190)\n",
      "('Dining Out', 520)\n",
      "('Housing', 204)\n",
      "('Utilities', 208)\n",
      "('Transportation', 210)\n",
      "('Entertainment', 244)\n",
      "('Travel', 204)\n"
     ]
    },
    {
     "data": {
      "application/vnd.plotly.v1+json": {
       "config": {
        "plotlyServerURL": "https://plot.ly"
       },
       "data": [
        {
         "alignmentgroup": "True",
         "hovertemplate": "Category=%{x}<br>Transaction Count=%{text}<extra></extra>",
         "legendgroup": "Clothing",
         "marker": {
          "color": "#582f0e",
          "pattern": {
           "shape": ""
          }
         },
         "name": "Clothing",
         "offsetgroup": "Clothing",
         "orientation": "v",
         "showlegend": true,
         "text": [
          228
         ],
         "textposition": "auto",
         "type": "bar",
         "x": [
          "Clothing"
         ],
         "xaxis": "x",
         "y": [
          228
         ],
         "yaxis": "y"
        },
        {
         "alignmentgroup": "True",
         "hovertemplate": "Category=%{x}<br>Transaction Count=%{text}<extra></extra>",
         "legendgroup": "Health & Fitness",
         "marker": {
          "color": "#7f4f24",
          "pattern": {
           "shape": ""
          }
         },
         "name": "Health & Fitness",
         "offsetgroup": "Health & Fitness",
         "orientation": "v",
         "showlegend": true,
         "text": [
          184
         ],
         "textposition": "auto",
         "type": "bar",
         "x": [
          "Health & Fitness"
         ],
         "xaxis": "x",
         "y": [
          184
         ],
         "yaxis": "y"
        },
        {
         "alignmentgroup": "True",
         "hovertemplate": "Category=%{x}<br>Transaction Count=%{text}<extra></extra>",
         "legendgroup": "Subscriptions",
         "marker": {
          "color": "#936639",
          "pattern": {
           "shape": ""
          }
         },
         "name": "Subscriptions",
         "offsetgroup": "Subscriptions",
         "orientation": "v",
         "showlegend": true,
         "text": [
          208
         ],
         "textposition": "auto",
         "type": "bar",
         "x": [
          "Subscriptions"
         ],
         "xaxis": "x",
         "y": [
          208
         ],
         "yaxis": "y"
        },
        {
         "alignmentgroup": "True",
         "hovertemplate": "Category=%{x}<br>Transaction Count=%{text}<extra></extra>",
         "legendgroup": "Groceries",
         "marker": {
          "color": "#a68a64",
          "pattern": {
           "shape": ""
          }
         },
         "name": "Groceries",
         "offsetgroup": "Groceries",
         "orientation": "v",
         "showlegend": true,
         "text": [
          190
         ],
         "textposition": "auto",
         "type": "bar",
         "x": [
          "Groceries"
         ],
         "xaxis": "x",
         "y": [
          190
         ],
         "yaxis": "y"
        },
        {
         "alignmentgroup": "True",
         "hovertemplate": "Category=%{x}<br>Transaction Count=%{text}<extra></extra>",
         "legendgroup": "Dining Out",
         "marker": {
          "color": "#d8572a",
          "pattern": {
           "shape": ""
          }
         },
         "name": "Dining Out",
         "offsetgroup": "Dining Out",
         "orientation": "v",
         "showlegend": true,
         "text": [
          520
         ],
         "textposition": "auto",
         "type": "bar",
         "x": [
          "Dining Out"
         ],
         "xaxis": "x",
         "y": [
          520
         ],
         "yaxis": "y"
        },
        {
         "alignmentgroup": "True",
         "hovertemplate": "Category=%{x}<br>Transaction Count=%{text}<extra></extra>",
         "legendgroup": "Housing",
         "marker": {
          "color": "#373d20",
          "pattern": {
           "shape": ""
          }
         },
         "name": "Housing",
         "offsetgroup": "Housing",
         "orientation": "v",
         "showlegend": true,
         "text": [
          204
         ],
         "textposition": "auto",
         "type": "bar",
         "x": [
          "Housing"
         ],
         "xaxis": "x",
         "y": [
          204
         ],
         "yaxis": "y"
        },
        {
         "alignmentgroup": "True",
         "hovertemplate": "Category=%{x}<br>Transaction Count=%{text}<extra></extra>",
         "legendgroup": "Utilities",
         "marker": {
          "color": "#717744",
          "pattern": {
           "shape": ""
          }
         },
         "name": "Utilities",
         "offsetgroup": "Utilities",
         "orientation": "v",
         "showlegend": true,
         "text": [
          208
         ],
         "textposition": "auto",
         "type": "bar",
         "x": [
          "Utilities"
         ],
         "xaxis": "x",
         "y": [
          208
         ],
         "yaxis": "y"
        },
        {
         "alignmentgroup": "True",
         "hovertemplate": "Category=%{x}<br>Transaction Count=%{text}<extra></extra>",
         "legendgroup": "Transportation",
         "marker": {
          "color": "#bcbd8b",
          "pattern": {
           "shape": ""
          }
         },
         "name": "Transportation",
         "offsetgroup": "Transportation",
         "orientation": "v",
         "showlegend": true,
         "text": [
          210
         ],
         "textposition": "auto",
         "type": "bar",
         "x": [
          "Transportation"
         ],
         "xaxis": "x",
         "y": [
          210
         ],
         "yaxis": "y"
        },
        {
         "alignmentgroup": "True",
         "hovertemplate": "Category=%{x}<br>Transaction Count=%{text}<extra></extra>",
         "legendgroup": "Entertainment",
         "marker": {
          "color": "#766153",
          "pattern": {
           "shape": ""
          }
         },
         "name": "Entertainment",
         "offsetgroup": "Entertainment",
         "orientation": "v",
         "showlegend": true,
         "text": [
          244
         ],
         "textposition": "auto",
         "type": "bar",
         "x": [
          "Entertainment"
         ],
         "xaxis": "x",
         "y": [
          244
         ],
         "yaxis": "y"
        },
        {
         "alignmentgroup": "True",
         "hovertemplate": "Category=%{x}<br>Transaction Count=%{text}<extra></extra>",
         "legendgroup": "Travel",
         "marker": {
          "color": "#bcb8b1",
          "pattern": {
           "shape": ""
          }
         },
         "name": "Travel",
         "offsetgroup": "Travel",
         "orientation": "v",
         "showlegend": true,
         "text": [
          204
         ],
         "textposition": "auto",
         "type": "bar",
         "x": [
          "Travel"
         ],
         "xaxis": "x",
         "y": [
          204
         ],
         "yaxis": "y"
        }
       ],
       "layout": {
        "barmode": "relative",
        "legend": {
         "title": {
          "text": "Category"
         },
         "tracegroupgap": 0
        },
        "template": {
         "data": {
          "bar": [
           {
            "error_x": {
             "color": "#2a3f5f"
            },
            "error_y": {
             "color": "#2a3f5f"
            },
            "marker": {
             "line": {
              "color": "#E5ECF6",
              "width": 0.5
             },
             "pattern": {
              "fillmode": "overlay",
              "size": 10,
              "solidity": 0.2
             }
            },
            "type": "bar"
           }
          ],
          "barpolar": [
           {
            "marker": {
             "line": {
              "color": "#E5ECF6",
              "width": 0.5
             },
             "pattern": {
              "fillmode": "overlay",
              "size": 10,
              "solidity": 0.2
             }
            },
            "type": "barpolar"
           }
          ],
          "carpet": [
           {
            "aaxis": {
             "endlinecolor": "#2a3f5f",
             "gridcolor": "white",
             "linecolor": "white",
             "minorgridcolor": "white",
             "startlinecolor": "#2a3f5f"
            },
            "baxis": {
             "endlinecolor": "#2a3f5f",
             "gridcolor": "white",
             "linecolor": "white",
             "minorgridcolor": "white",
             "startlinecolor": "#2a3f5f"
            },
            "type": "carpet"
           }
          ],
          "choropleth": [
           {
            "colorbar": {
             "outlinewidth": 0,
             "ticks": ""
            },
            "type": "choropleth"
           }
          ],
          "contour": [
           {
            "colorbar": {
             "outlinewidth": 0,
             "ticks": ""
            },
            "colorscale": [
             [
              0,
              "#0d0887"
             ],
             [
              0.1111111111111111,
              "#46039f"
             ],
             [
              0.2222222222222222,
              "#7201a8"
             ],
             [
              0.3333333333333333,
              "#9c179e"
             ],
             [
              0.4444444444444444,
              "#bd3786"
             ],
             [
              0.5555555555555556,
              "#d8576b"
             ],
             [
              0.6666666666666666,
              "#ed7953"
             ],
             [
              0.7777777777777778,
              "#fb9f3a"
             ],
             [
              0.8888888888888888,
              "#fdca26"
             ],
             [
              1,
              "#f0f921"
             ]
            ],
            "type": "contour"
           }
          ],
          "contourcarpet": [
           {
            "colorbar": {
             "outlinewidth": 0,
             "ticks": ""
            },
            "type": "contourcarpet"
           }
          ],
          "heatmap": [
           {
            "colorbar": {
             "outlinewidth": 0,
             "ticks": ""
            },
            "colorscale": [
             [
              0,
              "#0d0887"
             ],
             [
              0.1111111111111111,
              "#46039f"
             ],
             [
              0.2222222222222222,
              "#7201a8"
             ],
             [
              0.3333333333333333,
              "#9c179e"
             ],
             [
              0.4444444444444444,
              "#bd3786"
             ],
             [
              0.5555555555555556,
              "#d8576b"
             ],
             [
              0.6666666666666666,
              "#ed7953"
             ],
             [
              0.7777777777777778,
              "#fb9f3a"
             ],
             [
              0.8888888888888888,
              "#fdca26"
             ],
             [
              1,
              "#f0f921"
             ]
            ],
            "type": "heatmap"
           }
          ],
          "heatmapgl": [
           {
            "colorbar": {
             "outlinewidth": 0,
             "ticks": ""
            },
            "colorscale": [
             [
              0,
              "#0d0887"
             ],
             [
              0.1111111111111111,
              "#46039f"
             ],
             [
              0.2222222222222222,
              "#7201a8"
             ],
             [
              0.3333333333333333,
              "#9c179e"
             ],
             [
              0.4444444444444444,
              "#bd3786"
             ],
             [
              0.5555555555555556,
              "#d8576b"
             ],
             [
              0.6666666666666666,
              "#ed7953"
             ],
             [
              0.7777777777777778,
              "#fb9f3a"
             ],
             [
              0.8888888888888888,
              "#fdca26"
             ],
             [
              1,
              "#f0f921"
             ]
            ],
            "type": "heatmapgl"
           }
          ],
          "histogram": [
           {
            "marker": {
             "pattern": {
              "fillmode": "overlay",
              "size": 10,
              "solidity": 0.2
             }
            },
            "type": "histogram"
           }
          ],
          "histogram2d": [
           {
            "colorbar": {
             "outlinewidth": 0,
             "ticks": ""
            },
            "colorscale": [
             [
              0,
              "#0d0887"
             ],
             [
              0.1111111111111111,
              "#46039f"
             ],
             [
              0.2222222222222222,
              "#7201a8"
             ],
             [
              0.3333333333333333,
              "#9c179e"
             ],
             [
              0.4444444444444444,
              "#bd3786"
             ],
             [
              0.5555555555555556,
              "#d8576b"
             ],
             [
              0.6666666666666666,
              "#ed7953"
             ],
             [
              0.7777777777777778,
              "#fb9f3a"
             ],
             [
              0.8888888888888888,
              "#fdca26"
             ],
             [
              1,
              "#f0f921"
             ]
            ],
            "type": "histogram2d"
           }
          ],
          "histogram2dcontour": [
           {
            "colorbar": {
             "outlinewidth": 0,
             "ticks": ""
            },
            "colorscale": [
             [
              0,
              "#0d0887"
             ],
             [
              0.1111111111111111,
              "#46039f"
             ],
             [
              0.2222222222222222,
              "#7201a8"
             ],
             [
              0.3333333333333333,
              "#9c179e"
             ],
             [
              0.4444444444444444,
              "#bd3786"
             ],
             [
              0.5555555555555556,
              "#d8576b"
             ],
             [
              0.6666666666666666,
              "#ed7953"
             ],
             [
              0.7777777777777778,
              "#fb9f3a"
             ],
             [
              0.8888888888888888,
              "#fdca26"
             ],
             [
              1,
              "#f0f921"
             ]
            ],
            "type": "histogram2dcontour"
           }
          ],
          "mesh3d": [
           {
            "colorbar": {
             "outlinewidth": 0,
             "ticks": ""
            },
            "type": "mesh3d"
           }
          ],
          "parcoords": [
           {
            "line": {
             "colorbar": {
              "outlinewidth": 0,
              "ticks": ""
             }
            },
            "type": "parcoords"
           }
          ],
          "pie": [
           {
            "automargin": true,
            "type": "pie"
           }
          ],
          "scatter": [
           {
            "fillpattern": {
             "fillmode": "overlay",
             "size": 10,
             "solidity": 0.2
            },
            "type": "scatter"
           }
          ],
          "scatter3d": [
           {
            "line": {
             "colorbar": {
              "outlinewidth": 0,
              "ticks": ""
             }
            },
            "marker": {
             "colorbar": {
              "outlinewidth": 0,
              "ticks": ""
             }
            },
            "type": "scatter3d"
           }
          ],
          "scattercarpet": [
           {
            "marker": {
             "colorbar": {
              "outlinewidth": 0,
              "ticks": ""
             }
            },
            "type": "scattercarpet"
           }
          ],
          "scattergeo": [
           {
            "marker": {
             "colorbar": {
              "outlinewidth": 0,
              "ticks": ""
             }
            },
            "type": "scattergeo"
           }
          ],
          "scattergl": [
           {
            "marker": {
             "colorbar": {
              "outlinewidth": 0,
              "ticks": ""
             }
            },
            "type": "scattergl"
           }
          ],
          "scattermapbox": [
           {
            "marker": {
             "colorbar": {
              "outlinewidth": 0,
              "ticks": ""
             }
            },
            "type": "scattermapbox"
           }
          ],
          "scatterpolar": [
           {
            "marker": {
             "colorbar": {
              "outlinewidth": 0,
              "ticks": ""
             }
            },
            "type": "scatterpolar"
           }
          ],
          "scatterpolargl": [
           {
            "marker": {
             "colorbar": {
              "outlinewidth": 0,
              "ticks": ""
             }
            },
            "type": "scatterpolargl"
           }
          ],
          "scatterternary": [
           {
            "marker": {
             "colorbar": {
              "outlinewidth": 0,
              "ticks": ""
             }
            },
            "type": "scatterternary"
           }
          ],
          "surface": [
           {
            "colorbar": {
             "outlinewidth": 0,
             "ticks": ""
            },
            "colorscale": [
             [
              0,
              "#0d0887"
             ],
             [
              0.1111111111111111,
              "#46039f"
             ],
             [
              0.2222222222222222,
              "#7201a8"
             ],
             [
              0.3333333333333333,
              "#9c179e"
             ],
             [
              0.4444444444444444,
              "#bd3786"
             ],
             [
              0.5555555555555556,
              "#d8576b"
             ],
             [
              0.6666666666666666,
              "#ed7953"
             ],
             [
              0.7777777777777778,
              "#fb9f3a"
             ],
             [
              0.8888888888888888,
              "#fdca26"
             ],
             [
              1,
              "#f0f921"
             ]
            ],
            "type": "surface"
           }
          ],
          "table": [
           {
            "cells": {
             "fill": {
              "color": "#EBF0F8"
             },
             "line": {
              "color": "white"
             }
            },
            "header": {
             "fill": {
              "color": "#C8D4E3"
             },
             "line": {
              "color": "white"
             }
            },
            "type": "table"
           }
          ]
         },
         "layout": {
          "annotationdefaults": {
           "arrowcolor": "#2a3f5f",
           "arrowhead": 0,
           "arrowwidth": 1
          },
          "autotypenumbers": "strict",
          "coloraxis": {
           "colorbar": {
            "outlinewidth": 0,
            "ticks": ""
           }
          },
          "colorscale": {
           "diverging": [
            [
             0,
             "#8e0152"
            ],
            [
             0.1,
             "#c51b7d"
            ],
            [
             0.2,
             "#de77ae"
            ],
            [
             0.3,
             "#f1b6da"
            ],
            [
             0.4,
             "#fde0ef"
            ],
            [
             0.5,
             "#f7f7f7"
            ],
            [
             0.6,
             "#e6f5d0"
            ],
            [
             0.7,
             "#b8e186"
            ],
            [
             0.8,
             "#7fbc41"
            ],
            [
             0.9,
             "#4d9221"
            ],
            [
             1,
             "#276419"
            ]
           ],
           "sequential": [
            [
             0,
             "#0d0887"
            ],
            [
             0.1111111111111111,
             "#46039f"
            ],
            [
             0.2222222222222222,
             "#7201a8"
            ],
            [
             0.3333333333333333,
             "#9c179e"
            ],
            [
             0.4444444444444444,
             "#bd3786"
            ],
            [
             0.5555555555555556,
             "#d8576b"
            ],
            [
             0.6666666666666666,
             "#ed7953"
            ],
            [
             0.7777777777777778,
             "#fb9f3a"
            ],
            [
             0.8888888888888888,
             "#fdca26"
            ],
            [
             1,
             "#f0f921"
            ]
           ],
           "sequentialminus": [
            [
             0,
             "#0d0887"
            ],
            [
             0.1111111111111111,
             "#46039f"
            ],
            [
             0.2222222222222222,
             "#7201a8"
            ],
            [
             0.3333333333333333,
             "#9c179e"
            ],
            [
             0.4444444444444444,
             "#bd3786"
            ],
            [
             0.5555555555555556,
             "#d8576b"
            ],
            [
             0.6666666666666666,
             "#ed7953"
            ],
            [
             0.7777777777777778,
             "#fb9f3a"
            ],
            [
             0.8888888888888888,
             "#fdca26"
            ],
            [
             1,
             "#f0f921"
            ]
           ]
          },
          "colorway": [
           "#636efa",
           "#EF553B",
           "#00cc96",
           "#ab63fa",
           "#FFA15A",
           "#19d3f3",
           "#FF6692",
           "#B6E880",
           "#FF97FF",
           "#FECB52"
          ],
          "font": {
           "color": "#2a3f5f"
          },
          "geo": {
           "bgcolor": "white",
           "lakecolor": "white",
           "landcolor": "#E5ECF6",
           "showlakes": true,
           "showland": true,
           "subunitcolor": "white"
          },
          "hoverlabel": {
           "align": "left"
          },
          "hovermode": "closest",
          "mapbox": {
           "style": "light"
          },
          "paper_bgcolor": "white",
          "plot_bgcolor": "#E5ECF6",
          "polar": {
           "angularaxis": {
            "gridcolor": "white",
            "linecolor": "white",
            "ticks": ""
           },
           "bgcolor": "#E5ECF6",
           "radialaxis": {
            "gridcolor": "white",
            "linecolor": "white",
            "ticks": ""
           }
          },
          "scene": {
           "xaxis": {
            "backgroundcolor": "#E5ECF6",
            "gridcolor": "white",
            "gridwidth": 2,
            "linecolor": "white",
            "showbackground": true,
            "ticks": "",
            "zerolinecolor": "white"
           },
           "yaxis": {
            "backgroundcolor": "#E5ECF6",
            "gridcolor": "white",
            "gridwidth": 2,
            "linecolor": "white",
            "showbackground": true,
            "ticks": "",
            "zerolinecolor": "white"
           },
           "zaxis": {
            "backgroundcolor": "#E5ECF6",
            "gridcolor": "white",
            "gridwidth": 2,
            "linecolor": "white",
            "showbackground": true,
            "ticks": "",
            "zerolinecolor": "white"
           }
          },
          "shapedefaults": {
           "line": {
            "color": "#2a3f5f"
           }
          },
          "ternary": {
           "aaxis": {
            "gridcolor": "white",
            "linecolor": "white",
            "ticks": ""
           },
           "baxis": {
            "gridcolor": "white",
            "linecolor": "white",
            "ticks": ""
           },
           "bgcolor": "#E5ECF6",
           "caxis": {
            "gridcolor": "white",
            "linecolor": "white",
            "ticks": ""
           }
          },
          "title": {
           "x": 0.05
          },
          "xaxis": {
           "automargin": true,
           "gridcolor": "white",
           "linecolor": "white",
           "ticks": "",
           "title": {
            "standoff": 15
           },
           "zerolinecolor": "white",
           "zerolinewidth": 2
          },
          "yaxis": {
           "automargin": true,
           "gridcolor": "white",
           "linecolor": "white",
           "ticks": "",
           "title": {
            "standoff": 15
           },
           "zerolinecolor": "white",
           "zerolinewidth": 2
          }
         }
        },
        "title": {
         "text": "Categories with More Than 50 Transactions"
        },
        "xaxis": {
         "anchor": "y",
         "categoryarray": [
          "Clothing",
          "Health & Fitness",
          "Subscriptions",
          "Groceries",
          "Dining Out",
          "Housing",
          "Utilities",
          "Transportation",
          "Entertainment",
          "Travel"
         ],
         "categoryorder": "array",
         "domain": [
          0,
          1
         ],
         "title": {
          "text": "Category"
         }
        },
        "yaxis": {
         "anchor": "x",
         "domain": [
          0,
          1
         ],
         "title": {
          "text": "Transaction Count"
         }
        }
       }
      }
     },
     "metadata": {},
     "output_type": "display_data"
    }
   ],
   "source": [
    "# Categories with more than 50 transactions\n",
    "\n",
    "query9= (\"SELECT Category, COUNT(*) FROM PERSONAL_EXPENSES GROUP BY Category HAVING COUNT(*) > 50\")\n",
    "\n",
    "my_cursor.execute(query9)\n",
    "\n",
    "categories_above_50_transactions = my_cursor.fetchall()\n",
    "\n",
    "for x in categories_above_50_transactions:\n",
    "    \n",
    "    print(x)\n",
    "    \n",
    "categories_df = pd.DataFrame(categories_above_50_transactions, columns=[\"Category\", \"Transaction Count\"])\n",
    "\n",
    "# Define a custom color sequence\n",
    "custom_colors = ['#582f0e', '#7f4f24', '#936639', '#a68a64', '#d8572a','#373d20','#717744','#bcbd8b','#766153','#bcb8b1']\n",
    "\n",
    "fig = px.bar(\n",
    "    categories_df,\n",
    "    x=\"Category\",\n",
    "    y=\"Transaction Count\",\n",
    "    title=\"Categories with More Than 50 Transactions\",\n",
    "    color=\"Category\",\n",
    "    text=\"Transaction Count\",\n",
    "    color_discrete_sequence=custom_colors\n",
    "    )\n",
    "\n",
    "\n",
    "fig.show()"
   ]
  },
  {
   "cell_type": "code",
   "execution_count": 20,
   "metadata": {},
   "outputs": [
    {
     "name": "stdout",
     "output_type": "stream",
     "text": [
      "('Clothing', Decimal('8638.84'))\n",
      "('Health & Fitness', Decimal('4968.95'))\n",
      "('Subscriptions', Decimal('4634.93'))\n",
      "('Groceries', Decimal('4022.83'))\n",
      "('Dining Out', Decimal('4625.93'))\n",
      "('Housing', Decimal('38218.03'))\n",
      "('Utilities', Decimal('4579.84'))\n",
      "('Transportation', Decimal('9966.81'))\n",
      "('Entertainment', Decimal('4896.51'))\n",
      "('Travel', Decimal('45263.34'))\n"
     ]
    },
    {
     "data": {
      "application/vnd.plotly.v1+json": {
       "config": {
        "plotlyServerURL": "https://plot.ly"
       },
       "data": [
        {
         "alignmentgroup": "True",
         "hovertemplate": "Category=%{x}<br>Max Amount Spent=%{text}<extra></extra>",
         "legendgroup": "Clothing",
         "marker": {
          "color": "#0466c8",
          "pattern": {
           "shape": ""
          }
         },
         "name": "Clothing",
         "offsetgroup": "Clothing",
         "orientation": "v",
         "showlegend": true,
         "text": [
          8638.84
         ],
         "textposition": "auto",
         "type": "bar",
         "x": [
          "Clothing"
         ],
         "xaxis": "x",
         "y": [
          8638.84
         ],
         "yaxis": "y"
        },
        {
         "alignmentgroup": "True",
         "hovertemplate": "Category=%{x}<br>Max Amount Spent=%{text}<extra></extra>",
         "legendgroup": "Health & Fitness",
         "marker": {
          "color": "#0353a4",
          "pattern": {
           "shape": ""
          }
         },
         "name": "Health & Fitness",
         "offsetgroup": "Health & Fitness",
         "orientation": "v",
         "showlegend": true,
         "text": [
          4968.95
         ],
         "textposition": "auto",
         "type": "bar",
         "x": [
          "Health & Fitness"
         ],
         "xaxis": "x",
         "y": [
          4968.95
         ],
         "yaxis": "y"
        },
        {
         "alignmentgroup": "True",
         "hovertemplate": "Category=%{x}<br>Max Amount Spent=%{text}<extra></extra>",
         "legendgroup": "Subscriptions",
         "marker": {
          "color": "#023e7d",
          "pattern": {
           "shape": ""
          }
         },
         "name": "Subscriptions",
         "offsetgroup": "Subscriptions",
         "orientation": "v",
         "showlegend": true,
         "text": [
          4634.93
         ],
         "textposition": "auto",
         "type": "bar",
         "x": [
          "Subscriptions"
         ],
         "xaxis": "x",
         "y": [
          4634.93
         ],
         "yaxis": "y"
        },
        {
         "alignmentgroup": "True",
         "hovertemplate": "Category=%{x}<br>Max Amount Spent=%{text}<extra></extra>",
         "legendgroup": "Groceries",
         "marker": {
          "color": "#002855",
          "pattern": {
           "shape": ""
          }
         },
         "name": "Groceries",
         "offsetgroup": "Groceries",
         "orientation": "v",
         "showlegend": true,
         "text": [
          4022.83
         ],
         "textposition": "auto",
         "type": "bar",
         "x": [
          "Groceries"
         ],
         "xaxis": "x",
         "y": [
          4022.83
         ],
         "yaxis": "y"
        },
        {
         "alignmentgroup": "True",
         "hovertemplate": "Category=%{x}<br>Max Amount Spent=%{text}<extra></extra>",
         "legendgroup": "Dining Out",
         "marker": {
          "color": "#001845",
          "pattern": {
           "shape": ""
          }
         },
         "name": "Dining Out",
         "offsetgroup": "Dining Out",
         "orientation": "v",
         "showlegend": true,
         "text": [
          4625.93
         ],
         "textposition": "auto",
         "type": "bar",
         "x": [
          "Dining Out"
         ],
         "xaxis": "x",
         "y": [
          4625.93
         ],
         "yaxis": "y"
        },
        {
         "alignmentgroup": "True",
         "hovertemplate": "Category=%{x}<br>Max Amount Spent=%{text}<extra></extra>",
         "legendgroup": "Housing",
         "marker": {
          "color": "#001233",
          "pattern": {
           "shape": ""
          }
         },
         "name": "Housing",
         "offsetgroup": "Housing",
         "orientation": "v",
         "showlegend": true,
         "text": [
          38218.03
         ],
         "textposition": "auto",
         "type": "bar",
         "x": [
          "Housing"
         ],
         "xaxis": "x",
         "y": [
          38218.03
         ],
         "yaxis": "y"
        },
        {
         "alignmentgroup": "True",
         "hovertemplate": "Category=%{x}<br>Max Amount Spent=%{text}<extra></extra>",
         "legendgroup": "Utilities",
         "marker": {
          "color": "#33415c",
          "pattern": {
           "shape": ""
          }
         },
         "name": "Utilities",
         "offsetgroup": "Utilities",
         "orientation": "v",
         "showlegend": true,
         "text": [
          4579.84
         ],
         "textposition": "auto",
         "type": "bar",
         "x": [
          "Utilities"
         ],
         "xaxis": "x",
         "y": [
          4579.84
         ],
         "yaxis": "y"
        },
        {
         "alignmentgroup": "True",
         "hovertemplate": "Category=%{x}<br>Max Amount Spent=%{text}<extra></extra>",
         "legendgroup": "Transportation",
         "marker": {
          "color": "#5c677d",
          "pattern": {
           "shape": ""
          }
         },
         "name": "Transportation",
         "offsetgroup": "Transportation",
         "orientation": "v",
         "showlegend": true,
         "text": [
          9966.81
         ],
         "textposition": "auto",
         "type": "bar",
         "x": [
          "Transportation"
         ],
         "xaxis": "x",
         "y": [
          9966.81
         ],
         "yaxis": "y"
        },
        {
         "alignmentgroup": "True",
         "hovertemplate": "Category=%{x}<br>Max Amount Spent=%{text}<extra></extra>",
         "legendgroup": "Entertainment",
         "marker": {
          "color": "#7d8597",
          "pattern": {
           "shape": ""
          }
         },
         "name": "Entertainment",
         "offsetgroup": "Entertainment",
         "orientation": "v",
         "showlegend": true,
         "text": [
          4896.51
         ],
         "textposition": "auto",
         "type": "bar",
         "x": [
          "Entertainment"
         ],
         "xaxis": "x",
         "y": [
          4896.51
         ],
         "yaxis": "y"
        },
        {
         "alignmentgroup": "True",
         "hovertemplate": "Category=%{x}<br>Max Amount Spent=%{text}<extra></extra>",
         "legendgroup": "Travel",
         "marker": {
          "color": "#979dac",
          "pattern": {
           "shape": ""
          }
         },
         "name": "Travel",
         "offsetgroup": "Travel",
         "orientation": "v",
         "showlegend": true,
         "text": [
          45263.34
         ],
         "textposition": "auto",
         "type": "bar",
         "x": [
          "Travel"
         ],
         "xaxis": "x",
         "y": [
          45263.34
         ],
         "yaxis": "y"
        }
       ],
       "layout": {
        "barmode": "relative",
        "legend": {
         "title": {
          "text": "Category"
         },
         "tracegroupgap": 0
        },
        "template": {
         "data": {
          "bar": [
           {
            "error_x": {
             "color": "#2a3f5f"
            },
            "error_y": {
             "color": "#2a3f5f"
            },
            "marker": {
             "line": {
              "color": "#E5ECF6",
              "width": 0.5
             },
             "pattern": {
              "fillmode": "overlay",
              "size": 10,
              "solidity": 0.2
             }
            },
            "type": "bar"
           }
          ],
          "barpolar": [
           {
            "marker": {
             "line": {
              "color": "#E5ECF6",
              "width": 0.5
             },
             "pattern": {
              "fillmode": "overlay",
              "size": 10,
              "solidity": 0.2
             }
            },
            "type": "barpolar"
           }
          ],
          "carpet": [
           {
            "aaxis": {
             "endlinecolor": "#2a3f5f",
             "gridcolor": "white",
             "linecolor": "white",
             "minorgridcolor": "white",
             "startlinecolor": "#2a3f5f"
            },
            "baxis": {
             "endlinecolor": "#2a3f5f",
             "gridcolor": "white",
             "linecolor": "white",
             "minorgridcolor": "white",
             "startlinecolor": "#2a3f5f"
            },
            "type": "carpet"
           }
          ],
          "choropleth": [
           {
            "colorbar": {
             "outlinewidth": 0,
             "ticks": ""
            },
            "type": "choropleth"
           }
          ],
          "contour": [
           {
            "colorbar": {
             "outlinewidth": 0,
             "ticks": ""
            },
            "colorscale": [
             [
              0,
              "#0d0887"
             ],
             [
              0.1111111111111111,
              "#46039f"
             ],
             [
              0.2222222222222222,
              "#7201a8"
             ],
             [
              0.3333333333333333,
              "#9c179e"
             ],
             [
              0.4444444444444444,
              "#bd3786"
             ],
             [
              0.5555555555555556,
              "#d8576b"
             ],
             [
              0.6666666666666666,
              "#ed7953"
             ],
             [
              0.7777777777777778,
              "#fb9f3a"
             ],
             [
              0.8888888888888888,
              "#fdca26"
             ],
             [
              1,
              "#f0f921"
             ]
            ],
            "type": "contour"
           }
          ],
          "contourcarpet": [
           {
            "colorbar": {
             "outlinewidth": 0,
             "ticks": ""
            },
            "type": "contourcarpet"
           }
          ],
          "heatmap": [
           {
            "colorbar": {
             "outlinewidth": 0,
             "ticks": ""
            },
            "colorscale": [
             [
              0,
              "#0d0887"
             ],
             [
              0.1111111111111111,
              "#46039f"
             ],
             [
              0.2222222222222222,
              "#7201a8"
             ],
             [
              0.3333333333333333,
              "#9c179e"
             ],
             [
              0.4444444444444444,
              "#bd3786"
             ],
             [
              0.5555555555555556,
              "#d8576b"
             ],
             [
              0.6666666666666666,
              "#ed7953"
             ],
             [
              0.7777777777777778,
              "#fb9f3a"
             ],
             [
              0.8888888888888888,
              "#fdca26"
             ],
             [
              1,
              "#f0f921"
             ]
            ],
            "type": "heatmap"
           }
          ],
          "heatmapgl": [
           {
            "colorbar": {
             "outlinewidth": 0,
             "ticks": ""
            },
            "colorscale": [
             [
              0,
              "#0d0887"
             ],
             [
              0.1111111111111111,
              "#46039f"
             ],
             [
              0.2222222222222222,
              "#7201a8"
             ],
             [
              0.3333333333333333,
              "#9c179e"
             ],
             [
              0.4444444444444444,
              "#bd3786"
             ],
             [
              0.5555555555555556,
              "#d8576b"
             ],
             [
              0.6666666666666666,
              "#ed7953"
             ],
             [
              0.7777777777777778,
              "#fb9f3a"
             ],
             [
              0.8888888888888888,
              "#fdca26"
             ],
             [
              1,
              "#f0f921"
             ]
            ],
            "type": "heatmapgl"
           }
          ],
          "histogram": [
           {
            "marker": {
             "pattern": {
              "fillmode": "overlay",
              "size": 10,
              "solidity": 0.2
             }
            },
            "type": "histogram"
           }
          ],
          "histogram2d": [
           {
            "colorbar": {
             "outlinewidth": 0,
             "ticks": ""
            },
            "colorscale": [
             [
              0,
              "#0d0887"
             ],
             [
              0.1111111111111111,
              "#46039f"
             ],
             [
              0.2222222222222222,
              "#7201a8"
             ],
             [
              0.3333333333333333,
              "#9c179e"
             ],
             [
              0.4444444444444444,
              "#bd3786"
             ],
             [
              0.5555555555555556,
              "#d8576b"
             ],
             [
              0.6666666666666666,
              "#ed7953"
             ],
             [
              0.7777777777777778,
              "#fb9f3a"
             ],
             [
              0.8888888888888888,
              "#fdca26"
             ],
             [
              1,
              "#f0f921"
             ]
            ],
            "type": "histogram2d"
           }
          ],
          "histogram2dcontour": [
           {
            "colorbar": {
             "outlinewidth": 0,
             "ticks": ""
            },
            "colorscale": [
             [
              0,
              "#0d0887"
             ],
             [
              0.1111111111111111,
              "#46039f"
             ],
             [
              0.2222222222222222,
              "#7201a8"
             ],
             [
              0.3333333333333333,
              "#9c179e"
             ],
             [
              0.4444444444444444,
              "#bd3786"
             ],
             [
              0.5555555555555556,
              "#d8576b"
             ],
             [
              0.6666666666666666,
              "#ed7953"
             ],
             [
              0.7777777777777778,
              "#fb9f3a"
             ],
             [
              0.8888888888888888,
              "#fdca26"
             ],
             [
              1,
              "#f0f921"
             ]
            ],
            "type": "histogram2dcontour"
           }
          ],
          "mesh3d": [
           {
            "colorbar": {
             "outlinewidth": 0,
             "ticks": ""
            },
            "type": "mesh3d"
           }
          ],
          "parcoords": [
           {
            "line": {
             "colorbar": {
              "outlinewidth": 0,
              "ticks": ""
             }
            },
            "type": "parcoords"
           }
          ],
          "pie": [
           {
            "automargin": true,
            "type": "pie"
           }
          ],
          "scatter": [
           {
            "fillpattern": {
             "fillmode": "overlay",
             "size": 10,
             "solidity": 0.2
            },
            "type": "scatter"
           }
          ],
          "scatter3d": [
           {
            "line": {
             "colorbar": {
              "outlinewidth": 0,
              "ticks": ""
             }
            },
            "marker": {
             "colorbar": {
              "outlinewidth": 0,
              "ticks": ""
             }
            },
            "type": "scatter3d"
           }
          ],
          "scattercarpet": [
           {
            "marker": {
             "colorbar": {
              "outlinewidth": 0,
              "ticks": ""
             }
            },
            "type": "scattercarpet"
           }
          ],
          "scattergeo": [
           {
            "marker": {
             "colorbar": {
              "outlinewidth": 0,
              "ticks": ""
             }
            },
            "type": "scattergeo"
           }
          ],
          "scattergl": [
           {
            "marker": {
             "colorbar": {
              "outlinewidth": 0,
              "ticks": ""
             }
            },
            "type": "scattergl"
           }
          ],
          "scattermapbox": [
           {
            "marker": {
             "colorbar": {
              "outlinewidth": 0,
              "ticks": ""
             }
            },
            "type": "scattermapbox"
           }
          ],
          "scatterpolar": [
           {
            "marker": {
             "colorbar": {
              "outlinewidth": 0,
              "ticks": ""
             }
            },
            "type": "scatterpolar"
           }
          ],
          "scatterpolargl": [
           {
            "marker": {
             "colorbar": {
              "outlinewidth": 0,
              "ticks": ""
             }
            },
            "type": "scatterpolargl"
           }
          ],
          "scatterternary": [
           {
            "marker": {
             "colorbar": {
              "outlinewidth": 0,
              "ticks": ""
             }
            },
            "type": "scatterternary"
           }
          ],
          "surface": [
           {
            "colorbar": {
             "outlinewidth": 0,
             "ticks": ""
            },
            "colorscale": [
             [
              0,
              "#0d0887"
             ],
             [
              0.1111111111111111,
              "#46039f"
             ],
             [
              0.2222222222222222,
              "#7201a8"
             ],
             [
              0.3333333333333333,
              "#9c179e"
             ],
             [
              0.4444444444444444,
              "#bd3786"
             ],
             [
              0.5555555555555556,
              "#d8576b"
             ],
             [
              0.6666666666666666,
              "#ed7953"
             ],
             [
              0.7777777777777778,
              "#fb9f3a"
             ],
             [
              0.8888888888888888,
              "#fdca26"
             ],
             [
              1,
              "#f0f921"
             ]
            ],
            "type": "surface"
           }
          ],
          "table": [
           {
            "cells": {
             "fill": {
              "color": "#EBF0F8"
             },
             "line": {
              "color": "white"
             }
            },
            "header": {
             "fill": {
              "color": "#C8D4E3"
             },
             "line": {
              "color": "white"
             }
            },
            "type": "table"
           }
          ]
         },
         "layout": {
          "annotationdefaults": {
           "arrowcolor": "#2a3f5f",
           "arrowhead": 0,
           "arrowwidth": 1
          },
          "autotypenumbers": "strict",
          "coloraxis": {
           "colorbar": {
            "outlinewidth": 0,
            "ticks": ""
           }
          },
          "colorscale": {
           "diverging": [
            [
             0,
             "#8e0152"
            ],
            [
             0.1,
             "#c51b7d"
            ],
            [
             0.2,
             "#de77ae"
            ],
            [
             0.3,
             "#f1b6da"
            ],
            [
             0.4,
             "#fde0ef"
            ],
            [
             0.5,
             "#f7f7f7"
            ],
            [
             0.6,
             "#e6f5d0"
            ],
            [
             0.7,
             "#b8e186"
            ],
            [
             0.8,
             "#7fbc41"
            ],
            [
             0.9,
             "#4d9221"
            ],
            [
             1,
             "#276419"
            ]
           ],
           "sequential": [
            [
             0,
             "#0d0887"
            ],
            [
             0.1111111111111111,
             "#46039f"
            ],
            [
             0.2222222222222222,
             "#7201a8"
            ],
            [
             0.3333333333333333,
             "#9c179e"
            ],
            [
             0.4444444444444444,
             "#bd3786"
            ],
            [
             0.5555555555555556,
             "#d8576b"
            ],
            [
             0.6666666666666666,
             "#ed7953"
            ],
            [
             0.7777777777777778,
             "#fb9f3a"
            ],
            [
             0.8888888888888888,
             "#fdca26"
            ],
            [
             1,
             "#f0f921"
            ]
           ],
           "sequentialminus": [
            [
             0,
             "#0d0887"
            ],
            [
             0.1111111111111111,
             "#46039f"
            ],
            [
             0.2222222222222222,
             "#7201a8"
            ],
            [
             0.3333333333333333,
             "#9c179e"
            ],
            [
             0.4444444444444444,
             "#bd3786"
            ],
            [
             0.5555555555555556,
             "#d8576b"
            ],
            [
             0.6666666666666666,
             "#ed7953"
            ],
            [
             0.7777777777777778,
             "#fb9f3a"
            ],
            [
             0.8888888888888888,
             "#fdca26"
            ],
            [
             1,
             "#f0f921"
            ]
           ]
          },
          "colorway": [
           "#636efa",
           "#EF553B",
           "#00cc96",
           "#ab63fa",
           "#FFA15A",
           "#19d3f3",
           "#FF6692",
           "#B6E880",
           "#FF97FF",
           "#FECB52"
          ],
          "font": {
           "color": "#2a3f5f"
          },
          "geo": {
           "bgcolor": "white",
           "lakecolor": "white",
           "landcolor": "#E5ECF6",
           "showlakes": true,
           "showland": true,
           "subunitcolor": "white"
          },
          "hoverlabel": {
           "align": "left"
          },
          "hovermode": "closest",
          "mapbox": {
           "style": "light"
          },
          "paper_bgcolor": "white",
          "plot_bgcolor": "#E5ECF6",
          "polar": {
           "angularaxis": {
            "gridcolor": "white",
            "linecolor": "white",
            "ticks": ""
           },
           "bgcolor": "#E5ECF6",
           "radialaxis": {
            "gridcolor": "white",
            "linecolor": "white",
            "ticks": ""
           }
          },
          "scene": {
           "xaxis": {
            "backgroundcolor": "#E5ECF6",
            "gridcolor": "white",
            "gridwidth": 2,
            "linecolor": "white",
            "showbackground": true,
            "ticks": "",
            "zerolinecolor": "white"
           },
           "yaxis": {
            "backgroundcolor": "#E5ECF6",
            "gridcolor": "white",
            "gridwidth": 2,
            "linecolor": "white",
            "showbackground": true,
            "ticks": "",
            "zerolinecolor": "white"
           },
           "zaxis": {
            "backgroundcolor": "#E5ECF6",
            "gridcolor": "white",
            "gridwidth": 2,
            "linecolor": "white",
            "showbackground": true,
            "ticks": "",
            "zerolinecolor": "white"
           }
          },
          "shapedefaults": {
           "line": {
            "color": "#2a3f5f"
           }
          },
          "ternary": {
           "aaxis": {
            "gridcolor": "white",
            "linecolor": "white",
            "ticks": ""
           },
           "baxis": {
            "gridcolor": "white",
            "linecolor": "white",
            "ticks": ""
           },
           "bgcolor": "#E5ECF6",
           "caxis": {
            "gridcolor": "white",
            "linecolor": "white",
            "ticks": ""
           }
          },
          "title": {
           "x": 0.05
          },
          "xaxis": {
           "automargin": true,
           "gridcolor": "white",
           "linecolor": "white",
           "ticks": "",
           "title": {
            "standoff": 15
           },
           "zerolinecolor": "white",
           "zerolinewidth": 2
          },
          "yaxis": {
           "automargin": true,
           "gridcolor": "white",
           "linecolor": "white",
           "ticks": "",
           "title": {
            "standoff": 15
           },
           "zerolinecolor": "white",
           "zerolinewidth": 2
          }
         }
        },
        "title": {
         "text": "Maximum Amount Spent in Each Category"
        },
        "xaxis": {
         "anchor": "y",
         "categoryarray": [
          "Clothing",
          "Health & Fitness",
          "Subscriptions",
          "Groceries",
          "Dining Out",
          "Housing",
          "Utilities",
          "Transportation",
          "Entertainment",
          "Travel"
         ],
         "categoryorder": "array",
         "domain": [
          0,
          1
         ],
         "title": {
          "text": "Category"
         }
        },
        "yaxis": {
         "anchor": "x",
         "domain": [
          0,
          1
         ],
         "title": {
          "text": "Max Amount Spent"
         }
        }
       }
      }
     },
     "metadata": {},
     "output_type": "display_data"
    }
   ],
   "source": [
    "# Max amount spent in each category\n",
    "\n",
    "query10 = (\"SELECT Category, MAX(`Amount Paid`) FROM PERSONAL_EXPENSES GROUP BY Category\")\n",
    "\n",
    "my_cursor.execute(query10)\n",
    "\n",
    "max_amount_spent = my_cursor.fetchall()\n",
    "\n",
    "for x in max_amount_spent:\n",
    "    \n",
    "    print(x)\n",
    "    \n",
    "max_amount_df = pd.DataFrame(max_amount_spent, columns=[\"Category\", \"Max Amount Spent\"])\n",
    "\n",
    "category_color = ['#0466c8', '#0353a4', '#023e7d', '#002855', '#001845',\n",
    "                '#001233', '#33415c', '#5c677d', '#7d8597', '#979dac']\n",
    "\n",
    "fig = px.bar(\n",
    "    max_amount_df,\n",
    "    x=\"Category\",\n",
    "    y=\"Max Amount Spent\",\n",
    "    title=\"Maximum Amount Spent in Each Category\",\n",
    "    color=\"Category\",  # Use Category for coloring\n",
    "    color_discrete_sequence=category_color,\n",
    "    text=\"Max Amount Spent\"\n",
    "    )\n",
    "\n",
    "fig.show()"
   ]
  },
  {
   "cell_type": "code",
   "execution_count": 21,
   "metadata": {},
   "outputs": [
    {
     "name": "stdout",
     "output_type": "stream",
     "text": [
      "('Coffee Shop Visit', 238)\n",
      "('Dinner At A Restaurant', 100)\n",
      "('Art Supplies', 40)\n",
      "('Hobby Supplies', 38)\n",
      "('Car Rentals', 34)\n",
      "('Car Insurance', 34)\n",
      "('Video Games', 34)\n",
      "('Mortgage Payment', 32)\n",
      "('Tour Activities', 32)\n",
      "('Underwear And Socks', 30)\n",
      "('Digital Magazine Subscriptions', 30)\n",
      "('Brunch With Friends', 30)\n",
      "('Beverages At Bars', 28)\n",
      "('Sports Events Tickets', 28)\n",
      "('Fashion Accessories', 28)\n",
      "('Parking Fees', 28)\n",
      "('Frozen Foods', 28)\n",
      "('Rent Payment', 28)\n",
      "('Maintenance Fees', 28)\n",
      "('Vehicle Registration Fees', 28)\n",
      "('Cleaning Supplies', 28)\n",
      "('Online Learning Platforms', 28)\n",
      "('Gym Membership', 28)\n",
      "('Public Transit Pass', 26)\n",
      "('Seasonal Clothing', 26)\n",
      "('Baking Ingredients', 26)\n",
      "('Bicycle Repairs', 26)\n",
      "('Appliance Purchases', 26)\n",
      "('Internet Service', 26)\n",
      "('Tailoring Services', 26)\n"
     ]
    },
    {
     "data": {
      "application/vnd.plotly.v1+json": {
       "config": {
        "plotlyServerURL": "https://plot.ly"
       },
       "data": [
        {
         "alignmentgroup": "True",
         "hovertemplate": "Description=%{x}<br>frequency=%{marker.color}<extra></extra>",
         "legendgroup": "",
         "marker": {
          "color": [
           238,
           100,
           40,
           38,
           34,
           34,
           34,
           32,
           32,
           30,
           30,
           30,
           28,
           28,
           28,
           28,
           28,
           28,
           28,
           28,
           28,
           28,
           28,
           26,
           26,
           26,
           26,
           26,
           26,
           26
          ],
          "coloraxis": "coloraxis",
          "pattern": {
           "shape": ""
          }
         },
         "name": "",
         "offsetgroup": "",
         "orientation": "v",
         "showlegend": false,
         "text": [
          238,
          100,
          40,
          38,
          34,
          34,
          34,
          32,
          32,
          30,
          30,
          30,
          28,
          28,
          28,
          28,
          28,
          28,
          28,
          28,
          28,
          28,
          28,
          26,
          26,
          26,
          26,
          26,
          26,
          26
         ],
         "textposition": "auto",
         "type": "bar",
         "x": [
          "Coffee Shop Visit",
          "Dinner At A Restaurant",
          "Art Supplies",
          "Hobby Supplies",
          "Car Rentals",
          "Car Insurance",
          "Video Games",
          "Mortgage Payment",
          "Tour Activities",
          "Underwear And Socks",
          "Digital Magazine Subscriptions",
          "Brunch With Friends",
          "Beverages At Bars",
          "Sports Events Tickets",
          "Fashion Accessories",
          "Parking Fees",
          "Frozen Foods",
          "Rent Payment",
          "Maintenance Fees",
          "Vehicle Registration Fees",
          "Cleaning Supplies",
          "Online Learning Platforms",
          "Gym Membership",
          "Public Transit Pass",
          "Seasonal Clothing",
          "Baking Ingredients",
          "Bicycle Repairs",
          "Appliance Purchases",
          "Internet Service",
          "Tailoring Services"
         ],
         "xaxis": "x",
         "y": [
          238,
          100,
          40,
          38,
          34,
          34,
          34,
          32,
          32,
          30,
          30,
          30,
          28,
          28,
          28,
          28,
          28,
          28,
          28,
          28,
          28,
          28,
          28,
          26,
          26,
          26,
          26,
          26,
          26,
          26
         ],
         "yaxis": "y"
        }
       ],
       "layout": {
        "barmode": "relative",
        "coloraxis": {
         "colorbar": {
          "title": {
           "text": "frequency"
          }
         },
         "colorscale": [
          [
           0,
           "#000004"
          ],
          [
           0.1111111111111111,
           "#180f3d"
          ],
          [
           0.2222222222222222,
           "#440f76"
          ],
          [
           0.3333333333333333,
           "#721f81"
          ],
          [
           0.4444444444444444,
           "#9e2f7f"
          ],
          [
           0.5555555555555556,
           "#cd4071"
          ],
          [
           0.6666666666666666,
           "#f1605d"
          ],
          [
           0.7777777777777778,
           "#fd9668"
          ],
          [
           0.8888888888888888,
           "#feca8d"
          ],
          [
           1,
           "#fcfdbf"
          ]
         ]
        },
        "legend": {
         "tracegroupgap": 0
        },
        "template": {
         "data": {
          "bar": [
           {
            "error_x": {
             "color": "#2a3f5f"
            },
            "error_y": {
             "color": "#2a3f5f"
            },
            "marker": {
             "line": {
              "color": "#E5ECF6",
              "width": 0.5
             },
             "pattern": {
              "fillmode": "overlay",
              "size": 10,
              "solidity": 0.2
             }
            },
            "type": "bar"
           }
          ],
          "barpolar": [
           {
            "marker": {
             "line": {
              "color": "#E5ECF6",
              "width": 0.5
             },
             "pattern": {
              "fillmode": "overlay",
              "size": 10,
              "solidity": 0.2
             }
            },
            "type": "barpolar"
           }
          ],
          "carpet": [
           {
            "aaxis": {
             "endlinecolor": "#2a3f5f",
             "gridcolor": "white",
             "linecolor": "white",
             "minorgridcolor": "white",
             "startlinecolor": "#2a3f5f"
            },
            "baxis": {
             "endlinecolor": "#2a3f5f",
             "gridcolor": "white",
             "linecolor": "white",
             "minorgridcolor": "white",
             "startlinecolor": "#2a3f5f"
            },
            "type": "carpet"
           }
          ],
          "choropleth": [
           {
            "colorbar": {
             "outlinewidth": 0,
             "ticks": ""
            },
            "type": "choropleth"
           }
          ],
          "contour": [
           {
            "colorbar": {
             "outlinewidth": 0,
             "ticks": ""
            },
            "colorscale": [
             [
              0,
              "#0d0887"
             ],
             [
              0.1111111111111111,
              "#46039f"
             ],
             [
              0.2222222222222222,
              "#7201a8"
             ],
             [
              0.3333333333333333,
              "#9c179e"
             ],
             [
              0.4444444444444444,
              "#bd3786"
             ],
             [
              0.5555555555555556,
              "#d8576b"
             ],
             [
              0.6666666666666666,
              "#ed7953"
             ],
             [
              0.7777777777777778,
              "#fb9f3a"
             ],
             [
              0.8888888888888888,
              "#fdca26"
             ],
             [
              1,
              "#f0f921"
             ]
            ],
            "type": "contour"
           }
          ],
          "contourcarpet": [
           {
            "colorbar": {
             "outlinewidth": 0,
             "ticks": ""
            },
            "type": "contourcarpet"
           }
          ],
          "heatmap": [
           {
            "colorbar": {
             "outlinewidth": 0,
             "ticks": ""
            },
            "colorscale": [
             [
              0,
              "#0d0887"
             ],
             [
              0.1111111111111111,
              "#46039f"
             ],
             [
              0.2222222222222222,
              "#7201a8"
             ],
             [
              0.3333333333333333,
              "#9c179e"
             ],
             [
              0.4444444444444444,
              "#bd3786"
             ],
             [
              0.5555555555555556,
              "#d8576b"
             ],
             [
              0.6666666666666666,
              "#ed7953"
             ],
             [
              0.7777777777777778,
              "#fb9f3a"
             ],
             [
              0.8888888888888888,
              "#fdca26"
             ],
             [
              1,
              "#f0f921"
             ]
            ],
            "type": "heatmap"
           }
          ],
          "heatmapgl": [
           {
            "colorbar": {
             "outlinewidth": 0,
             "ticks": ""
            },
            "colorscale": [
             [
              0,
              "#0d0887"
             ],
             [
              0.1111111111111111,
              "#46039f"
             ],
             [
              0.2222222222222222,
              "#7201a8"
             ],
             [
              0.3333333333333333,
              "#9c179e"
             ],
             [
              0.4444444444444444,
              "#bd3786"
             ],
             [
              0.5555555555555556,
              "#d8576b"
             ],
             [
              0.6666666666666666,
              "#ed7953"
             ],
             [
              0.7777777777777778,
              "#fb9f3a"
             ],
             [
              0.8888888888888888,
              "#fdca26"
             ],
             [
              1,
              "#f0f921"
             ]
            ],
            "type": "heatmapgl"
           }
          ],
          "histogram": [
           {
            "marker": {
             "pattern": {
              "fillmode": "overlay",
              "size": 10,
              "solidity": 0.2
             }
            },
            "type": "histogram"
           }
          ],
          "histogram2d": [
           {
            "colorbar": {
             "outlinewidth": 0,
             "ticks": ""
            },
            "colorscale": [
             [
              0,
              "#0d0887"
             ],
             [
              0.1111111111111111,
              "#46039f"
             ],
             [
              0.2222222222222222,
              "#7201a8"
             ],
             [
              0.3333333333333333,
              "#9c179e"
             ],
             [
              0.4444444444444444,
              "#bd3786"
             ],
             [
              0.5555555555555556,
              "#d8576b"
             ],
             [
              0.6666666666666666,
              "#ed7953"
             ],
             [
              0.7777777777777778,
              "#fb9f3a"
             ],
             [
              0.8888888888888888,
              "#fdca26"
             ],
             [
              1,
              "#f0f921"
             ]
            ],
            "type": "histogram2d"
           }
          ],
          "histogram2dcontour": [
           {
            "colorbar": {
             "outlinewidth": 0,
             "ticks": ""
            },
            "colorscale": [
             [
              0,
              "#0d0887"
             ],
             [
              0.1111111111111111,
              "#46039f"
             ],
             [
              0.2222222222222222,
              "#7201a8"
             ],
             [
              0.3333333333333333,
              "#9c179e"
             ],
             [
              0.4444444444444444,
              "#bd3786"
             ],
             [
              0.5555555555555556,
              "#d8576b"
             ],
             [
              0.6666666666666666,
              "#ed7953"
             ],
             [
              0.7777777777777778,
              "#fb9f3a"
             ],
             [
              0.8888888888888888,
              "#fdca26"
             ],
             [
              1,
              "#f0f921"
             ]
            ],
            "type": "histogram2dcontour"
           }
          ],
          "mesh3d": [
           {
            "colorbar": {
             "outlinewidth": 0,
             "ticks": ""
            },
            "type": "mesh3d"
           }
          ],
          "parcoords": [
           {
            "line": {
             "colorbar": {
              "outlinewidth": 0,
              "ticks": ""
             }
            },
            "type": "parcoords"
           }
          ],
          "pie": [
           {
            "automargin": true,
            "type": "pie"
           }
          ],
          "scatter": [
           {
            "fillpattern": {
             "fillmode": "overlay",
             "size": 10,
             "solidity": 0.2
            },
            "type": "scatter"
           }
          ],
          "scatter3d": [
           {
            "line": {
             "colorbar": {
              "outlinewidth": 0,
              "ticks": ""
             }
            },
            "marker": {
             "colorbar": {
              "outlinewidth": 0,
              "ticks": ""
             }
            },
            "type": "scatter3d"
           }
          ],
          "scattercarpet": [
           {
            "marker": {
             "colorbar": {
              "outlinewidth": 0,
              "ticks": ""
             }
            },
            "type": "scattercarpet"
           }
          ],
          "scattergeo": [
           {
            "marker": {
             "colorbar": {
              "outlinewidth": 0,
              "ticks": ""
             }
            },
            "type": "scattergeo"
           }
          ],
          "scattergl": [
           {
            "marker": {
             "colorbar": {
              "outlinewidth": 0,
              "ticks": ""
             }
            },
            "type": "scattergl"
           }
          ],
          "scattermapbox": [
           {
            "marker": {
             "colorbar": {
              "outlinewidth": 0,
              "ticks": ""
             }
            },
            "type": "scattermapbox"
           }
          ],
          "scatterpolar": [
           {
            "marker": {
             "colorbar": {
              "outlinewidth": 0,
              "ticks": ""
             }
            },
            "type": "scatterpolar"
           }
          ],
          "scatterpolargl": [
           {
            "marker": {
             "colorbar": {
              "outlinewidth": 0,
              "ticks": ""
             }
            },
            "type": "scatterpolargl"
           }
          ],
          "scatterternary": [
           {
            "marker": {
             "colorbar": {
              "outlinewidth": 0,
              "ticks": ""
             }
            },
            "type": "scatterternary"
           }
          ],
          "surface": [
           {
            "colorbar": {
             "outlinewidth": 0,
             "ticks": ""
            },
            "colorscale": [
             [
              0,
              "#0d0887"
             ],
             [
              0.1111111111111111,
              "#46039f"
             ],
             [
              0.2222222222222222,
              "#7201a8"
             ],
             [
              0.3333333333333333,
              "#9c179e"
             ],
             [
              0.4444444444444444,
              "#bd3786"
             ],
             [
              0.5555555555555556,
              "#d8576b"
             ],
             [
              0.6666666666666666,
              "#ed7953"
             ],
             [
              0.7777777777777778,
              "#fb9f3a"
             ],
             [
              0.8888888888888888,
              "#fdca26"
             ],
             [
              1,
              "#f0f921"
             ]
            ],
            "type": "surface"
           }
          ],
          "table": [
           {
            "cells": {
             "fill": {
              "color": "#EBF0F8"
             },
             "line": {
              "color": "white"
             }
            },
            "header": {
             "fill": {
              "color": "#C8D4E3"
             },
             "line": {
              "color": "white"
             }
            },
            "type": "table"
           }
          ]
         },
         "layout": {
          "annotationdefaults": {
           "arrowcolor": "#2a3f5f",
           "arrowhead": 0,
           "arrowwidth": 1
          },
          "autotypenumbers": "strict",
          "coloraxis": {
           "colorbar": {
            "outlinewidth": 0,
            "ticks": ""
           }
          },
          "colorscale": {
           "diverging": [
            [
             0,
             "#8e0152"
            ],
            [
             0.1,
             "#c51b7d"
            ],
            [
             0.2,
             "#de77ae"
            ],
            [
             0.3,
             "#f1b6da"
            ],
            [
             0.4,
             "#fde0ef"
            ],
            [
             0.5,
             "#f7f7f7"
            ],
            [
             0.6,
             "#e6f5d0"
            ],
            [
             0.7,
             "#b8e186"
            ],
            [
             0.8,
             "#7fbc41"
            ],
            [
             0.9,
             "#4d9221"
            ],
            [
             1,
             "#276419"
            ]
           ],
           "sequential": [
            [
             0,
             "#0d0887"
            ],
            [
             0.1111111111111111,
             "#46039f"
            ],
            [
             0.2222222222222222,
             "#7201a8"
            ],
            [
             0.3333333333333333,
             "#9c179e"
            ],
            [
             0.4444444444444444,
             "#bd3786"
            ],
            [
             0.5555555555555556,
             "#d8576b"
            ],
            [
             0.6666666666666666,
             "#ed7953"
            ],
            [
             0.7777777777777778,
             "#fb9f3a"
            ],
            [
             0.8888888888888888,
             "#fdca26"
            ],
            [
             1,
             "#f0f921"
            ]
           ],
           "sequentialminus": [
            [
             0,
             "#0d0887"
            ],
            [
             0.1111111111111111,
             "#46039f"
            ],
            [
             0.2222222222222222,
             "#7201a8"
            ],
            [
             0.3333333333333333,
             "#9c179e"
            ],
            [
             0.4444444444444444,
             "#bd3786"
            ],
            [
             0.5555555555555556,
             "#d8576b"
            ],
            [
             0.6666666666666666,
             "#ed7953"
            ],
            [
             0.7777777777777778,
             "#fb9f3a"
            ],
            [
             0.8888888888888888,
             "#fdca26"
            ],
            [
             1,
             "#f0f921"
            ]
           ]
          },
          "colorway": [
           "#636efa",
           "#EF553B",
           "#00cc96",
           "#ab63fa",
           "#FFA15A",
           "#19d3f3",
           "#FF6692",
           "#B6E880",
           "#FF97FF",
           "#FECB52"
          ],
          "font": {
           "color": "#2a3f5f"
          },
          "geo": {
           "bgcolor": "white",
           "lakecolor": "white",
           "landcolor": "#E5ECF6",
           "showlakes": true,
           "showland": true,
           "subunitcolor": "white"
          },
          "hoverlabel": {
           "align": "left"
          },
          "hovermode": "closest",
          "mapbox": {
           "style": "light"
          },
          "paper_bgcolor": "white",
          "plot_bgcolor": "#E5ECF6",
          "polar": {
           "angularaxis": {
            "gridcolor": "white",
            "linecolor": "white",
            "ticks": ""
           },
           "bgcolor": "#E5ECF6",
           "radialaxis": {
            "gridcolor": "white",
            "linecolor": "white",
            "ticks": ""
           }
          },
          "scene": {
           "xaxis": {
            "backgroundcolor": "#E5ECF6",
            "gridcolor": "white",
            "gridwidth": 2,
            "linecolor": "white",
            "showbackground": true,
            "ticks": "",
            "zerolinecolor": "white"
           },
           "yaxis": {
            "backgroundcolor": "#E5ECF6",
            "gridcolor": "white",
            "gridwidth": 2,
            "linecolor": "white",
            "showbackground": true,
            "ticks": "",
            "zerolinecolor": "white"
           },
           "zaxis": {
            "backgroundcolor": "#E5ECF6",
            "gridcolor": "white",
            "gridwidth": 2,
            "linecolor": "white",
            "showbackground": true,
            "ticks": "",
            "zerolinecolor": "white"
           }
          },
          "shapedefaults": {
           "line": {
            "color": "#2a3f5f"
           }
          },
          "ternary": {
           "aaxis": {
            "gridcolor": "white",
            "linecolor": "white",
            "ticks": ""
           },
           "baxis": {
            "gridcolor": "white",
            "linecolor": "white",
            "ticks": ""
           },
           "bgcolor": "#E5ECF6",
           "caxis": {
            "gridcolor": "white",
            "linecolor": "white",
            "ticks": ""
           }
          },
          "title": {
           "x": 0.05
          },
          "xaxis": {
           "automargin": true,
           "gridcolor": "white",
           "linecolor": "white",
           "ticks": "",
           "title": {
            "standoff": 15
           },
           "zerolinecolor": "white",
           "zerolinewidth": 2
          },
          "yaxis": {
           "automargin": true,
           "gridcolor": "white",
           "linecolor": "white",
           "ticks": "",
           "title": {
            "standoff": 15
           },
           "zerolinecolor": "white",
           "zerolinewidth": 2
          }
         }
        },
        "title": {
         "text": "Most Frequent Description In Personal Expenses"
        },
        "xaxis": {
         "anchor": "y",
         "domain": [
          0,
          1
         ],
         "title": {
          "text": "Description"
         }
        },
        "yaxis": {
         "anchor": "x",
         "domain": [
          0,
          1
         ],
         "title": {
          "text": "frequency"
         }
        }
       }
      }
     },
     "metadata": {},
     "output_type": "display_data"
    }
   ],
   "source": [
    "# Most frequent descriptions\n",
    "\n",
    "query11 = (\"SELECT Description, COUNT(*) FROM PERSONAL_EXPENSES GROUP BY Description ORDER BY COUNT(*) DESC LIMIT 30\")\n",
    "\n",
    "my_cursor.execute(query11)\n",
    "\n",
    "most_frequent_description = my_cursor.fetchall()\n",
    "\n",
    "for frequency in most_frequent_description:\n",
    "\n",
    "    print(frequency)\n",
    "\n",
    "most_frequent_description_df = pd.DataFrame(most_frequent_description, columns=[\"Description\",\"frequency\"])\n",
    "\n",
    "#description_color = ['#001219', '#005f73', '#0a9396', '#94d2bd', '#e9d8a6', \n",
    "                #'#ee9b00', '#ca6702', '#bb3e03', '#ae2012', '#9b2226']\n",
    "\n",
    "fig= px.bar(most_frequent_description_df,\n",
    "             x = \"Description\",\n",
    "             y=\"frequency\",\n",
    "             title=\"Most Frequent Description In Personal Expenses\",\n",
    "             color=\"frequency\",\n",
    "             text=\"frequency\",\n",
    "             color_continuous_scale=px.colors.sequential.Magma)\n",
    "\n",
    "fig.show()"
   ]
  },
  {
   "cell_type": "code",
   "execution_count": 22,
   "metadata": {},
   "outputs": [
    {
     "name": "stdout",
     "output_type": "stream",
     "text": [
      "(12, datetime.date(2023, 1, 6), 'Housing', 'Cash', 'Furnishings', Decimal('18344.52'), Decimal('671.39'))\n",
      "(22, datetime.date(2023, 1, 8), 'Housing', 'Cash', 'Rent Payment', Decimal('29967.21'), Decimal('2478.23'))\n",
      "(39, datetime.date(2023, 1, 13), 'Housing', 'Online', 'Appliance Purchases', Decimal('8795.42'), Decimal('711.57'))\n",
      "(73, datetime.date(2023, 1, 22), 'Housing', 'Cash', 'Furnishings', Decimal('18961.09'), Decimal('1802.73'))\n",
      "(101, datetime.date(2023, 2, 1), 'Housing', 'Online', 'Furnishings', Decimal('12188.60'), Decimal('637.22'))\n",
      "(130, datetime.date(2023, 2, 9), 'Housing', 'Online', 'Appliance Purchases', Decimal('25641.91'), Decimal('1689.63'))\n",
      "(145, datetime.date(2023, 2, 14), 'Travel', 'Online', 'Hotel Accommodation', Decimal('16824.46'), Decimal('1205.01'))\n",
      "(151, datetime.date(2023, 2, 15), 'Housing', 'Cash', 'Furnishings', Decimal('17446.31'), Decimal('1481.43'))\n",
      "(170, datetime.date(2023, 2, 19), 'Housing', 'Cash', 'Mortgage Payment', Decimal('14438.82'), Decimal('1370.17'))\n",
      "(282, datetime.date(2023, 3, 23), 'Housing', 'Cash', 'Rent Payment', Decimal('9614.55'), Decimal('751.91'))\n",
      "(293, datetime.date(2023, 3, 27), 'Housing', 'Online', 'Appliance Purchases', Decimal('25197.43'), Decimal('2294.12'))\n",
      "(339, datetime.date(2023, 4, 11), 'Housing', 'Cash', 'Appliance Purchases', Decimal('17951.18'), Decimal('1468.14'))\n",
      "(341, datetime.date(2023, 4, 12), 'Housing', 'Online', 'Appliance Purchases', Decimal('13095.78'), Decimal('689.97'))\n",
      "(342, datetime.date(2023, 4, 12), 'Housing', 'Online', 'Rent Payment', Decimal('12127.47'), Decimal('576.49'))\n",
      "(382, datetime.date(2023, 4, 23), 'Housing', 'Online', 'Rent Payment', Decimal('16198.46'), Decimal('845.84'))\n",
      "(393, datetime.date(2023, 4, 27), 'Housing', 'Cash', 'Home Repairs', Decimal('8265.45'), Decimal('503.44'))\n",
      "(415, datetime.date(2023, 5, 4), 'Housing', 'Online', 'Mortgage Payment', Decimal('23518.94'), Decimal('1751.71'))\n",
      "(455, datetime.date(2023, 5, 14), 'Travel', 'Online', 'Hotel Accommodation', Decimal('15329.14'), Decimal('1189.13'))\n",
      "(480, datetime.date(2023, 5, 22), 'Housing', 'Cash', 'Appliance Purchases', Decimal('12326.06'), Decimal('797.53'))\n",
      "(487, datetime.date(2023, 5, 25), 'Travel', 'Online', 'Airfare', Decimal('42455.96'), Decimal('3919.34'))\n",
      "(555, datetime.date(2023, 6, 17), 'Housing', 'Online', 'Mortgage Payment', Decimal('26582.54'), Decimal('1237.14'))\n",
      "(598, datetime.date(2023, 6, 30), 'Travel', 'Online', 'Airfare', Decimal('43043.98'), Decimal('599.01'))\n",
      "(605, datetime.date(2023, 7, 2), 'Housing', 'Online', 'Mortgage Payment', Decimal('10383.66'), Decimal('839.57'))\n",
      "(626, datetime.date(2023, 7, 8), 'Travel', 'Cash', 'Airfare', Decimal('40160.03'), Decimal('2001.71'))\n",
      "(633, datetime.date(2023, 7, 10), 'Housing', 'Cash', 'Mortgage Payment', Decimal('16398.01'), Decimal('1311.05'))\n",
      "(645, datetime.date(2023, 7, 13), 'Housing', 'Online', 'Rent Payment', Decimal('12980.80'), Decimal('561.38'))\n",
      "(701, datetime.date(2023, 8, 1), 'Housing', 'Cash', 'Rent Payment', Decimal('16924.41'), Decimal('523.87'))\n",
      "(705, datetime.date(2023, 8, 2), 'Housing', 'Online', 'Rent Payment', Decimal('12980.79'), Decimal('1156.70'))\n",
      "(719, datetime.date(2023, 8, 6), 'Transportation', 'Cash', 'Car Loan Payment', Decimal('7404.45'), Decimal('663.99'))\n",
      "(731, datetime.date(2023, 8, 9), 'Travel', 'Online', 'Airfare', Decimal('40630.31'), Decimal('3097.97'))\n",
      "(736, datetime.date(2023, 8, 11), 'Housing', 'Cash', 'Rent Payment', Decimal('26779.83'), Decimal('1568.14'))\n",
      "(792, datetime.date(2023, 8, 30), 'Housing', 'Online', 'Mortgage Payment', Decimal('27488.54'), Decimal('1709.56'))\n",
      "(806, datetime.date(2023, 9, 3), 'Housing', 'Online', 'Mortgage Payment', Decimal('16928.73'), Decimal('1324.12'))\n",
      "(834, datetime.date(2023, 9, 12), 'Housing', 'Cash', 'Mortgage Payment', Decimal('13135.92'), Decimal('1134.63'))\n",
      "(859, datetime.date(2023, 9, 18), 'Transportation', 'Cash', 'Fuel Costs', Decimal('9256.22'), Decimal('618.44'))\n",
      "(868, datetime.date(2023, 9, 21), 'Transportation', 'Cash', 'Fuel Costs', Decimal('9966.81'), Decimal('809.37'))\n",
      "(893, datetime.date(2023, 9, 27), 'Travel', 'Online', 'Airfare', Decimal('45263.34'), Decimal('1402.38'))\n",
      "(897, datetime.date(2023, 9, 28), 'Housing', 'Online', 'Appliance Purchases', Decimal('25429.67'), Decimal('1939.81'))\n",
      "(905, datetime.date(2023, 10, 3), 'Housing', 'Cash', 'Mortgage Payment', Decimal('30706.01'), Decimal('2962.85'))\n",
      "(943, datetime.date(2023, 10, 13), 'Housing', 'Online', 'Mortgage Payment', Decimal('34209.55'), Decimal('889.58'))\n",
      "(947, datetime.date(2023, 10, 14), 'Housing', 'Online', 'Rent Payment', Decimal('28308.43'), Decimal('1921.96'))\n",
      "(957, datetime.date(2023, 10, 17), 'Travel', 'Cash', 'Hotel Accommodation', Decimal('18373.62'), Decimal('1072.84'))\n",
      "(1030, datetime.date(2023, 11, 10), 'Housing', 'Online', 'Mortgage Payment', Decimal('38218.03'), Decimal('3582.52'))\n",
      "(1041, datetime.date(2023, 11, 14), 'Housing', 'Cash', 'Mortgage Payment', Decimal('26509.27'), Decimal('998.24'))\n",
      "(1067, datetime.date(2023, 11, 21), 'Housing', 'Online', 'Mortgage Payment', Decimal('20587.68'), Decimal('641.74'))\n",
      "(1089, datetime.date(2023, 11, 27), 'Housing', 'Online', 'Appliance Purchases', Decimal('11718.09'), Decimal('1114.88'))\n",
      "(1099, datetime.date(2023, 11, 30), 'Travel', 'Online', 'Hotel Accommodation', Decimal('7331.10'), Decimal('684.19'))\n",
      "(1101, datetime.date(2023, 12, 1), 'Housing', 'Online', 'Furnishings', Decimal('10530.18'), Decimal('585.03'))\n",
      "(1117, datetime.date(2023, 12, 7), 'Transportation', 'Online', 'Car Loan Payment', Decimal('6274.12'), Decimal('541.82'))\n",
      "(1119, datetime.date(2023, 12, 7), 'Housing', 'Cash', 'Home Repairs', Decimal('8395.81'), Decimal('572.33'))\n",
      "(1137, datetime.date(2023, 12, 13), 'Housing', 'Cash', 'Mortgage Payment', Decimal('15619.58'), Decimal('831.07'))\n",
      "(1158, datetime.date(2023, 12, 19), 'Housing', 'Cash', 'Mortgage Payment', Decimal('28246.39'), Decimal('559.54'))\n",
      "(1212, datetime.date(2023, 1, 6), 'Housing', 'Cash', 'Furnishings', Decimal('18344.52'), Decimal('671.39'))\n",
      "(1222, datetime.date(2023, 1, 8), 'Housing', 'Cash', 'Rent Payment', Decimal('29967.21'), Decimal('2478.23'))\n",
      "(1239, datetime.date(2023, 1, 13), 'Housing', 'Online', 'Appliance Purchases', Decimal('8795.42'), Decimal('711.57'))\n",
      "(1273, datetime.date(2023, 1, 22), 'Housing', 'Cash', 'Furnishings', Decimal('18961.09'), Decimal('1802.73'))\n",
      "(1301, datetime.date(2023, 2, 1), 'Housing', 'Online', 'Furnishings', Decimal('12188.60'), Decimal('637.22'))\n",
      "(1330, datetime.date(2023, 2, 9), 'Housing', 'Online', 'Appliance Purchases', Decimal('25641.91'), Decimal('1689.63'))\n",
      "(1345, datetime.date(2023, 2, 14), 'Travel', 'Online', 'Hotel Accommodation', Decimal('16824.46'), Decimal('1205.01'))\n",
      "(1351, datetime.date(2023, 2, 15), 'Housing', 'Cash', 'Furnishings', Decimal('17446.31'), Decimal('1481.43'))\n",
      "(1370, datetime.date(2023, 2, 19), 'Housing', 'Cash', 'Mortgage Payment', Decimal('14438.82'), Decimal('1370.17'))\n",
      "(1482, datetime.date(2023, 3, 23), 'Housing', 'Cash', 'Rent Payment', Decimal('9614.55'), Decimal('751.91'))\n",
      "(1493, datetime.date(2023, 3, 27), 'Housing', 'Online', 'Appliance Purchases', Decimal('25197.43'), Decimal('2294.12'))\n",
      "(1539, datetime.date(2023, 4, 11), 'Housing', 'Cash', 'Appliance Purchases', Decimal('17951.18'), Decimal('1468.14'))\n",
      "(1541, datetime.date(2023, 4, 12), 'Housing', 'Online', 'Appliance Purchases', Decimal('13095.78'), Decimal('689.97'))\n",
      "(1542, datetime.date(2023, 4, 12), 'Housing', 'Online', 'Rent Payment', Decimal('12127.47'), Decimal('576.49'))\n",
      "(1582, datetime.date(2023, 4, 23), 'Housing', 'Online', 'Rent Payment', Decimal('16198.46'), Decimal('845.84'))\n",
      "(1593, datetime.date(2023, 4, 27), 'Housing', 'Cash', 'Home Repairs', Decimal('8265.45'), Decimal('503.44'))\n",
      "(1615, datetime.date(2023, 5, 4), 'Housing', 'Online', 'Mortgage Payment', Decimal('23518.94'), Decimal('1751.71'))\n",
      "(1655, datetime.date(2023, 5, 14), 'Travel', 'Online', 'Hotel Accommodation', Decimal('15329.14'), Decimal('1189.13'))\n",
      "(1680, datetime.date(2023, 5, 22), 'Housing', 'Cash', 'Appliance Purchases', Decimal('12326.06'), Decimal('797.53'))\n",
      "(1687, datetime.date(2023, 5, 25), 'Travel', 'Online', 'Airfare', Decimal('42455.96'), Decimal('3919.34'))\n",
      "(1755, datetime.date(2023, 6, 17), 'Housing', 'Online', 'Mortgage Payment', Decimal('26582.54'), Decimal('1237.14'))\n",
      "(1798, datetime.date(2023, 6, 30), 'Travel', 'Online', 'Airfare', Decimal('43043.98'), Decimal('599.01'))\n",
      "(1805, datetime.date(2023, 7, 2), 'Housing', 'Online', 'Mortgage Payment', Decimal('10383.66'), Decimal('839.57'))\n",
      "(1826, datetime.date(2023, 7, 8), 'Travel', 'Cash', 'Airfare', Decimal('40160.03'), Decimal('2001.71'))\n",
      "(1833, datetime.date(2023, 7, 10), 'Housing', 'Cash', 'Mortgage Payment', Decimal('16398.01'), Decimal('1311.05'))\n",
      "(1845, datetime.date(2023, 7, 13), 'Housing', 'Online', 'Rent Payment', Decimal('12980.80'), Decimal('561.38'))\n",
      "(1901, datetime.date(2023, 8, 1), 'Housing', 'Cash', 'Rent Payment', Decimal('16924.41'), Decimal('523.87'))\n",
      "(1905, datetime.date(2023, 8, 2), 'Housing', 'Online', 'Rent Payment', Decimal('12980.79'), Decimal('1156.70'))\n",
      "(1919, datetime.date(2023, 8, 6), 'Transportation', 'Cash', 'Car Loan Payment', Decimal('7404.45'), Decimal('663.99'))\n",
      "(1931, datetime.date(2023, 8, 9), 'Travel', 'Online', 'Airfare', Decimal('40630.31'), Decimal('3097.97'))\n",
      "(1936, datetime.date(2023, 8, 11), 'Housing', 'Cash', 'Rent Payment', Decimal('26779.83'), Decimal('1568.14'))\n",
      "(1992, datetime.date(2023, 8, 30), 'Housing', 'Online', 'Mortgage Payment', Decimal('27488.54'), Decimal('1709.56'))\n",
      "(2006, datetime.date(2023, 9, 3), 'Housing', 'Online', 'Mortgage Payment', Decimal('16928.73'), Decimal('1324.12'))\n",
      "(2034, datetime.date(2023, 9, 12), 'Housing', 'Cash', 'Mortgage Payment', Decimal('13135.92'), Decimal('1134.63'))\n",
      "(2059, datetime.date(2023, 9, 18), 'Transportation', 'Cash', 'Fuel Costs', Decimal('9256.22'), Decimal('618.44'))\n",
      "(2068, datetime.date(2023, 9, 21), 'Transportation', 'Cash', 'Fuel Costs', Decimal('9966.81'), Decimal('809.37'))\n",
      "(2093, datetime.date(2023, 9, 27), 'Travel', 'Online', 'Airfare', Decimal('45263.34'), Decimal('1402.38'))\n",
      "(2097, datetime.date(2023, 9, 28), 'Housing', 'Online', 'Appliance Purchases', Decimal('25429.67'), Decimal('1939.81'))\n",
      "(2105, datetime.date(2023, 10, 3), 'Housing', 'Cash', 'Mortgage Payment', Decimal('30706.01'), Decimal('2962.85'))\n",
      "(2143, datetime.date(2023, 10, 13), 'Housing', 'Online', 'Mortgage Payment', Decimal('34209.55'), Decimal('889.58'))\n",
      "(2147, datetime.date(2023, 10, 14), 'Housing', 'Online', 'Rent Payment', Decimal('28308.43'), Decimal('1921.96'))\n",
      "(2157, datetime.date(2023, 10, 17), 'Travel', 'Cash', 'Hotel Accommodation', Decimal('18373.62'), Decimal('1072.84'))\n",
      "(2230, datetime.date(2023, 11, 10), 'Housing', 'Online', 'Mortgage Payment', Decimal('38218.03'), Decimal('3582.52'))\n",
      "(2241, datetime.date(2023, 11, 14), 'Housing', 'Cash', 'Mortgage Payment', Decimal('26509.27'), Decimal('998.24'))\n",
      "(2267, datetime.date(2023, 11, 21), 'Housing', 'Online', 'Mortgage Payment', Decimal('20587.68'), Decimal('641.74'))\n",
      "(2289, datetime.date(2023, 11, 27), 'Housing', 'Online', 'Appliance Purchases', Decimal('11718.09'), Decimal('1114.88'))\n",
      "(2299, datetime.date(2023, 11, 30), 'Travel', 'Online', 'Hotel Accommodation', Decimal('7331.10'), Decimal('684.19'))\n",
      "(2301, datetime.date(2023, 12, 1), 'Housing', 'Online', 'Furnishings', Decimal('10530.18'), Decimal('585.03'))\n",
      "(2317, datetime.date(2023, 12, 7), 'Transportation', 'Online', 'Car Loan Payment', Decimal('6274.12'), Decimal('541.82'))\n",
      "(2319, datetime.date(2023, 12, 7), 'Housing', 'Cash', 'Home Repairs', Decimal('8395.81'), Decimal('572.33'))\n",
      "(2337, datetime.date(2023, 12, 13), 'Housing', 'Cash', 'Mortgage Payment', Decimal('15619.58'), Decimal('831.07'))\n",
      "(2358, datetime.date(2023, 12, 19), 'Housing', 'Cash', 'Mortgage Payment', Decimal('28246.39'), Decimal('559.54'))\n"
     ]
    },
    {
     "data": {
      "application/vnd.plotly.v1+json": {
       "config": {
        "plotlyServerURL": "https://plot.ly"
       },
       "data": [
        {
         "alignmentgroup": "True",
         "hovertemplate": "Cashback=%{text}<br>Description=%{x}<extra></extra>",
         "legendgroup": "671.39",
         "marker": {
          "color": "#636efa",
          "pattern": {
           "shape": ""
          }
         },
         "name": "671.39",
         "offsetgroup": "671.39",
         "orientation": "v",
         "showlegend": true,
         "text": [
          671.39,
          671.39
         ],
         "textposition": "auto",
         "type": "bar",
         "x": [
          "Furnishings",
          "Furnishings"
         ],
         "xaxis": "x",
         "y": [
          671.39,
          671.39
         ],
         "yaxis": "y"
        },
        {
         "alignmentgroup": "True",
         "hovertemplate": "Cashback=%{text}<br>Description=%{x}<extra></extra>",
         "legendgroup": "2478.23",
         "marker": {
          "color": "#EF553B",
          "pattern": {
           "shape": ""
          }
         },
         "name": "2478.23",
         "offsetgroup": "2478.23",
         "orientation": "v",
         "showlegend": true,
         "text": [
          2478.23,
          2478.23
         ],
         "textposition": "auto",
         "type": "bar",
         "x": [
          "Rent Payment",
          "Rent Payment"
         ],
         "xaxis": "x",
         "y": [
          2478.23,
          2478.23
         ],
         "yaxis": "y"
        },
        {
         "alignmentgroup": "True",
         "hovertemplate": "Cashback=%{text}<br>Description=%{x}<extra></extra>",
         "legendgroup": "711.57",
         "marker": {
          "color": "#00cc96",
          "pattern": {
           "shape": ""
          }
         },
         "name": "711.57",
         "offsetgroup": "711.57",
         "orientation": "v",
         "showlegend": true,
         "text": [
          711.57,
          711.57
         ],
         "textposition": "auto",
         "type": "bar",
         "x": [
          "Appliance Purchases",
          "Appliance Purchases"
         ],
         "xaxis": "x",
         "y": [
          711.57,
          711.57
         ],
         "yaxis": "y"
        },
        {
         "alignmentgroup": "True",
         "hovertemplate": "Cashback=%{text}<br>Description=%{x}<extra></extra>",
         "legendgroup": "1802.73",
         "marker": {
          "color": "#ab63fa",
          "pattern": {
           "shape": ""
          }
         },
         "name": "1802.73",
         "offsetgroup": "1802.73",
         "orientation": "v",
         "showlegend": true,
         "text": [
          1802.73,
          1802.73
         ],
         "textposition": "auto",
         "type": "bar",
         "x": [
          "Furnishings",
          "Furnishings"
         ],
         "xaxis": "x",
         "y": [
          1802.73,
          1802.73
         ],
         "yaxis": "y"
        },
        {
         "alignmentgroup": "True",
         "hovertemplate": "Cashback=%{text}<br>Description=%{x}<extra></extra>",
         "legendgroup": "637.22",
         "marker": {
          "color": "#FFA15A",
          "pattern": {
           "shape": ""
          }
         },
         "name": "637.22",
         "offsetgroup": "637.22",
         "orientation": "v",
         "showlegend": true,
         "text": [
          637.22,
          637.22
         ],
         "textposition": "auto",
         "type": "bar",
         "x": [
          "Furnishings",
          "Furnishings"
         ],
         "xaxis": "x",
         "y": [
          637.22,
          637.22
         ],
         "yaxis": "y"
        },
        {
         "alignmentgroup": "True",
         "hovertemplate": "Cashback=%{text}<br>Description=%{x}<extra></extra>",
         "legendgroup": "1689.63",
         "marker": {
          "color": "#19d3f3",
          "pattern": {
           "shape": ""
          }
         },
         "name": "1689.63",
         "offsetgroup": "1689.63",
         "orientation": "v",
         "showlegend": true,
         "text": [
          1689.63,
          1689.63
         ],
         "textposition": "auto",
         "type": "bar",
         "x": [
          "Appliance Purchases",
          "Appliance Purchases"
         ],
         "xaxis": "x",
         "y": [
          1689.63,
          1689.63
         ],
         "yaxis": "y"
        },
        {
         "alignmentgroup": "True",
         "hovertemplate": "Cashback=%{text}<br>Description=%{x}<extra></extra>",
         "legendgroup": "1205.01",
         "marker": {
          "color": "#FF6692",
          "pattern": {
           "shape": ""
          }
         },
         "name": "1205.01",
         "offsetgroup": "1205.01",
         "orientation": "v",
         "showlegend": true,
         "text": [
          1205.01,
          1205.01
         ],
         "textposition": "auto",
         "type": "bar",
         "x": [
          "Hotel Accommodation",
          "Hotel Accommodation"
         ],
         "xaxis": "x",
         "y": [
          1205.01,
          1205.01
         ],
         "yaxis": "y"
        },
        {
         "alignmentgroup": "True",
         "hovertemplate": "Cashback=%{text}<br>Description=%{x}<extra></extra>",
         "legendgroup": "1481.43",
         "marker": {
          "color": "#B6E880",
          "pattern": {
           "shape": ""
          }
         },
         "name": "1481.43",
         "offsetgroup": "1481.43",
         "orientation": "v",
         "showlegend": true,
         "text": [
          1481.43,
          1481.43
         ],
         "textposition": "auto",
         "type": "bar",
         "x": [
          "Furnishings",
          "Furnishings"
         ],
         "xaxis": "x",
         "y": [
          1481.43,
          1481.43
         ],
         "yaxis": "y"
        },
        {
         "alignmentgroup": "True",
         "hovertemplate": "Cashback=%{text}<br>Description=%{x}<extra></extra>",
         "legendgroup": "1370.17",
         "marker": {
          "color": "#FF97FF",
          "pattern": {
           "shape": ""
          }
         },
         "name": "1370.17",
         "offsetgroup": "1370.17",
         "orientation": "v",
         "showlegend": true,
         "text": [
          1370.17,
          1370.17
         ],
         "textposition": "auto",
         "type": "bar",
         "x": [
          "Mortgage Payment",
          "Mortgage Payment"
         ],
         "xaxis": "x",
         "y": [
          1370.17,
          1370.17
         ],
         "yaxis": "y"
        },
        {
         "alignmentgroup": "True",
         "hovertemplate": "Cashback=%{text}<br>Description=%{x}<extra></extra>",
         "legendgroup": "751.91",
         "marker": {
          "color": "#FECB52",
          "pattern": {
           "shape": ""
          }
         },
         "name": "751.91",
         "offsetgroup": "751.91",
         "orientation": "v",
         "showlegend": true,
         "text": [
          751.91,
          751.91
         ],
         "textposition": "auto",
         "type": "bar",
         "x": [
          "Rent Payment",
          "Rent Payment"
         ],
         "xaxis": "x",
         "y": [
          751.91,
          751.91
         ],
         "yaxis": "y"
        },
        {
         "alignmentgroup": "True",
         "hovertemplate": "Cashback=%{text}<br>Description=%{x}<extra></extra>",
         "legendgroup": "2294.12",
         "marker": {
          "color": "#636efa",
          "pattern": {
           "shape": ""
          }
         },
         "name": "2294.12",
         "offsetgroup": "2294.12",
         "orientation": "v",
         "showlegend": true,
         "text": [
          2294.12,
          2294.12
         ],
         "textposition": "auto",
         "type": "bar",
         "x": [
          "Appliance Purchases",
          "Appliance Purchases"
         ],
         "xaxis": "x",
         "y": [
          2294.12,
          2294.12
         ],
         "yaxis": "y"
        },
        {
         "alignmentgroup": "True",
         "hovertemplate": "Cashback=%{text}<br>Description=%{x}<extra></extra>",
         "legendgroup": "1468.14",
         "marker": {
          "color": "#EF553B",
          "pattern": {
           "shape": ""
          }
         },
         "name": "1468.14",
         "offsetgroup": "1468.14",
         "orientation": "v",
         "showlegend": true,
         "text": [
          1468.14,
          1468.14
         ],
         "textposition": "auto",
         "type": "bar",
         "x": [
          "Appliance Purchases",
          "Appliance Purchases"
         ],
         "xaxis": "x",
         "y": [
          1468.14,
          1468.14
         ],
         "yaxis": "y"
        },
        {
         "alignmentgroup": "True",
         "hovertemplate": "Cashback=%{text}<br>Description=%{x}<extra></extra>",
         "legendgroup": "689.97",
         "marker": {
          "color": "#00cc96",
          "pattern": {
           "shape": ""
          }
         },
         "name": "689.97",
         "offsetgroup": "689.97",
         "orientation": "v",
         "showlegend": true,
         "text": [
          689.97,
          689.97
         ],
         "textposition": "auto",
         "type": "bar",
         "x": [
          "Appliance Purchases",
          "Appliance Purchases"
         ],
         "xaxis": "x",
         "y": [
          689.97,
          689.97
         ],
         "yaxis": "y"
        },
        {
         "alignmentgroup": "True",
         "hovertemplate": "Cashback=%{text}<br>Description=%{x}<extra></extra>",
         "legendgroup": "576.49",
         "marker": {
          "color": "#ab63fa",
          "pattern": {
           "shape": ""
          }
         },
         "name": "576.49",
         "offsetgroup": "576.49",
         "orientation": "v",
         "showlegend": true,
         "text": [
          576.49,
          576.49
         ],
         "textposition": "auto",
         "type": "bar",
         "x": [
          "Rent Payment",
          "Rent Payment"
         ],
         "xaxis": "x",
         "y": [
          576.49,
          576.49
         ],
         "yaxis": "y"
        },
        {
         "alignmentgroup": "True",
         "hovertemplate": "Cashback=%{text}<br>Description=%{x}<extra></extra>",
         "legendgroup": "845.84",
         "marker": {
          "color": "#FFA15A",
          "pattern": {
           "shape": ""
          }
         },
         "name": "845.84",
         "offsetgroup": "845.84",
         "orientation": "v",
         "showlegend": true,
         "text": [
          845.84,
          845.84
         ],
         "textposition": "auto",
         "type": "bar",
         "x": [
          "Rent Payment",
          "Rent Payment"
         ],
         "xaxis": "x",
         "y": [
          845.84,
          845.84
         ],
         "yaxis": "y"
        },
        {
         "alignmentgroup": "True",
         "hovertemplate": "Cashback=%{text}<br>Description=%{x}<extra></extra>",
         "legendgroup": "503.44",
         "marker": {
          "color": "#19d3f3",
          "pattern": {
           "shape": ""
          }
         },
         "name": "503.44",
         "offsetgroup": "503.44",
         "orientation": "v",
         "showlegend": true,
         "text": [
          503.44,
          503.44
         ],
         "textposition": "auto",
         "type": "bar",
         "x": [
          "Home Repairs",
          "Home Repairs"
         ],
         "xaxis": "x",
         "y": [
          503.44,
          503.44
         ],
         "yaxis": "y"
        },
        {
         "alignmentgroup": "True",
         "hovertemplate": "Cashback=%{text}<br>Description=%{x}<extra></extra>",
         "legendgroup": "1751.71",
         "marker": {
          "color": "#FF6692",
          "pattern": {
           "shape": ""
          }
         },
         "name": "1751.71",
         "offsetgroup": "1751.71",
         "orientation": "v",
         "showlegend": true,
         "text": [
          1751.71,
          1751.71
         ],
         "textposition": "auto",
         "type": "bar",
         "x": [
          "Mortgage Payment",
          "Mortgage Payment"
         ],
         "xaxis": "x",
         "y": [
          1751.71,
          1751.71
         ],
         "yaxis": "y"
        },
        {
         "alignmentgroup": "True",
         "hovertemplate": "Cashback=%{text}<br>Description=%{x}<extra></extra>",
         "legendgroup": "1189.13",
         "marker": {
          "color": "#B6E880",
          "pattern": {
           "shape": ""
          }
         },
         "name": "1189.13",
         "offsetgroup": "1189.13",
         "orientation": "v",
         "showlegend": true,
         "text": [
          1189.13,
          1189.13
         ],
         "textposition": "auto",
         "type": "bar",
         "x": [
          "Hotel Accommodation",
          "Hotel Accommodation"
         ],
         "xaxis": "x",
         "y": [
          1189.13,
          1189.13
         ],
         "yaxis": "y"
        },
        {
         "alignmentgroup": "True",
         "hovertemplate": "Cashback=%{text}<br>Description=%{x}<extra></extra>",
         "legendgroup": "797.53",
         "marker": {
          "color": "#FF97FF",
          "pattern": {
           "shape": ""
          }
         },
         "name": "797.53",
         "offsetgroup": "797.53",
         "orientation": "v",
         "showlegend": true,
         "text": [
          797.53,
          797.53
         ],
         "textposition": "auto",
         "type": "bar",
         "x": [
          "Appliance Purchases",
          "Appliance Purchases"
         ],
         "xaxis": "x",
         "y": [
          797.53,
          797.53
         ],
         "yaxis": "y"
        },
        {
         "alignmentgroup": "True",
         "hovertemplate": "Cashback=%{text}<br>Description=%{x}<extra></extra>",
         "legendgroup": "3919.34",
         "marker": {
          "color": "#FECB52",
          "pattern": {
           "shape": ""
          }
         },
         "name": "3919.34",
         "offsetgroup": "3919.34",
         "orientation": "v",
         "showlegend": true,
         "text": [
          3919.34,
          3919.34
         ],
         "textposition": "auto",
         "type": "bar",
         "x": [
          "Airfare",
          "Airfare"
         ],
         "xaxis": "x",
         "y": [
          3919.34,
          3919.34
         ],
         "yaxis": "y"
        },
        {
         "alignmentgroup": "True",
         "hovertemplate": "Cashback=%{text}<br>Description=%{x}<extra></extra>",
         "legendgroup": "1237.14",
         "marker": {
          "color": "#636efa",
          "pattern": {
           "shape": ""
          }
         },
         "name": "1237.14",
         "offsetgroup": "1237.14",
         "orientation": "v",
         "showlegend": true,
         "text": [
          1237.14,
          1237.14
         ],
         "textposition": "auto",
         "type": "bar",
         "x": [
          "Mortgage Payment",
          "Mortgage Payment"
         ],
         "xaxis": "x",
         "y": [
          1237.14,
          1237.14
         ],
         "yaxis": "y"
        },
        {
         "alignmentgroup": "True",
         "hovertemplate": "Cashback=%{text}<br>Description=%{x}<extra></extra>",
         "legendgroup": "599.01",
         "marker": {
          "color": "#EF553B",
          "pattern": {
           "shape": ""
          }
         },
         "name": "599.01",
         "offsetgroup": "599.01",
         "orientation": "v",
         "showlegend": true,
         "text": [
          599.01,
          599.01
         ],
         "textposition": "auto",
         "type": "bar",
         "x": [
          "Airfare",
          "Airfare"
         ],
         "xaxis": "x",
         "y": [
          599.01,
          599.01
         ],
         "yaxis": "y"
        },
        {
         "alignmentgroup": "True",
         "hovertemplate": "Cashback=%{text}<br>Description=%{x}<extra></extra>",
         "legendgroup": "839.57",
         "marker": {
          "color": "#00cc96",
          "pattern": {
           "shape": ""
          }
         },
         "name": "839.57",
         "offsetgroup": "839.57",
         "orientation": "v",
         "showlegend": true,
         "text": [
          839.57,
          839.57
         ],
         "textposition": "auto",
         "type": "bar",
         "x": [
          "Mortgage Payment",
          "Mortgage Payment"
         ],
         "xaxis": "x",
         "y": [
          839.57,
          839.57
         ],
         "yaxis": "y"
        },
        {
         "alignmentgroup": "True",
         "hovertemplate": "Cashback=%{text}<br>Description=%{x}<extra></extra>",
         "legendgroup": "2001.71",
         "marker": {
          "color": "#ab63fa",
          "pattern": {
           "shape": ""
          }
         },
         "name": "2001.71",
         "offsetgroup": "2001.71",
         "orientation": "v",
         "showlegend": true,
         "text": [
          2001.71,
          2001.71
         ],
         "textposition": "auto",
         "type": "bar",
         "x": [
          "Airfare",
          "Airfare"
         ],
         "xaxis": "x",
         "y": [
          2001.71,
          2001.71
         ],
         "yaxis": "y"
        },
        {
         "alignmentgroup": "True",
         "hovertemplate": "Cashback=%{text}<br>Description=%{x}<extra></extra>",
         "legendgroup": "1311.05",
         "marker": {
          "color": "#FFA15A",
          "pattern": {
           "shape": ""
          }
         },
         "name": "1311.05",
         "offsetgroup": "1311.05",
         "orientation": "v",
         "showlegend": true,
         "text": [
          1311.05,
          1311.05
         ],
         "textposition": "auto",
         "type": "bar",
         "x": [
          "Mortgage Payment",
          "Mortgage Payment"
         ],
         "xaxis": "x",
         "y": [
          1311.05,
          1311.05
         ],
         "yaxis": "y"
        },
        {
         "alignmentgroup": "True",
         "hovertemplate": "Cashback=%{text}<br>Description=%{x}<extra></extra>",
         "legendgroup": "561.38",
         "marker": {
          "color": "#19d3f3",
          "pattern": {
           "shape": ""
          }
         },
         "name": "561.38",
         "offsetgroup": "561.38",
         "orientation": "v",
         "showlegend": true,
         "text": [
          561.38,
          561.38
         ],
         "textposition": "auto",
         "type": "bar",
         "x": [
          "Rent Payment",
          "Rent Payment"
         ],
         "xaxis": "x",
         "y": [
          561.38,
          561.38
         ],
         "yaxis": "y"
        },
        {
         "alignmentgroup": "True",
         "hovertemplate": "Cashback=%{text}<br>Description=%{x}<extra></extra>",
         "legendgroup": "523.87",
         "marker": {
          "color": "#FF6692",
          "pattern": {
           "shape": ""
          }
         },
         "name": "523.87",
         "offsetgroup": "523.87",
         "orientation": "v",
         "showlegend": true,
         "text": [
          523.87,
          523.87
         ],
         "textposition": "auto",
         "type": "bar",
         "x": [
          "Rent Payment",
          "Rent Payment"
         ],
         "xaxis": "x",
         "y": [
          523.87,
          523.87
         ],
         "yaxis": "y"
        },
        {
         "alignmentgroup": "True",
         "hovertemplate": "Cashback=%{text}<br>Description=%{x}<extra></extra>",
         "legendgroup": "1156.70",
         "marker": {
          "color": "#B6E880",
          "pattern": {
           "shape": ""
          }
         },
         "name": "1156.70",
         "offsetgroup": "1156.70",
         "orientation": "v",
         "showlegend": true,
         "text": [
          1156.7,
          1156.7
         ],
         "textposition": "auto",
         "type": "bar",
         "x": [
          "Rent Payment",
          "Rent Payment"
         ],
         "xaxis": "x",
         "y": [
          1156.7,
          1156.7
         ],
         "yaxis": "y"
        },
        {
         "alignmentgroup": "True",
         "hovertemplate": "Cashback=%{text}<br>Description=%{x}<extra></extra>",
         "legendgroup": "663.99",
         "marker": {
          "color": "#FF97FF",
          "pattern": {
           "shape": ""
          }
         },
         "name": "663.99",
         "offsetgroup": "663.99",
         "orientation": "v",
         "showlegend": true,
         "text": [
          663.99,
          663.99
         ],
         "textposition": "auto",
         "type": "bar",
         "x": [
          "Car Loan Payment",
          "Car Loan Payment"
         ],
         "xaxis": "x",
         "y": [
          663.99,
          663.99
         ],
         "yaxis": "y"
        },
        {
         "alignmentgroup": "True",
         "hovertemplate": "Cashback=%{text}<br>Description=%{x}<extra></extra>",
         "legendgroup": "3097.97",
         "marker": {
          "color": "#FECB52",
          "pattern": {
           "shape": ""
          }
         },
         "name": "3097.97",
         "offsetgroup": "3097.97",
         "orientation": "v",
         "showlegend": true,
         "text": [
          3097.97,
          3097.97
         ],
         "textposition": "auto",
         "type": "bar",
         "x": [
          "Airfare",
          "Airfare"
         ],
         "xaxis": "x",
         "y": [
          3097.97,
          3097.97
         ],
         "yaxis": "y"
        },
        {
         "alignmentgroup": "True",
         "hovertemplate": "Cashback=%{text}<br>Description=%{x}<extra></extra>",
         "legendgroup": "1568.14",
         "marker": {
          "color": "#636efa",
          "pattern": {
           "shape": ""
          }
         },
         "name": "1568.14",
         "offsetgroup": "1568.14",
         "orientation": "v",
         "showlegend": true,
         "text": [
          1568.14,
          1568.14
         ],
         "textposition": "auto",
         "type": "bar",
         "x": [
          "Rent Payment",
          "Rent Payment"
         ],
         "xaxis": "x",
         "y": [
          1568.14,
          1568.14
         ],
         "yaxis": "y"
        },
        {
         "alignmentgroup": "True",
         "hovertemplate": "Cashback=%{text}<br>Description=%{x}<extra></extra>",
         "legendgroup": "1709.56",
         "marker": {
          "color": "#EF553B",
          "pattern": {
           "shape": ""
          }
         },
         "name": "1709.56",
         "offsetgroup": "1709.56",
         "orientation": "v",
         "showlegend": true,
         "text": [
          1709.56,
          1709.56
         ],
         "textposition": "auto",
         "type": "bar",
         "x": [
          "Mortgage Payment",
          "Mortgage Payment"
         ],
         "xaxis": "x",
         "y": [
          1709.56,
          1709.56
         ],
         "yaxis": "y"
        },
        {
         "alignmentgroup": "True",
         "hovertemplate": "Cashback=%{text}<br>Description=%{x}<extra></extra>",
         "legendgroup": "1324.12",
         "marker": {
          "color": "#00cc96",
          "pattern": {
           "shape": ""
          }
         },
         "name": "1324.12",
         "offsetgroup": "1324.12",
         "orientation": "v",
         "showlegend": true,
         "text": [
          1324.12,
          1324.12
         ],
         "textposition": "auto",
         "type": "bar",
         "x": [
          "Mortgage Payment",
          "Mortgage Payment"
         ],
         "xaxis": "x",
         "y": [
          1324.12,
          1324.12
         ],
         "yaxis": "y"
        },
        {
         "alignmentgroup": "True",
         "hovertemplate": "Cashback=%{text}<br>Description=%{x}<extra></extra>",
         "legendgroup": "1134.63",
         "marker": {
          "color": "#ab63fa",
          "pattern": {
           "shape": ""
          }
         },
         "name": "1134.63",
         "offsetgroup": "1134.63",
         "orientation": "v",
         "showlegend": true,
         "text": [
          1134.63,
          1134.63
         ],
         "textposition": "auto",
         "type": "bar",
         "x": [
          "Mortgage Payment",
          "Mortgage Payment"
         ],
         "xaxis": "x",
         "y": [
          1134.63,
          1134.63
         ],
         "yaxis": "y"
        },
        {
         "alignmentgroup": "True",
         "hovertemplate": "Cashback=%{text}<br>Description=%{x}<extra></extra>",
         "legendgroup": "618.44",
         "marker": {
          "color": "#FFA15A",
          "pattern": {
           "shape": ""
          }
         },
         "name": "618.44",
         "offsetgroup": "618.44",
         "orientation": "v",
         "showlegend": true,
         "text": [
          618.44,
          618.44
         ],
         "textposition": "auto",
         "type": "bar",
         "x": [
          "Fuel Costs",
          "Fuel Costs"
         ],
         "xaxis": "x",
         "y": [
          618.44,
          618.44
         ],
         "yaxis": "y"
        },
        {
         "alignmentgroup": "True",
         "hovertemplate": "Cashback=%{text}<br>Description=%{x}<extra></extra>",
         "legendgroup": "809.37",
         "marker": {
          "color": "#19d3f3",
          "pattern": {
           "shape": ""
          }
         },
         "name": "809.37",
         "offsetgroup": "809.37",
         "orientation": "v",
         "showlegend": true,
         "text": [
          809.37,
          809.37
         ],
         "textposition": "auto",
         "type": "bar",
         "x": [
          "Fuel Costs",
          "Fuel Costs"
         ],
         "xaxis": "x",
         "y": [
          809.37,
          809.37
         ],
         "yaxis": "y"
        },
        {
         "alignmentgroup": "True",
         "hovertemplate": "Cashback=%{text}<br>Description=%{x}<extra></extra>",
         "legendgroup": "1402.38",
         "marker": {
          "color": "#FF6692",
          "pattern": {
           "shape": ""
          }
         },
         "name": "1402.38",
         "offsetgroup": "1402.38",
         "orientation": "v",
         "showlegend": true,
         "text": [
          1402.38,
          1402.38
         ],
         "textposition": "auto",
         "type": "bar",
         "x": [
          "Airfare",
          "Airfare"
         ],
         "xaxis": "x",
         "y": [
          1402.38,
          1402.38
         ],
         "yaxis": "y"
        },
        {
         "alignmentgroup": "True",
         "hovertemplate": "Cashback=%{text}<br>Description=%{x}<extra></extra>",
         "legendgroup": "1939.81",
         "marker": {
          "color": "#B6E880",
          "pattern": {
           "shape": ""
          }
         },
         "name": "1939.81",
         "offsetgroup": "1939.81",
         "orientation": "v",
         "showlegend": true,
         "text": [
          1939.81,
          1939.81
         ],
         "textposition": "auto",
         "type": "bar",
         "x": [
          "Appliance Purchases",
          "Appliance Purchases"
         ],
         "xaxis": "x",
         "y": [
          1939.81,
          1939.81
         ],
         "yaxis": "y"
        },
        {
         "alignmentgroup": "True",
         "hovertemplate": "Cashback=%{text}<br>Description=%{x}<extra></extra>",
         "legendgroup": "2962.85",
         "marker": {
          "color": "#FF97FF",
          "pattern": {
           "shape": ""
          }
         },
         "name": "2962.85",
         "offsetgroup": "2962.85",
         "orientation": "v",
         "showlegend": true,
         "text": [
          2962.85,
          2962.85
         ],
         "textposition": "auto",
         "type": "bar",
         "x": [
          "Mortgage Payment",
          "Mortgage Payment"
         ],
         "xaxis": "x",
         "y": [
          2962.85,
          2962.85
         ],
         "yaxis": "y"
        },
        {
         "alignmentgroup": "True",
         "hovertemplate": "Cashback=%{text}<br>Description=%{x}<extra></extra>",
         "legendgroup": "889.58",
         "marker": {
          "color": "#FECB52",
          "pattern": {
           "shape": ""
          }
         },
         "name": "889.58",
         "offsetgroup": "889.58",
         "orientation": "v",
         "showlegend": true,
         "text": [
          889.58,
          889.58
         ],
         "textposition": "auto",
         "type": "bar",
         "x": [
          "Mortgage Payment",
          "Mortgage Payment"
         ],
         "xaxis": "x",
         "y": [
          889.58,
          889.58
         ],
         "yaxis": "y"
        },
        {
         "alignmentgroup": "True",
         "hovertemplate": "Cashback=%{text}<br>Description=%{x}<extra></extra>",
         "legendgroup": "1921.96",
         "marker": {
          "color": "#636efa",
          "pattern": {
           "shape": ""
          }
         },
         "name": "1921.96",
         "offsetgroup": "1921.96",
         "orientation": "v",
         "showlegend": true,
         "text": [
          1921.96,
          1921.96
         ],
         "textposition": "auto",
         "type": "bar",
         "x": [
          "Rent Payment",
          "Rent Payment"
         ],
         "xaxis": "x",
         "y": [
          1921.96,
          1921.96
         ],
         "yaxis": "y"
        },
        {
         "alignmentgroup": "True",
         "hovertemplate": "Cashback=%{text}<br>Description=%{x}<extra></extra>",
         "legendgroup": "1072.84",
         "marker": {
          "color": "#EF553B",
          "pattern": {
           "shape": ""
          }
         },
         "name": "1072.84",
         "offsetgroup": "1072.84",
         "orientation": "v",
         "showlegend": true,
         "text": [
          1072.84,
          1072.84
         ],
         "textposition": "auto",
         "type": "bar",
         "x": [
          "Hotel Accommodation",
          "Hotel Accommodation"
         ],
         "xaxis": "x",
         "y": [
          1072.84,
          1072.84
         ],
         "yaxis": "y"
        },
        {
         "alignmentgroup": "True",
         "hovertemplate": "Cashback=%{text}<br>Description=%{x}<extra></extra>",
         "legendgroup": "3582.52",
         "marker": {
          "color": "#00cc96",
          "pattern": {
           "shape": ""
          }
         },
         "name": "3582.52",
         "offsetgroup": "3582.52",
         "orientation": "v",
         "showlegend": true,
         "text": [
          3582.52,
          3582.52
         ],
         "textposition": "auto",
         "type": "bar",
         "x": [
          "Mortgage Payment",
          "Mortgage Payment"
         ],
         "xaxis": "x",
         "y": [
          3582.52,
          3582.52
         ],
         "yaxis": "y"
        },
        {
         "alignmentgroup": "True",
         "hovertemplate": "Cashback=%{text}<br>Description=%{x}<extra></extra>",
         "legendgroup": "998.24",
         "marker": {
          "color": "#ab63fa",
          "pattern": {
           "shape": ""
          }
         },
         "name": "998.24",
         "offsetgroup": "998.24",
         "orientation": "v",
         "showlegend": true,
         "text": [
          998.24,
          998.24
         ],
         "textposition": "auto",
         "type": "bar",
         "x": [
          "Mortgage Payment",
          "Mortgage Payment"
         ],
         "xaxis": "x",
         "y": [
          998.24,
          998.24
         ],
         "yaxis": "y"
        },
        {
         "alignmentgroup": "True",
         "hovertemplate": "Cashback=%{text}<br>Description=%{x}<extra></extra>",
         "legendgroup": "641.74",
         "marker": {
          "color": "#FFA15A",
          "pattern": {
           "shape": ""
          }
         },
         "name": "641.74",
         "offsetgroup": "641.74",
         "orientation": "v",
         "showlegend": true,
         "text": [
          641.74,
          641.74
         ],
         "textposition": "auto",
         "type": "bar",
         "x": [
          "Mortgage Payment",
          "Mortgage Payment"
         ],
         "xaxis": "x",
         "y": [
          641.74,
          641.74
         ],
         "yaxis": "y"
        },
        {
         "alignmentgroup": "True",
         "hovertemplate": "Cashback=%{text}<br>Description=%{x}<extra></extra>",
         "legendgroup": "1114.88",
         "marker": {
          "color": "#19d3f3",
          "pattern": {
           "shape": ""
          }
         },
         "name": "1114.88",
         "offsetgroup": "1114.88",
         "orientation": "v",
         "showlegend": true,
         "text": [
          1114.88,
          1114.88
         ],
         "textposition": "auto",
         "type": "bar",
         "x": [
          "Appliance Purchases",
          "Appliance Purchases"
         ],
         "xaxis": "x",
         "y": [
          1114.88,
          1114.88
         ],
         "yaxis": "y"
        },
        {
         "alignmentgroup": "True",
         "hovertemplate": "Cashback=%{text}<br>Description=%{x}<extra></extra>",
         "legendgroup": "684.19",
         "marker": {
          "color": "#FF6692",
          "pattern": {
           "shape": ""
          }
         },
         "name": "684.19",
         "offsetgroup": "684.19",
         "orientation": "v",
         "showlegend": true,
         "text": [
          684.19,
          684.19
         ],
         "textposition": "auto",
         "type": "bar",
         "x": [
          "Hotel Accommodation",
          "Hotel Accommodation"
         ],
         "xaxis": "x",
         "y": [
          684.19,
          684.19
         ],
         "yaxis": "y"
        },
        {
         "alignmentgroup": "True",
         "hovertemplate": "Cashback=%{text}<br>Description=%{x}<extra></extra>",
         "legendgroup": "585.03",
         "marker": {
          "color": "#B6E880",
          "pattern": {
           "shape": ""
          }
         },
         "name": "585.03",
         "offsetgroup": "585.03",
         "orientation": "v",
         "showlegend": true,
         "text": [
          585.03,
          585.03
         ],
         "textposition": "auto",
         "type": "bar",
         "x": [
          "Furnishings",
          "Furnishings"
         ],
         "xaxis": "x",
         "y": [
          585.03,
          585.03
         ],
         "yaxis": "y"
        },
        {
         "alignmentgroup": "True",
         "hovertemplate": "Cashback=%{text}<br>Description=%{x}<extra></extra>",
         "legendgroup": "541.82",
         "marker": {
          "color": "#FF97FF",
          "pattern": {
           "shape": ""
          }
         },
         "name": "541.82",
         "offsetgroup": "541.82",
         "orientation": "v",
         "showlegend": true,
         "text": [
          541.82,
          541.82
         ],
         "textposition": "auto",
         "type": "bar",
         "x": [
          "Car Loan Payment",
          "Car Loan Payment"
         ],
         "xaxis": "x",
         "y": [
          541.82,
          541.82
         ],
         "yaxis": "y"
        },
        {
         "alignmentgroup": "True",
         "hovertemplate": "Cashback=%{text}<br>Description=%{x}<extra></extra>",
         "legendgroup": "572.33",
         "marker": {
          "color": "#FECB52",
          "pattern": {
           "shape": ""
          }
         },
         "name": "572.33",
         "offsetgroup": "572.33",
         "orientation": "v",
         "showlegend": true,
         "text": [
          572.33,
          572.33
         ],
         "textposition": "auto",
         "type": "bar",
         "x": [
          "Home Repairs",
          "Home Repairs"
         ],
         "xaxis": "x",
         "y": [
          572.33,
          572.33
         ],
         "yaxis": "y"
        },
        {
         "alignmentgroup": "True",
         "hovertemplate": "Cashback=%{text}<br>Description=%{x}<extra></extra>",
         "legendgroup": "831.07",
         "marker": {
          "color": "#636efa",
          "pattern": {
           "shape": ""
          }
         },
         "name": "831.07",
         "offsetgroup": "831.07",
         "orientation": "v",
         "showlegend": true,
         "text": [
          831.07,
          831.07
         ],
         "textposition": "auto",
         "type": "bar",
         "x": [
          "Mortgage Payment",
          "Mortgage Payment"
         ],
         "xaxis": "x",
         "y": [
          831.07,
          831.07
         ],
         "yaxis": "y"
        },
        {
         "alignmentgroup": "True",
         "hovertemplate": "Cashback=%{text}<br>Description=%{x}<extra></extra>",
         "legendgroup": "559.54",
         "marker": {
          "color": "#EF553B",
          "pattern": {
           "shape": ""
          }
         },
         "name": "559.54",
         "offsetgroup": "559.54",
         "orientation": "v",
         "showlegend": true,
         "text": [
          559.54,
          559.54
         ],
         "textposition": "auto",
         "type": "bar",
         "x": [
          "Mortgage Payment",
          "Mortgage Payment"
         ],
         "xaxis": "x",
         "y": [
          559.54,
          559.54
         ],
         "yaxis": "y"
        }
       ],
       "layout": {
        "barmode": "relative",
        "height": 800,
        "legend": {
         "title": {
          "text": "Cashback"
         },
         "tracegroupgap": 0
        },
        "template": {
         "data": {
          "bar": [
           {
            "error_x": {
             "color": "#2a3f5f"
            },
            "error_y": {
             "color": "#2a3f5f"
            },
            "marker": {
             "line": {
              "color": "#E5ECF6",
              "width": 0.5
             },
             "pattern": {
              "fillmode": "overlay",
              "size": 10,
              "solidity": 0.2
             }
            },
            "type": "bar"
           }
          ],
          "barpolar": [
           {
            "marker": {
             "line": {
              "color": "#E5ECF6",
              "width": 0.5
             },
             "pattern": {
              "fillmode": "overlay",
              "size": 10,
              "solidity": 0.2
             }
            },
            "type": "barpolar"
           }
          ],
          "carpet": [
           {
            "aaxis": {
             "endlinecolor": "#2a3f5f",
             "gridcolor": "white",
             "linecolor": "white",
             "minorgridcolor": "white",
             "startlinecolor": "#2a3f5f"
            },
            "baxis": {
             "endlinecolor": "#2a3f5f",
             "gridcolor": "white",
             "linecolor": "white",
             "minorgridcolor": "white",
             "startlinecolor": "#2a3f5f"
            },
            "type": "carpet"
           }
          ],
          "choropleth": [
           {
            "colorbar": {
             "outlinewidth": 0,
             "ticks": ""
            },
            "type": "choropleth"
           }
          ],
          "contour": [
           {
            "colorbar": {
             "outlinewidth": 0,
             "ticks": ""
            },
            "colorscale": [
             [
              0,
              "#0d0887"
             ],
             [
              0.1111111111111111,
              "#46039f"
             ],
             [
              0.2222222222222222,
              "#7201a8"
             ],
             [
              0.3333333333333333,
              "#9c179e"
             ],
             [
              0.4444444444444444,
              "#bd3786"
             ],
             [
              0.5555555555555556,
              "#d8576b"
             ],
             [
              0.6666666666666666,
              "#ed7953"
             ],
             [
              0.7777777777777778,
              "#fb9f3a"
             ],
             [
              0.8888888888888888,
              "#fdca26"
             ],
             [
              1,
              "#f0f921"
             ]
            ],
            "type": "contour"
           }
          ],
          "contourcarpet": [
           {
            "colorbar": {
             "outlinewidth": 0,
             "ticks": ""
            },
            "type": "contourcarpet"
           }
          ],
          "heatmap": [
           {
            "colorbar": {
             "outlinewidth": 0,
             "ticks": ""
            },
            "colorscale": [
             [
              0,
              "#0d0887"
             ],
             [
              0.1111111111111111,
              "#46039f"
             ],
             [
              0.2222222222222222,
              "#7201a8"
             ],
             [
              0.3333333333333333,
              "#9c179e"
             ],
             [
              0.4444444444444444,
              "#bd3786"
             ],
             [
              0.5555555555555556,
              "#d8576b"
             ],
             [
              0.6666666666666666,
              "#ed7953"
             ],
             [
              0.7777777777777778,
              "#fb9f3a"
             ],
             [
              0.8888888888888888,
              "#fdca26"
             ],
             [
              1,
              "#f0f921"
             ]
            ],
            "type": "heatmap"
           }
          ],
          "heatmapgl": [
           {
            "colorbar": {
             "outlinewidth": 0,
             "ticks": ""
            },
            "colorscale": [
             [
              0,
              "#0d0887"
             ],
             [
              0.1111111111111111,
              "#46039f"
             ],
             [
              0.2222222222222222,
              "#7201a8"
             ],
             [
              0.3333333333333333,
              "#9c179e"
             ],
             [
              0.4444444444444444,
              "#bd3786"
             ],
             [
              0.5555555555555556,
              "#d8576b"
             ],
             [
              0.6666666666666666,
              "#ed7953"
             ],
             [
              0.7777777777777778,
              "#fb9f3a"
             ],
             [
              0.8888888888888888,
              "#fdca26"
             ],
             [
              1,
              "#f0f921"
             ]
            ],
            "type": "heatmapgl"
           }
          ],
          "histogram": [
           {
            "marker": {
             "pattern": {
              "fillmode": "overlay",
              "size": 10,
              "solidity": 0.2
             }
            },
            "type": "histogram"
           }
          ],
          "histogram2d": [
           {
            "colorbar": {
             "outlinewidth": 0,
             "ticks": ""
            },
            "colorscale": [
             [
              0,
              "#0d0887"
             ],
             [
              0.1111111111111111,
              "#46039f"
             ],
             [
              0.2222222222222222,
              "#7201a8"
             ],
             [
              0.3333333333333333,
              "#9c179e"
             ],
             [
              0.4444444444444444,
              "#bd3786"
             ],
             [
              0.5555555555555556,
              "#d8576b"
             ],
             [
              0.6666666666666666,
              "#ed7953"
             ],
             [
              0.7777777777777778,
              "#fb9f3a"
             ],
             [
              0.8888888888888888,
              "#fdca26"
             ],
             [
              1,
              "#f0f921"
             ]
            ],
            "type": "histogram2d"
           }
          ],
          "histogram2dcontour": [
           {
            "colorbar": {
             "outlinewidth": 0,
             "ticks": ""
            },
            "colorscale": [
             [
              0,
              "#0d0887"
             ],
             [
              0.1111111111111111,
              "#46039f"
             ],
             [
              0.2222222222222222,
              "#7201a8"
             ],
             [
              0.3333333333333333,
              "#9c179e"
             ],
             [
              0.4444444444444444,
              "#bd3786"
             ],
             [
              0.5555555555555556,
              "#d8576b"
             ],
             [
              0.6666666666666666,
              "#ed7953"
             ],
             [
              0.7777777777777778,
              "#fb9f3a"
             ],
             [
              0.8888888888888888,
              "#fdca26"
             ],
             [
              1,
              "#f0f921"
             ]
            ],
            "type": "histogram2dcontour"
           }
          ],
          "mesh3d": [
           {
            "colorbar": {
             "outlinewidth": 0,
             "ticks": ""
            },
            "type": "mesh3d"
           }
          ],
          "parcoords": [
           {
            "line": {
             "colorbar": {
              "outlinewidth": 0,
              "ticks": ""
             }
            },
            "type": "parcoords"
           }
          ],
          "pie": [
           {
            "automargin": true,
            "type": "pie"
           }
          ],
          "scatter": [
           {
            "fillpattern": {
             "fillmode": "overlay",
             "size": 10,
             "solidity": 0.2
            },
            "type": "scatter"
           }
          ],
          "scatter3d": [
           {
            "line": {
             "colorbar": {
              "outlinewidth": 0,
              "ticks": ""
             }
            },
            "marker": {
             "colorbar": {
              "outlinewidth": 0,
              "ticks": ""
             }
            },
            "type": "scatter3d"
           }
          ],
          "scattercarpet": [
           {
            "marker": {
             "colorbar": {
              "outlinewidth": 0,
              "ticks": ""
             }
            },
            "type": "scattercarpet"
           }
          ],
          "scattergeo": [
           {
            "marker": {
             "colorbar": {
              "outlinewidth": 0,
              "ticks": ""
             }
            },
            "type": "scattergeo"
           }
          ],
          "scattergl": [
           {
            "marker": {
             "colorbar": {
              "outlinewidth": 0,
              "ticks": ""
             }
            },
            "type": "scattergl"
           }
          ],
          "scattermapbox": [
           {
            "marker": {
             "colorbar": {
              "outlinewidth": 0,
              "ticks": ""
             }
            },
            "type": "scattermapbox"
           }
          ],
          "scatterpolar": [
           {
            "marker": {
             "colorbar": {
              "outlinewidth": 0,
              "ticks": ""
             }
            },
            "type": "scatterpolar"
           }
          ],
          "scatterpolargl": [
           {
            "marker": {
             "colorbar": {
              "outlinewidth": 0,
              "ticks": ""
             }
            },
            "type": "scatterpolargl"
           }
          ],
          "scatterternary": [
           {
            "marker": {
             "colorbar": {
              "outlinewidth": 0,
              "ticks": ""
             }
            },
            "type": "scatterternary"
           }
          ],
          "surface": [
           {
            "colorbar": {
             "outlinewidth": 0,
             "ticks": ""
            },
            "colorscale": [
             [
              0,
              "#0d0887"
             ],
             [
              0.1111111111111111,
              "#46039f"
             ],
             [
              0.2222222222222222,
              "#7201a8"
             ],
             [
              0.3333333333333333,
              "#9c179e"
             ],
             [
              0.4444444444444444,
              "#bd3786"
             ],
             [
              0.5555555555555556,
              "#d8576b"
             ],
             [
              0.6666666666666666,
              "#ed7953"
             ],
             [
              0.7777777777777778,
              "#fb9f3a"
             ],
             [
              0.8888888888888888,
              "#fdca26"
             ],
             [
              1,
              "#f0f921"
             ]
            ],
            "type": "surface"
           }
          ],
          "table": [
           {
            "cells": {
             "fill": {
              "color": "#EBF0F8"
             },
             "line": {
              "color": "white"
             }
            },
            "header": {
             "fill": {
              "color": "#C8D4E3"
             },
             "line": {
              "color": "white"
             }
            },
            "type": "table"
           }
          ]
         },
         "layout": {
          "annotationdefaults": {
           "arrowcolor": "#2a3f5f",
           "arrowhead": 0,
           "arrowwidth": 1
          },
          "autotypenumbers": "strict",
          "coloraxis": {
           "colorbar": {
            "outlinewidth": 0,
            "ticks": ""
           }
          },
          "colorscale": {
           "diverging": [
            [
             0,
             "#8e0152"
            ],
            [
             0.1,
             "#c51b7d"
            ],
            [
             0.2,
             "#de77ae"
            ],
            [
             0.3,
             "#f1b6da"
            ],
            [
             0.4,
             "#fde0ef"
            ],
            [
             0.5,
             "#f7f7f7"
            ],
            [
             0.6,
             "#e6f5d0"
            ],
            [
             0.7,
             "#b8e186"
            ],
            [
             0.8,
             "#7fbc41"
            ],
            [
             0.9,
             "#4d9221"
            ],
            [
             1,
             "#276419"
            ]
           ],
           "sequential": [
            [
             0,
             "#0d0887"
            ],
            [
             0.1111111111111111,
             "#46039f"
            ],
            [
             0.2222222222222222,
             "#7201a8"
            ],
            [
             0.3333333333333333,
             "#9c179e"
            ],
            [
             0.4444444444444444,
             "#bd3786"
            ],
            [
             0.5555555555555556,
             "#d8576b"
            ],
            [
             0.6666666666666666,
             "#ed7953"
            ],
            [
             0.7777777777777778,
             "#fb9f3a"
            ],
            [
             0.8888888888888888,
             "#fdca26"
            ],
            [
             1,
             "#f0f921"
            ]
           ],
           "sequentialminus": [
            [
             0,
             "#0d0887"
            ],
            [
             0.1111111111111111,
             "#46039f"
            ],
            [
             0.2222222222222222,
             "#7201a8"
            ],
            [
             0.3333333333333333,
             "#9c179e"
            ],
            [
             0.4444444444444444,
             "#bd3786"
            ],
            [
             0.5555555555555556,
             "#d8576b"
            ],
            [
             0.6666666666666666,
             "#ed7953"
            ],
            [
             0.7777777777777778,
             "#fb9f3a"
            ],
            [
             0.8888888888888888,
             "#fdca26"
            ],
            [
             1,
             "#f0f921"
            ]
           ]
          },
          "colorway": [
           "#636efa",
           "#EF553B",
           "#00cc96",
           "#ab63fa",
           "#FFA15A",
           "#19d3f3",
           "#FF6692",
           "#B6E880",
           "#FF97FF",
           "#FECB52"
          ],
          "font": {
           "color": "#2a3f5f"
          },
          "geo": {
           "bgcolor": "white",
           "lakecolor": "white",
           "landcolor": "#E5ECF6",
           "showlakes": true,
           "showland": true,
           "subunitcolor": "white"
          },
          "hoverlabel": {
           "align": "left"
          },
          "hovermode": "closest",
          "mapbox": {
           "style": "light"
          },
          "paper_bgcolor": "white",
          "plot_bgcolor": "#E5ECF6",
          "polar": {
           "angularaxis": {
            "gridcolor": "white",
            "linecolor": "white",
            "ticks": ""
           },
           "bgcolor": "#E5ECF6",
           "radialaxis": {
            "gridcolor": "white",
            "linecolor": "white",
            "ticks": ""
           }
          },
          "scene": {
           "xaxis": {
            "backgroundcolor": "#E5ECF6",
            "gridcolor": "white",
            "gridwidth": 2,
            "linecolor": "white",
            "showbackground": true,
            "ticks": "",
            "zerolinecolor": "white"
           },
           "yaxis": {
            "backgroundcolor": "#E5ECF6",
            "gridcolor": "white",
            "gridwidth": 2,
            "linecolor": "white",
            "showbackground": true,
            "ticks": "",
            "zerolinecolor": "white"
           },
           "zaxis": {
            "backgroundcolor": "#E5ECF6",
            "gridcolor": "white",
            "gridwidth": 2,
            "linecolor": "white",
            "showbackground": true,
            "ticks": "",
            "zerolinecolor": "white"
           }
          },
          "shapedefaults": {
           "line": {
            "color": "#2a3f5f"
           }
          },
          "ternary": {
           "aaxis": {
            "gridcolor": "white",
            "linecolor": "white",
            "ticks": ""
           },
           "baxis": {
            "gridcolor": "white",
            "linecolor": "white",
            "ticks": ""
           },
           "bgcolor": "#E5ECF6",
           "caxis": {
            "gridcolor": "white",
            "linecolor": "white",
            "ticks": ""
           }
          },
          "title": {
           "x": 0.05
          },
          "xaxis": {
           "automargin": true,
           "gridcolor": "white",
           "linecolor": "white",
           "ticks": "",
           "title": {
            "standoff": 15
           },
           "zerolinecolor": "white",
           "zerolinewidth": 2
          },
          "yaxis": {
           "automargin": true,
           "gridcolor": "white",
           "linecolor": "white",
           "ticks": "",
           "title": {
            "standoff": 15
           },
           "zerolinecolor": "white",
           "zerolinewidth": 2
          }
         }
        },
        "title": {
         "text": "Transaction with Cashback Greater Than 500"
        },
        "width": 1000,
        "xaxis": {
         "anchor": "y",
         "domain": [
          0,
          1
         ],
         "title": {
          "text": "Description"
         }
        },
        "yaxis": {
         "anchor": "x",
         "categoryarray": [
          559.54,
          831.07,
          572.33,
          541.82,
          585.03,
          684.19,
          1114.88,
          641.74,
          998.24,
          3582.52,
          1072.84,
          1921.96,
          889.58,
          2962.85,
          1939.81,
          1402.38,
          809.37,
          618.44,
          1134.63,
          1324.12,
          1709.56,
          1568.14,
          3097.97,
          663.99,
          1156.7,
          523.87,
          561.38,
          1311.05,
          2001.71,
          839.57,
          599.01,
          1237.14,
          3919.34,
          797.53,
          1189.13,
          1751.71,
          503.44,
          845.84,
          576.49,
          689.97,
          1468.14,
          2294.12,
          751.91,
          1370.17,
          1481.43,
          1205.01,
          1689.63,
          637.22,
          1802.73,
          711.57,
          2478.23,
          671.39
         ],
         "categoryorder": "array",
         "domain": [
          0,
          1
         ],
         "title": {
          "text": "Cashback"
         }
        }
       }
      }
     },
     "metadata": {},
     "output_type": "display_data"
    }
   ],
   "source": [
    "query12 = (\"SELECT * FROM PERSONAL_EXPENSES WHERE Cashback > 500\")\n",
    "\n",
    "my_cursor.execute(query12)\n",
    "\n",
    "transaction_with_cashback = my_cursor.fetchall()\n",
    "\n",
    "for x in transaction_with_cashback:\n",
    "    \n",
    "    print(x)\n",
    "    \n",
    "columns = [desc[0] for desc in my_cursor.description]\n",
    "\n",
    "\n",
    "cashback_df =pd.DataFrame(transaction_with_cashback, columns=columns)\n",
    "\n",
    "fig = px.bar(cashback_df,\n",
    "             x = \"Description\",\n",
    "             y = \"Cashback\",\n",
    "             title=\"Transaction with Cashback Greater Than 500\",\n",
    "             color=\"Cashback\",\n",
    "             text=\"Cashback\",\n",
    "             width=1000,\n",
    "             height=800\n",
    ")\n",
    "\n",
    "fig.show()"
   ]
  },
  {
   "cell_type": "code",
   "execution_count": 23,
   "metadata": {},
   "outputs": [
    {
     "name": "stdout",
     "output_type": "stream",
     "text": [
      "(datetime.date(2023, 1, 1), Decimal('502.78'))\n",
      "(datetime.date(2023, 1, 2), Decimal('67.60'))\n",
      "(datetime.date(2023, 1, 3), Decimal('230.82'))\n",
      "(datetime.date(2023, 1, 4), Decimal('28.82'))\n",
      "(datetime.date(2023, 1, 5), Decimal('162.16'))\n",
      "(datetime.date(2023, 1, 6), Decimal('1506.94'))\n",
      "(datetime.date(2023, 1, 7), Decimal('81.66'))\n",
      "(datetime.date(2023, 1, 8), Decimal('5632.72'))\n",
      "(datetime.date(2023, 1, 9), Decimal('450.36'))\n",
      "(datetime.date(2023, 1, 10), Decimal('939.14'))\n",
      "(datetime.date(2023, 1, 11), Decimal('13.28'))\n",
      "(datetime.date(2023, 1, 12), Decimal('305.26'))\n",
      "(datetime.date(2023, 1, 13), Decimal('2322.20'))\n",
      "(datetime.date(2023, 1, 14), Decimal('117.54'))\n",
      "(datetime.date(2023, 1, 15), Decimal('565.54'))\n",
      "(datetime.date(2023, 1, 16), Decimal('937.18'))\n",
      "(datetime.date(2023, 1, 17), Decimal('814.22'))\n",
      "(datetime.date(2023, 1, 18), Decimal('1033.42'))\n",
      "(datetime.date(2023, 1, 19), Decimal('495.82'))\n",
      "(datetime.date(2023, 1, 20), Decimal('350.54'))\n",
      "(datetime.date(2023, 1, 21), Decimal('482.38'))\n",
      "(datetime.date(2023, 1, 22), Decimal('3689.34'))\n",
      "(datetime.date(2023, 1, 23), Decimal('716.44'))\n",
      "(datetime.date(2023, 1, 24), Decimal('176.30'))\n",
      "(datetime.date(2023, 1, 25), Decimal('172.68'))\n",
      "(datetime.date(2023, 1, 26), Decimal('467.18'))\n",
      "(datetime.date(2023, 1, 27), Decimal('67.38'))\n",
      "(datetime.date(2023, 1, 28), Decimal('316.26'))\n",
      "(datetime.date(2023, 1, 29), Decimal('759.18'))\n",
      "(datetime.date(2023, 2, 1), Decimal('2022.92'))\n",
      "(datetime.date(2023, 2, 2), Decimal('120.78'))\n",
      "(datetime.date(2023, 2, 3), Decimal('808.54'))\n",
      "(datetime.date(2023, 2, 4), Decimal('102.42'))\n",
      "(datetime.date(2023, 2, 5), Decimal('432.56'))\n",
      "(datetime.date(2023, 2, 6), Decimal('294.18'))\n",
      "(datetime.date(2023, 2, 7), Decimal('863.30'))\n",
      "(datetime.date(2023, 2, 8), Decimal('371.74'))\n",
      "(datetime.date(2023, 2, 9), Decimal('3671.82'))\n",
      "(datetime.date(2023, 2, 10), Decimal('90.70'))\n",
      "(datetime.date(2023, 2, 11), Decimal('300.36'))\n",
      "(datetime.date(2023, 2, 12), Decimal('467.24'))\n",
      "(datetime.date(2023, 2, 13), Decimal('1072.16'))\n",
      "(datetime.date(2023, 2, 14), Decimal('3550.30'))\n",
      "(datetime.date(2023, 2, 15), Decimal('3336.88'))\n",
      "(datetime.date(2023, 2, 16), Decimal('238.92'))\n",
      "(datetime.date(2023, 2, 17), Decimal('681.78'))\n",
      "(datetime.date(2023, 2, 18), Decimal('376.10'))\n",
      "(datetime.date(2023, 2, 19), Decimal('3150.24'))\n",
      "(datetime.date(2023, 2, 20), Decimal('276.34'))\n",
      "(datetime.date(2023, 2, 21), Decimal('651.18'))\n",
      "(datetime.date(2023, 2, 22), Decimal('1753.76'))\n",
      "(datetime.date(2023, 2, 23), Decimal('550.26'))\n",
      "(datetime.date(2023, 2, 24), Decimal('1332.70'))\n",
      "(datetime.date(2023, 2, 25), Decimal('1.42'))\n",
      "(datetime.date(2023, 2, 26), Decimal('29.76'))\n",
      "(datetime.date(2023, 2, 27), Decimal('543.54'))\n",
      "(datetime.date(2023, 2, 28), Decimal('200.92'))\n",
      "(datetime.date(2023, 3, 1), Decimal('318.20'))\n",
      "(datetime.date(2023, 3, 2), Decimal('752.42'))\n",
      "(datetime.date(2023, 3, 3), Decimal('301.24'))\n",
      "(datetime.date(2023, 3, 4), Decimal('1002.94'))\n",
      "(datetime.date(2023, 3, 5), Decimal('122.34'))\n",
      "(datetime.date(2023, 3, 6), Decimal('1435.28'))\n",
      "(datetime.date(2023, 3, 7), Decimal('422.34'))\n",
      "(datetime.date(2023, 3, 8), Decimal('177.32'))\n",
      "(datetime.date(2023, 3, 9), Decimal('674.84'))\n",
      "(datetime.date(2023, 3, 10), Decimal('712.30'))\n",
      "(datetime.date(2023, 3, 11), Decimal('240.56'))\n",
      "(datetime.date(2023, 3, 12), Decimal('318.36'))\n",
      "(datetime.date(2023, 3, 13), Decimal('274.46'))\n",
      "(datetime.date(2023, 3, 14), Decimal('597.82'))\n",
      "(datetime.date(2023, 3, 15), Decimal('463.14'))\n",
      "(datetime.date(2023, 3, 16), Decimal('2.24'))\n",
      "(datetime.date(2023, 3, 17), Decimal('1015.96'))\n",
      "(datetime.date(2023, 3, 18), Decimal('1116.22'))\n",
      "(datetime.date(2023, 3, 19), Decimal('420.74'))\n",
      "(datetime.date(2023, 3, 20), Decimal('1260.14'))\n",
      "(datetime.date(2023, 3, 21), Decimal('309.76'))\n",
      "(datetime.date(2023, 3, 22), Decimal('746.24'))\n",
      "(datetime.date(2023, 3, 23), Decimal('1701.70'))\n",
      "(datetime.date(2023, 3, 24), Decimal('662.48'))\n",
      "(datetime.date(2023, 3, 25), Decimal('3.54'))\n",
      "(datetime.date(2023, 3, 26), Decimal('944.80'))\n",
      "(datetime.date(2023, 3, 27), Decimal('4803.64'))\n",
      "(datetime.date(2023, 3, 28), Decimal('645.32'))\n",
      "(datetime.date(2023, 3, 29), Decimal('919.32'))\n",
      "(datetime.date(2023, 4, 1), Decimal('222.12'))\n",
      "(datetime.date(2023, 4, 2), Decimal('580.74'))\n",
      "(datetime.date(2023, 4, 3), Decimal('161.68'))\n",
      "(datetime.date(2023, 4, 4), Decimal('395.42'))\n",
      "(datetime.date(2023, 4, 5), Decimal('119.50'))\n",
      "(datetime.date(2023, 4, 6), Decimal('289.96'))\n",
      "(datetime.date(2023, 4, 7), Decimal('1274.98'))\n",
      "(datetime.date(2023, 4, 8), Decimal('760.68'))\n",
      "(datetime.date(2023, 4, 9), Decimal('161.90'))\n",
      "(datetime.date(2023, 4, 10), Decimal('288.64'))\n",
      "(datetime.date(2023, 4, 11), Decimal('3469.28'))\n",
      "(datetime.date(2023, 4, 12), Decimal('2613.38'))\n",
      "(datetime.date(2023, 4, 13), Decimal('622.62'))\n",
      "(datetime.date(2023, 4, 14), Decimal('464.02'))\n",
      "(datetime.date(2023, 4, 15), Decimal('599.58'))\n",
      "(datetime.date(2023, 4, 16), Decimal('234.94'))\n",
      "(datetime.date(2023, 4, 17), Decimal('522.24'))\n",
      "(datetime.date(2023, 4, 18), Decimal('95.86'))\n",
      "(datetime.date(2023, 4, 19), Decimal('202.42'))\n",
      "(datetime.date(2023, 4, 20), Decimal('719.88'))\n",
      "(datetime.date(2023, 4, 21), Decimal('803.62'))\n",
      "(datetime.date(2023, 4, 22), Decimal('271.48'))\n",
      "(datetime.date(2023, 4, 23), Decimal('1691.68'))\n",
      "(datetime.date(2023, 4, 24), Decimal('313.48'))\n",
      "(datetime.date(2023, 4, 25), Decimal('624.66'))\n",
      "(datetime.date(2023, 4, 26), Decimal('133.72'))\n",
      "(datetime.date(2023, 4, 27), Decimal('1497.34'))\n",
      "(datetime.date(2023, 4, 28), Decimal('168.56'))\n",
      "(datetime.date(2023, 5, 1), Decimal('141.94'))\n",
      "(datetime.date(2023, 5, 2), Decimal('459.80'))\n",
      "(datetime.date(2023, 5, 3), Decimal('532.74'))\n",
      "(datetime.date(2023, 5, 4), Decimal('3828.06'))\n",
      "(datetime.date(2023, 5, 5), Decimal('784.56'))\n",
      "(datetime.date(2023, 5, 6), Decimal('516.34'))\n",
      "(datetime.date(2023, 5, 7), Decimal('794.56'))\n",
      "(datetime.date(2023, 5, 8), Decimal('1223.94'))\n",
      "(datetime.date(2023, 5, 9), Decimal('566.26'))\n",
      "(datetime.date(2023, 5, 10), Decimal('671.02'))\n",
      "(datetime.date(2023, 5, 11), Decimal('287.60'))\n",
      "(datetime.date(2023, 5, 12), Decimal('732.44'))\n",
      "(datetime.date(2023, 5, 13), Decimal('935.32'))\n",
      "(datetime.date(2023, 5, 14), Decimal('3369.54'))\n",
      "(datetime.date(2023, 5, 15), Decimal('527.90'))\n",
      "(datetime.date(2023, 5, 16), Decimal('16.72'))\n",
      "(datetime.date(2023, 5, 17), Decimal('127.40'))\n",
      "(datetime.date(2023, 5, 18), Decimal('286.42'))\n",
      "(datetime.date(2023, 5, 19), Decimal('541.30'))\n",
      "(datetime.date(2023, 5, 20), Decimal('520.88'))\n",
      "(datetime.date(2023, 5, 21), Decimal('292.40'))\n",
      "(datetime.date(2023, 5, 22), Decimal('1736.14'))\n",
      "(datetime.date(2023, 5, 23), Decimal('26.34'))\n",
      "(datetime.date(2023, 5, 24), Decimal('130.70'))\n",
      "(datetime.date(2023, 5, 25), Decimal('7938.98'))\n",
      "(datetime.date(2023, 5, 26), Decimal('278.42'))\n",
      "(datetime.date(2023, 5, 27), Decimal('709.70'))\n",
      "(datetime.date(2023, 5, 28), Decimal('697.98'))\n",
      "(datetime.date(2023, 6, 1), Decimal('182.84'))\n",
      "(datetime.date(2023, 6, 2), Decimal('137.32'))\n",
      "(datetime.date(2023, 6, 3), Decimal('72.06'))\n",
      "(datetime.date(2023, 6, 4), Decimal('126.50'))\n",
      "(datetime.date(2023, 6, 5), Decimal('435.76'))\n",
      "(datetime.date(2023, 6, 6), Decimal('438.30'))\n",
      "(datetime.date(2023, 6, 7), Decimal('322.78'))\n",
      "(datetime.date(2023, 6, 8), Decimal('735.70'))\n",
      "(datetime.date(2023, 6, 9), Decimal('488.98'))\n",
      "(datetime.date(2023, 6, 10), Decimal('1008.78'))\n",
      "(datetime.date(2023, 6, 11), Decimal('613.16'))\n",
      "(datetime.date(2023, 6, 12), Decimal('77.90'))\n",
      "(datetime.date(2023, 6, 13), Decimal('22.80'))\n",
      "(datetime.date(2023, 6, 14), Decimal('550.16'))\n",
      "(datetime.date(2023, 6, 15), Decimal('664.34'))\n",
      "(datetime.date(2023, 6, 16), Decimal('65.34'))\n",
      "(datetime.date(2023, 6, 17), Decimal('2731.98'))\n",
      "(datetime.date(2023, 6, 18), Decimal('680.32'))\n",
      "(datetime.date(2023, 6, 19), Decimal('731.34'))\n",
      "(datetime.date(2023, 6, 20), Decimal('808.34'))\n",
      "(datetime.date(2023, 6, 21), Decimal('418.96'))\n",
      "(datetime.date(2023, 6, 22), Decimal('41.60'))\n",
      "(datetime.date(2023, 6, 23), Decimal('382.60'))\n",
      "(datetime.date(2023, 6, 24), Decimal('355.68'))\n",
      "(datetime.date(2023, 6, 25), Decimal('146.40'))\n",
      "(datetime.date(2023, 6, 26), Decimal('68.18'))\n",
      "(datetime.date(2023, 6, 27), Decimal('99.80'))\n",
      "(datetime.date(2023, 6, 28), Decimal('723.34'))\n",
      "(datetime.date(2023, 6, 29), Decimal('754.26'))\n",
      "(datetime.date(2023, 6, 30), Decimal('1225.86'))\n",
      "(datetime.date(2023, 7, 1), Decimal('586.40'))\n",
      "(datetime.date(2023, 7, 2), Decimal('2373.00'))\n",
      "(datetime.date(2023, 7, 3), Decimal('415.12'))\n",
      "(datetime.date(2023, 7, 4), Decimal('141.72'))\n",
      "(datetime.date(2023, 7, 5), Decimal('193.20'))\n",
      "(datetime.date(2023, 7, 6), Decimal('262.68'))\n",
      "(datetime.date(2023, 7, 7), Decimal('703.08'))\n",
      "(datetime.date(2023, 7, 8), Decimal('4554.00'))\n",
      "(datetime.date(2023, 7, 9), Decimal('367.52'))\n",
      "(datetime.date(2023, 7, 10), Decimal('4365.42'))\n",
      "(datetime.date(2023, 7, 11), Decimal('574.42'))\n",
      "(datetime.date(2023, 7, 12), Decimal('602.78'))\n",
      "(datetime.date(2023, 7, 13), Decimal('1283.30'))\n",
      "(datetime.date(2023, 7, 14), Decimal('810.08'))\n",
      "(datetime.date(2023, 7, 15), Decimal('807.04'))\n",
      "(datetime.date(2023, 7, 16), Decimal('165.46'))\n",
      "(datetime.date(2023, 7, 17), Decimal('195.12'))\n",
      "(datetime.date(2023, 7, 18), Decimal('808.42'))\n",
      "(datetime.date(2023, 7, 19), Decimal('336.76'))\n",
      "(datetime.date(2023, 7, 20), Decimal('206.60'))\n",
      "(datetime.date(2023, 7, 21), Decimal('769.18'))\n",
      "(datetime.date(2023, 7, 22), Decimal('332.38'))\n",
      "(datetime.date(2023, 7, 23), Decimal('60.82'))\n",
      "(datetime.date(2023, 7, 24), Decimal('118.02'))\n",
      "(datetime.date(2023, 7, 25), Decimal('356.38'))\n",
      "(datetime.date(2023, 7, 26), Decimal('105.98'))\n",
      "(datetime.date(2023, 7, 27), Decimal('1058.80'))\n",
      "(datetime.date(2023, 7, 28), Decimal('821.30'))\n",
      "(datetime.date(2023, 7, 29), Decimal('717.72'))\n",
      "(datetime.date(2023, 7, 30), Decimal('777.14'))\n",
      "(datetime.date(2023, 7, 31), Decimal('7.36'))\n",
      "(datetime.date(2023, 8, 1), Decimal('1185.82'))\n",
      "(datetime.date(2023, 8, 2), Decimal('2313.40'))\n",
      "(datetime.date(2023, 8, 3), Decimal('144.26'))\n",
      "(datetime.date(2023, 8, 4), Decimal('756.60'))\n",
      "(datetime.date(2023, 8, 5), Decimal('532.90'))\n",
      "(datetime.date(2023, 8, 6), Decimal('2347.64'))\n",
      "(datetime.date(2023, 8, 7), Decimal('1429.38'))\n",
      "(datetime.date(2023, 8, 8), Decimal('61.26'))\n",
      "(datetime.date(2023, 8, 9), Decimal('6369.60'))\n",
      "(datetime.date(2023, 8, 10), Decimal('558.92'))\n",
      "(datetime.date(2023, 8, 11), Decimal('3136.28'))\n",
      "(datetime.date(2023, 8, 12), Decimal('139.00'))\n",
      "(datetime.date(2023, 8, 13), Decimal('266.40'))\n",
      "(datetime.date(2023, 8, 14), Decimal('678.14'))\n",
      "(datetime.date(2023, 8, 15), Decimal('79.32'))\n",
      "(datetime.date(2023, 8, 16), Decimal('1054.28'))\n",
      "(datetime.date(2023, 8, 17), Decimal('646.24'))\n",
      "(datetime.date(2023, 8, 18), Decimal('174.30'))\n",
      "(datetime.date(2023, 8, 19), Decimal('328.56'))\n",
      "(datetime.date(2023, 8, 20), Decimal('336.46'))\n",
      "(datetime.date(2023, 8, 21), Decimal('1045.24'))\n",
      "(datetime.date(2023, 8, 22), Decimal('706.54'))\n",
      "(datetime.date(2023, 8, 23), Decimal('521.26'))\n",
      "(datetime.date(2023, 8, 24), Decimal('125.00'))\n",
      "(datetime.date(2023, 8, 25), Decimal('1164.94'))\n",
      "(datetime.date(2023, 8, 26), Decimal('38.18'))\n",
      "(datetime.date(2023, 8, 27), Decimal('206.82'))\n",
      "(datetime.date(2023, 8, 28), Decimal('617.78'))\n",
      "(datetime.date(2023, 8, 29), Decimal('777.00'))\n",
      "(datetime.date(2023, 8, 30), Decimal('3645.56'))\n",
      "(datetime.date(2023, 8, 31), Decimal('432.82'))\n",
      "(datetime.date(2023, 9, 1), Decimal('428.28'))\n",
      "(datetime.date(2023, 9, 2), Decimal('17.20'))\n",
      "(datetime.date(2023, 9, 3), Decimal('3121.10'))\n",
      "(datetime.date(2023, 9, 4), Decimal('283.72'))\n",
      "(datetime.date(2023, 9, 5), Decimal('354.88'))\n",
      "(datetime.date(2023, 9, 6), Decimal('305.08'))\n",
      "(datetime.date(2023, 9, 7), Decimal('218.56'))\n",
      "(datetime.date(2023, 9, 8), Decimal('1001.58'))\n",
      "(datetime.date(2023, 9, 9), Decimal('224.74'))\n",
      "(datetime.date(2023, 9, 10), Decimal('21.56'))\n",
      "(datetime.date(2023, 9, 11), Decimal('293.82'))\n",
      "(datetime.date(2023, 9, 12), Decimal('3350.78'))\n",
      "(datetime.date(2023, 9, 13), Decimal('811.04'))\n",
      "(datetime.date(2023, 9, 14), Decimal('1470.74'))\n",
      "(datetime.date(2023, 9, 15), Decimal('151.82'))\n",
      "(datetime.date(2023, 9, 16), Decimal('76.58'))\n",
      "(datetime.date(2023, 9, 17), Decimal('663.42'))\n",
      "(datetime.date(2023, 9, 18), Decimal('1352.60'))\n",
      "(datetime.date(2023, 9, 19), Decimal('463.86'))\n",
      "(datetime.date(2023, 9, 20), Decimal('254.92'))\n",
      "(datetime.date(2023, 9, 21), Decimal('1719.70'))\n",
      "(datetime.date(2023, 9, 22), Decimal('346.44'))\n",
      "(datetime.date(2023, 9, 23), Decimal('31.78'))\n",
      "(datetime.date(2023, 9, 24), Decimal('737.48'))\n",
      "(datetime.date(2023, 9, 25), Decimal('148.88'))\n",
      "(datetime.date(2023, 9, 26), Decimal('581.40'))\n",
      "(datetime.date(2023, 9, 27), Decimal('3391.32'))\n",
      "(datetime.date(2023, 9, 28), Decimal('4447.54'))\n",
      "(datetime.date(2023, 9, 29), Decimal('134.90'))\n",
      "(datetime.date(2023, 10, 1), Decimal('106.86'))\n",
      "(datetime.date(2023, 10, 2), Decimal('134.88'))\n",
      "(datetime.date(2023, 10, 3), Decimal('6346.28'))\n",
      "(datetime.date(2023, 10, 4), Decimal('779.08'))\n",
      "(datetime.date(2023, 10, 5), Decimal('236.50'))\n",
      "(datetime.date(2023, 10, 6), Decimal('778.18'))\n",
      "(datetime.date(2023, 10, 7), Decimal('169.18'))\n",
      "(datetime.date(2023, 10, 8), Decimal('970.94'))\n",
      "(datetime.date(2023, 10, 9), Decimal('162.48'))\n",
      "(datetime.date(2023, 10, 10), Decimal('447.06'))\n",
      "(datetime.date(2023, 10, 11), Decimal('507.22'))\n",
      "(datetime.date(2023, 10, 12), Decimal('132.74'))\n",
      "(datetime.date(2023, 10, 13), Decimal('2157.40'))\n",
      "(datetime.date(2023, 10, 14), Decimal('5200.06'))\n",
      "(datetime.date(2023, 10, 15), Decimal('63.94'))\n",
      "(datetime.date(2023, 10, 16), Decimal('213.84'))\n",
      "(datetime.date(2023, 10, 17), Decimal('2501.64'))\n",
      "(datetime.date(2023, 10, 18), Decimal('1042.28'))\n",
      "(datetime.date(2023, 10, 19), Decimal('13.30'))\n",
      "(datetime.date(2023, 10, 20), Decimal('1041.08'))\n",
      "(datetime.date(2023, 10, 21), Decimal('685.20'))\n",
      "(datetime.date(2023, 10, 22), Decimal('16.94'))\n",
      "(datetime.date(2023, 10, 23), Decimal('729.48'))\n",
      "(datetime.date(2023, 10, 24), Decimal('1172.28'))\n",
      "(datetime.date(2023, 10, 25), Decimal('131.28'))\n",
      "(datetime.date(2023, 10, 26), Decimal('635.22'))\n",
      "(datetime.date(2023, 10, 27), Decimal('94.70'))\n",
      "(datetime.date(2023, 10, 28), Decimal('291.10'))\n",
      "(datetime.date(2023, 11, 1), Decimal('424.92'))\n",
      "(datetime.date(2023, 11, 2), Decimal('45.16'))\n",
      "(datetime.date(2023, 11, 3), Decimal('205.12'))\n",
      "(datetime.date(2023, 11, 4), Decimal('165.46'))\n",
      "(datetime.date(2023, 11, 5), Decimal('839.94'))\n",
      "(datetime.date(2023, 11, 6), Decimal('205.92'))\n",
      "(datetime.date(2023, 11, 7), Decimal('705.94'))\n",
      "(datetime.date(2023, 11, 8), Decimal('300.80'))\n",
      "(datetime.date(2023, 11, 9), Decimal('191.72'))\n",
      "(datetime.date(2023, 11, 10), Decimal('7269.50'))\n",
      "(datetime.date(2023, 11, 11), Decimal('35.36'))\n",
      "(datetime.date(2023, 11, 12), Decimal('517.50'))\n",
      "(datetime.date(2023, 11, 13), Decimal('388.04'))\n",
      "(datetime.date(2023, 11, 14), Decimal('3087.76'))\n",
      "(datetime.date(2023, 11, 15), Decimal('46.56'))\n",
      "(datetime.date(2023, 11, 16), Decimal('230.64'))\n",
      "(datetime.date(2023, 11, 17), Decimal('893.20'))\n",
      "(datetime.date(2023, 11, 18), Decimal('111.42'))\n",
      "(datetime.date(2023, 11, 19), Decimal('903.24'))\n",
      "(datetime.date(2023, 11, 20), Decimal('1287.64'))\n",
      "(datetime.date(2023, 11, 21), Decimal('1876.28'))\n",
      "(datetime.date(2023, 11, 22), Decimal('340.62'))\n",
      "(datetime.date(2023, 11, 23), Decimal('472.84'))\n",
      "(datetime.date(2023, 11, 24), Decimal('416.86'))\n",
      "(datetime.date(2023, 11, 25), Decimal('273.68'))\n",
      "(datetime.date(2023, 11, 26), Decimal('635.42'))\n",
      "(datetime.date(2023, 11, 27), Decimal('2552.72'))\n",
      "(datetime.date(2023, 11, 28), Decimal('439.18'))\n",
      "(datetime.date(2023, 11, 29), Decimal('44.84'))\n",
      "(datetime.date(2023, 11, 30), Decimal('1661.88'))\n",
      "(datetime.date(2023, 12, 1), Decimal('1289.74'))\n",
      "(datetime.date(2023, 12, 2), Decimal('572.76'))\n",
      "(datetime.date(2023, 12, 3), Decimal('224.12'))\n",
      "(datetime.date(2023, 12, 4), Decimal('6.86'))\n",
      "(datetime.date(2023, 12, 5), Decimal('311.92'))\n",
      "(datetime.date(2023, 12, 6), Decimal('32.08'))\n",
      "(datetime.date(2023, 12, 7), Decimal('2634.58'))\n",
      "(datetime.date(2023, 12, 8), Decimal('203.08'))\n",
      "(datetime.date(2023, 12, 9), Decimal('706.74'))\n",
      "(datetime.date(2023, 12, 10), Decimal('56.12'))\n",
      "(datetime.date(2023, 12, 11), Decimal('169.26'))\n",
      "(datetime.date(2023, 12, 12), Decimal('143.76'))\n",
      "(datetime.date(2023, 12, 13), Decimal('2079.26'))\n",
      "(datetime.date(2023, 12, 14), Decimal('1078.64'))\n",
      "(datetime.date(2023, 12, 15), Decimal('182.72'))\n",
      "(datetime.date(2023, 12, 16), Decimal('18.52'))\n",
      "(datetime.date(2023, 12, 17), Decimal('174.08'))\n",
      "(datetime.date(2023, 12, 18), Decimal('109.10'))\n",
      "(datetime.date(2023, 12, 19), Decimal('1366.44'))\n",
      "(datetime.date(2023, 12, 20), Decimal('355.16'))\n",
      "(datetime.date(2023, 12, 21), Decimal('695.86'))\n",
      "(datetime.date(2023, 12, 22), Decimal('206.14'))\n",
      "(datetime.date(2023, 12, 23), Decimal('803.48'))\n",
      "(datetime.date(2023, 12, 24), Decimal('149.06'))\n",
      "(datetime.date(2023, 12, 25), Decimal('174.66'))\n",
      "(datetime.date(2023, 12, 26), Decimal('1223.64'))\n",
      "(datetime.date(2023, 12, 27), Decimal('463.68'))\n",
      "(datetime.date(2023, 12, 28), Decimal('708.26'))\n",
      "(datetime.date(2023, 12, 29), Decimal('956.08'))\n",
      "(datetime.date(2023, 12, 30), Decimal('406.94'))\n",
      "(datetime.date(2023, 12, 31), Decimal('199.00'))\n"
     ]
    },
    {
     "data": {
      "application/vnd.plotly.v1+json": {
       "config": {
        "plotlyServerURL": "https://plot.ly"
       },
       "data": [
        {
         "hovertemplate": "Date=%{x}<br>Total Cashback=%{y}<extra></extra>",
         "legendgroup": "",
         "line": {
          "color": "#2d3d5c",
          "dash": "solid",
          "width": 3
         },
         "marker": {
          "color": "#ffccd5",
          "size": 5,
          "symbol": "circle"
         },
         "mode": "lines+markers",
         "name": "",
         "orientation": "v",
         "showlegend": false,
         "type": "scatter",
         "x": [
          "2023-01-01",
          "2023-01-02",
          "2023-01-03",
          "2023-01-04",
          "2023-01-05",
          "2023-01-06",
          "2023-01-07",
          "2023-01-08",
          "2023-01-09",
          "2023-01-10",
          "2023-01-11",
          "2023-01-12",
          "2023-01-13",
          "2023-01-14",
          "2023-01-15",
          "2023-01-16",
          "2023-01-17",
          "2023-01-18",
          "2023-01-19",
          "2023-01-20",
          "2023-01-21",
          "2023-01-22",
          "2023-01-23",
          "2023-01-24",
          "2023-01-25",
          "2023-01-26",
          "2023-01-27",
          "2023-01-28",
          "2023-01-29",
          "2023-02-01",
          "2023-02-02",
          "2023-02-03",
          "2023-02-04",
          "2023-02-05",
          "2023-02-06",
          "2023-02-07",
          "2023-02-08",
          "2023-02-09",
          "2023-02-10",
          "2023-02-11",
          "2023-02-12",
          "2023-02-13",
          "2023-02-14",
          "2023-02-15",
          "2023-02-16",
          "2023-02-17",
          "2023-02-18",
          "2023-02-19",
          "2023-02-20",
          "2023-02-21",
          "2023-02-22",
          "2023-02-23",
          "2023-02-24",
          "2023-02-25",
          "2023-02-26",
          "2023-02-27",
          "2023-02-28",
          "2023-03-01",
          "2023-03-02",
          "2023-03-03",
          "2023-03-04",
          "2023-03-05",
          "2023-03-06",
          "2023-03-07",
          "2023-03-08",
          "2023-03-09",
          "2023-03-10",
          "2023-03-11",
          "2023-03-12",
          "2023-03-13",
          "2023-03-14",
          "2023-03-15",
          "2023-03-16",
          "2023-03-17",
          "2023-03-18",
          "2023-03-19",
          "2023-03-20",
          "2023-03-21",
          "2023-03-22",
          "2023-03-23",
          "2023-03-24",
          "2023-03-25",
          "2023-03-26",
          "2023-03-27",
          "2023-03-28",
          "2023-03-29",
          "2023-04-01",
          "2023-04-02",
          "2023-04-03",
          "2023-04-04",
          "2023-04-05",
          "2023-04-06",
          "2023-04-07",
          "2023-04-08",
          "2023-04-09",
          "2023-04-10",
          "2023-04-11",
          "2023-04-12",
          "2023-04-13",
          "2023-04-14",
          "2023-04-15",
          "2023-04-16",
          "2023-04-17",
          "2023-04-18",
          "2023-04-19",
          "2023-04-20",
          "2023-04-21",
          "2023-04-22",
          "2023-04-23",
          "2023-04-24",
          "2023-04-25",
          "2023-04-26",
          "2023-04-27",
          "2023-04-28",
          "2023-05-01",
          "2023-05-02",
          "2023-05-03",
          "2023-05-04",
          "2023-05-05",
          "2023-05-06",
          "2023-05-07",
          "2023-05-08",
          "2023-05-09",
          "2023-05-10",
          "2023-05-11",
          "2023-05-12",
          "2023-05-13",
          "2023-05-14",
          "2023-05-15",
          "2023-05-16",
          "2023-05-17",
          "2023-05-18",
          "2023-05-19",
          "2023-05-20",
          "2023-05-21",
          "2023-05-22",
          "2023-05-23",
          "2023-05-24",
          "2023-05-25",
          "2023-05-26",
          "2023-05-27",
          "2023-05-28",
          "2023-06-01",
          "2023-06-02",
          "2023-06-03",
          "2023-06-04",
          "2023-06-05",
          "2023-06-06",
          "2023-06-07",
          "2023-06-08",
          "2023-06-09",
          "2023-06-10",
          "2023-06-11",
          "2023-06-12",
          "2023-06-13",
          "2023-06-14",
          "2023-06-15",
          "2023-06-16",
          "2023-06-17",
          "2023-06-18",
          "2023-06-19",
          "2023-06-20",
          "2023-06-21",
          "2023-06-22",
          "2023-06-23",
          "2023-06-24",
          "2023-06-25",
          "2023-06-26",
          "2023-06-27",
          "2023-06-28",
          "2023-06-29",
          "2023-06-30",
          "2023-07-01",
          "2023-07-02",
          "2023-07-03",
          "2023-07-04",
          "2023-07-05",
          "2023-07-06",
          "2023-07-07",
          "2023-07-08",
          "2023-07-09",
          "2023-07-10",
          "2023-07-11",
          "2023-07-12",
          "2023-07-13",
          "2023-07-14",
          "2023-07-15",
          "2023-07-16",
          "2023-07-17",
          "2023-07-18",
          "2023-07-19",
          "2023-07-20",
          "2023-07-21",
          "2023-07-22",
          "2023-07-23",
          "2023-07-24",
          "2023-07-25",
          "2023-07-26",
          "2023-07-27",
          "2023-07-28",
          "2023-07-29",
          "2023-07-30",
          "2023-07-31",
          "2023-08-01",
          "2023-08-02",
          "2023-08-03",
          "2023-08-04",
          "2023-08-05",
          "2023-08-06",
          "2023-08-07",
          "2023-08-08",
          "2023-08-09",
          "2023-08-10",
          "2023-08-11",
          "2023-08-12",
          "2023-08-13",
          "2023-08-14",
          "2023-08-15",
          "2023-08-16",
          "2023-08-17",
          "2023-08-18",
          "2023-08-19",
          "2023-08-20",
          "2023-08-21",
          "2023-08-22",
          "2023-08-23",
          "2023-08-24",
          "2023-08-25",
          "2023-08-26",
          "2023-08-27",
          "2023-08-28",
          "2023-08-29",
          "2023-08-30",
          "2023-08-31",
          "2023-09-01",
          "2023-09-02",
          "2023-09-03",
          "2023-09-04",
          "2023-09-05",
          "2023-09-06",
          "2023-09-07",
          "2023-09-08",
          "2023-09-09",
          "2023-09-10",
          "2023-09-11",
          "2023-09-12",
          "2023-09-13",
          "2023-09-14",
          "2023-09-15",
          "2023-09-16",
          "2023-09-17",
          "2023-09-18",
          "2023-09-19",
          "2023-09-20",
          "2023-09-21",
          "2023-09-22",
          "2023-09-23",
          "2023-09-24",
          "2023-09-25",
          "2023-09-26",
          "2023-09-27",
          "2023-09-28",
          "2023-09-29",
          "2023-10-01",
          "2023-10-02",
          "2023-10-03",
          "2023-10-04",
          "2023-10-05",
          "2023-10-06",
          "2023-10-07",
          "2023-10-08",
          "2023-10-09",
          "2023-10-10",
          "2023-10-11",
          "2023-10-12",
          "2023-10-13",
          "2023-10-14",
          "2023-10-15",
          "2023-10-16",
          "2023-10-17",
          "2023-10-18",
          "2023-10-19",
          "2023-10-20",
          "2023-10-21",
          "2023-10-22",
          "2023-10-23",
          "2023-10-24",
          "2023-10-25",
          "2023-10-26",
          "2023-10-27",
          "2023-10-28",
          "2023-11-01",
          "2023-11-02",
          "2023-11-03",
          "2023-11-04",
          "2023-11-05",
          "2023-11-06",
          "2023-11-07",
          "2023-11-08",
          "2023-11-09",
          "2023-11-10",
          "2023-11-11",
          "2023-11-12",
          "2023-11-13",
          "2023-11-14",
          "2023-11-15",
          "2023-11-16",
          "2023-11-17",
          "2023-11-18",
          "2023-11-19",
          "2023-11-20",
          "2023-11-21",
          "2023-11-22",
          "2023-11-23",
          "2023-11-24",
          "2023-11-25",
          "2023-11-26",
          "2023-11-27",
          "2023-11-28",
          "2023-11-29",
          "2023-11-30",
          "2023-12-01",
          "2023-12-02",
          "2023-12-03",
          "2023-12-04",
          "2023-12-05",
          "2023-12-06",
          "2023-12-07",
          "2023-12-08",
          "2023-12-09",
          "2023-12-10",
          "2023-12-11",
          "2023-12-12",
          "2023-12-13",
          "2023-12-14",
          "2023-12-15",
          "2023-12-16",
          "2023-12-17",
          "2023-12-18",
          "2023-12-19",
          "2023-12-20",
          "2023-12-21",
          "2023-12-22",
          "2023-12-23",
          "2023-12-24",
          "2023-12-25",
          "2023-12-26",
          "2023-12-27",
          "2023-12-28",
          "2023-12-29",
          "2023-12-30",
          "2023-12-31"
         ],
         "xaxis": "x",
         "y": [
          502.78,
          67.6,
          230.82,
          28.82,
          162.16,
          1506.94,
          81.66,
          5632.72,
          450.36,
          939.14,
          13.28,
          305.26,
          2322.2,
          117.54,
          565.54,
          937.18,
          814.22,
          1033.42,
          495.82,
          350.54,
          482.38,
          3689.34,
          716.44,
          176.3,
          172.68,
          467.18,
          67.38,
          316.26,
          759.18,
          2022.92,
          120.78,
          808.54,
          102.42,
          432.56,
          294.18,
          863.3,
          371.74,
          3671.82,
          90.7,
          300.36,
          467.24,
          1072.16,
          3550.3,
          3336.88,
          238.92,
          681.78,
          376.1,
          3150.24,
          276.34,
          651.18,
          1753.76,
          550.26,
          1332.7,
          1.42,
          29.76,
          543.54,
          200.92,
          318.2,
          752.42,
          301.24,
          1002.94,
          122.34,
          1435.28,
          422.34,
          177.32,
          674.84,
          712.3,
          240.56,
          318.36,
          274.46,
          597.82,
          463.14,
          2.24,
          1015.96,
          1116.22,
          420.74,
          1260.14,
          309.76,
          746.24,
          1701.7,
          662.48,
          3.54,
          944.8,
          4803.64,
          645.32,
          919.32,
          222.12,
          580.74,
          161.68,
          395.42,
          119.5,
          289.96,
          1274.98,
          760.68,
          161.9,
          288.64,
          3469.28,
          2613.38,
          622.62,
          464.02,
          599.58,
          234.94,
          522.24,
          95.86,
          202.42,
          719.88,
          803.62,
          271.48,
          1691.68,
          313.48,
          624.66,
          133.72,
          1497.34,
          168.56,
          141.94,
          459.8,
          532.74,
          3828.06,
          784.56,
          516.34,
          794.56,
          1223.94,
          566.26,
          671.02,
          287.6,
          732.44,
          935.32,
          3369.54,
          527.9,
          16.72,
          127.4,
          286.42,
          541.3,
          520.88,
          292.4,
          1736.14,
          26.34,
          130.7,
          7938.98,
          278.42,
          709.7,
          697.98,
          182.84,
          137.32,
          72.06,
          126.5,
          435.76,
          438.3,
          322.78,
          735.7,
          488.98,
          1008.78,
          613.16,
          77.9,
          22.8,
          550.16,
          664.34,
          65.34,
          2731.98,
          680.32,
          731.34,
          808.34,
          418.96,
          41.6,
          382.6,
          355.68,
          146.4,
          68.18,
          99.8,
          723.34,
          754.26,
          1225.86,
          586.4,
          2373,
          415.12,
          141.72,
          193.2,
          262.68,
          703.08,
          4554,
          367.52,
          4365.42,
          574.42,
          602.78,
          1283.3,
          810.08,
          807.04,
          165.46,
          195.12,
          808.42,
          336.76,
          206.6,
          769.18,
          332.38,
          60.82,
          118.02,
          356.38,
          105.98,
          1058.8,
          821.3,
          717.72,
          777.14,
          7.36,
          1185.82,
          2313.4,
          144.26,
          756.6,
          532.9,
          2347.64,
          1429.38,
          61.26,
          6369.6,
          558.92,
          3136.28,
          139,
          266.4,
          678.14,
          79.32,
          1054.28,
          646.24,
          174.3,
          328.56,
          336.46,
          1045.24,
          706.54,
          521.26,
          125,
          1164.94,
          38.18,
          206.82,
          617.78,
          777,
          3645.56,
          432.82,
          428.28,
          17.2,
          3121.1,
          283.72,
          354.88,
          305.08,
          218.56,
          1001.58,
          224.74,
          21.56,
          293.82,
          3350.78,
          811.04,
          1470.74,
          151.82,
          76.58,
          663.42,
          1352.6,
          463.86,
          254.92,
          1719.7,
          346.44,
          31.78,
          737.48,
          148.88,
          581.4,
          3391.32,
          4447.54,
          134.9,
          106.86,
          134.88,
          6346.28,
          779.08,
          236.5,
          778.18,
          169.18,
          970.94,
          162.48,
          447.06,
          507.22,
          132.74,
          2157.4,
          5200.06,
          63.94,
          213.84,
          2501.64,
          1042.28,
          13.3,
          1041.08,
          685.2,
          16.94,
          729.48,
          1172.28,
          131.28,
          635.22,
          94.7,
          291.1,
          424.92,
          45.16,
          205.12,
          165.46,
          839.94,
          205.92,
          705.94,
          300.8,
          191.72,
          7269.5,
          35.36,
          517.5,
          388.04,
          3087.76,
          46.56,
          230.64,
          893.2,
          111.42,
          903.24,
          1287.64,
          1876.28,
          340.62,
          472.84,
          416.86,
          273.68,
          635.42,
          2552.72,
          439.18,
          44.84,
          1661.88,
          1289.74,
          572.76,
          224.12,
          6.86,
          311.92,
          32.08,
          2634.58,
          203.08,
          706.74,
          56.12,
          169.26,
          143.76,
          2079.26,
          1078.64,
          182.72,
          18.52,
          174.08,
          109.1,
          1366.44,
          355.16,
          695.86,
          206.14,
          803.48,
          149.06,
          174.66,
          1223.64,
          463.68,
          708.26,
          956.08,
          406.94,
          199
         ],
         "yaxis": "y"
        }
       ],
       "layout": {
        "legend": {
         "tracegroupgap": 0
        },
        "template": {
         "data": {
          "bar": [
           {
            "error_x": {
             "color": "#2a3f5f"
            },
            "error_y": {
             "color": "#2a3f5f"
            },
            "marker": {
             "line": {
              "color": "#E5ECF6",
              "width": 0.5
             },
             "pattern": {
              "fillmode": "overlay",
              "size": 10,
              "solidity": 0.2
             }
            },
            "type": "bar"
           }
          ],
          "barpolar": [
           {
            "marker": {
             "line": {
              "color": "#E5ECF6",
              "width": 0.5
             },
             "pattern": {
              "fillmode": "overlay",
              "size": 10,
              "solidity": 0.2
             }
            },
            "type": "barpolar"
           }
          ],
          "carpet": [
           {
            "aaxis": {
             "endlinecolor": "#2a3f5f",
             "gridcolor": "white",
             "linecolor": "white",
             "minorgridcolor": "white",
             "startlinecolor": "#2a3f5f"
            },
            "baxis": {
             "endlinecolor": "#2a3f5f",
             "gridcolor": "white",
             "linecolor": "white",
             "minorgridcolor": "white",
             "startlinecolor": "#2a3f5f"
            },
            "type": "carpet"
           }
          ],
          "choropleth": [
           {
            "colorbar": {
             "outlinewidth": 0,
             "ticks": ""
            },
            "type": "choropleth"
           }
          ],
          "contour": [
           {
            "colorbar": {
             "outlinewidth": 0,
             "ticks": ""
            },
            "colorscale": [
             [
              0,
              "#0d0887"
             ],
             [
              0.1111111111111111,
              "#46039f"
             ],
             [
              0.2222222222222222,
              "#7201a8"
             ],
             [
              0.3333333333333333,
              "#9c179e"
             ],
             [
              0.4444444444444444,
              "#bd3786"
             ],
             [
              0.5555555555555556,
              "#d8576b"
             ],
             [
              0.6666666666666666,
              "#ed7953"
             ],
             [
              0.7777777777777778,
              "#fb9f3a"
             ],
             [
              0.8888888888888888,
              "#fdca26"
             ],
             [
              1,
              "#f0f921"
             ]
            ],
            "type": "contour"
           }
          ],
          "contourcarpet": [
           {
            "colorbar": {
             "outlinewidth": 0,
             "ticks": ""
            },
            "type": "contourcarpet"
           }
          ],
          "heatmap": [
           {
            "colorbar": {
             "outlinewidth": 0,
             "ticks": ""
            },
            "colorscale": [
             [
              0,
              "#0d0887"
             ],
             [
              0.1111111111111111,
              "#46039f"
             ],
             [
              0.2222222222222222,
              "#7201a8"
             ],
             [
              0.3333333333333333,
              "#9c179e"
             ],
             [
              0.4444444444444444,
              "#bd3786"
             ],
             [
              0.5555555555555556,
              "#d8576b"
             ],
             [
              0.6666666666666666,
              "#ed7953"
             ],
             [
              0.7777777777777778,
              "#fb9f3a"
             ],
             [
              0.8888888888888888,
              "#fdca26"
             ],
             [
              1,
              "#f0f921"
             ]
            ],
            "type": "heatmap"
           }
          ],
          "heatmapgl": [
           {
            "colorbar": {
             "outlinewidth": 0,
             "ticks": ""
            },
            "colorscale": [
             [
              0,
              "#0d0887"
             ],
             [
              0.1111111111111111,
              "#46039f"
             ],
             [
              0.2222222222222222,
              "#7201a8"
             ],
             [
              0.3333333333333333,
              "#9c179e"
             ],
             [
              0.4444444444444444,
              "#bd3786"
             ],
             [
              0.5555555555555556,
              "#d8576b"
             ],
             [
              0.6666666666666666,
              "#ed7953"
             ],
             [
              0.7777777777777778,
              "#fb9f3a"
             ],
             [
              0.8888888888888888,
              "#fdca26"
             ],
             [
              1,
              "#f0f921"
             ]
            ],
            "type": "heatmapgl"
           }
          ],
          "histogram": [
           {
            "marker": {
             "pattern": {
              "fillmode": "overlay",
              "size": 10,
              "solidity": 0.2
             }
            },
            "type": "histogram"
           }
          ],
          "histogram2d": [
           {
            "colorbar": {
             "outlinewidth": 0,
             "ticks": ""
            },
            "colorscale": [
             [
              0,
              "#0d0887"
             ],
             [
              0.1111111111111111,
              "#46039f"
             ],
             [
              0.2222222222222222,
              "#7201a8"
             ],
             [
              0.3333333333333333,
              "#9c179e"
             ],
             [
              0.4444444444444444,
              "#bd3786"
             ],
             [
              0.5555555555555556,
              "#d8576b"
             ],
             [
              0.6666666666666666,
              "#ed7953"
             ],
             [
              0.7777777777777778,
              "#fb9f3a"
             ],
             [
              0.8888888888888888,
              "#fdca26"
             ],
             [
              1,
              "#f0f921"
             ]
            ],
            "type": "histogram2d"
           }
          ],
          "histogram2dcontour": [
           {
            "colorbar": {
             "outlinewidth": 0,
             "ticks": ""
            },
            "colorscale": [
             [
              0,
              "#0d0887"
             ],
             [
              0.1111111111111111,
              "#46039f"
             ],
             [
              0.2222222222222222,
              "#7201a8"
             ],
             [
              0.3333333333333333,
              "#9c179e"
             ],
             [
              0.4444444444444444,
              "#bd3786"
             ],
             [
              0.5555555555555556,
              "#d8576b"
             ],
             [
              0.6666666666666666,
              "#ed7953"
             ],
             [
              0.7777777777777778,
              "#fb9f3a"
             ],
             [
              0.8888888888888888,
              "#fdca26"
             ],
             [
              1,
              "#f0f921"
             ]
            ],
            "type": "histogram2dcontour"
           }
          ],
          "mesh3d": [
           {
            "colorbar": {
             "outlinewidth": 0,
             "ticks": ""
            },
            "type": "mesh3d"
           }
          ],
          "parcoords": [
           {
            "line": {
             "colorbar": {
              "outlinewidth": 0,
              "ticks": ""
             }
            },
            "type": "parcoords"
           }
          ],
          "pie": [
           {
            "automargin": true,
            "type": "pie"
           }
          ],
          "scatter": [
           {
            "fillpattern": {
             "fillmode": "overlay",
             "size": 10,
             "solidity": 0.2
            },
            "type": "scatter"
           }
          ],
          "scatter3d": [
           {
            "line": {
             "colorbar": {
              "outlinewidth": 0,
              "ticks": ""
             }
            },
            "marker": {
             "colorbar": {
              "outlinewidth": 0,
              "ticks": ""
             }
            },
            "type": "scatter3d"
           }
          ],
          "scattercarpet": [
           {
            "marker": {
             "colorbar": {
              "outlinewidth": 0,
              "ticks": ""
             }
            },
            "type": "scattercarpet"
           }
          ],
          "scattergeo": [
           {
            "marker": {
             "colorbar": {
              "outlinewidth": 0,
              "ticks": ""
             }
            },
            "type": "scattergeo"
           }
          ],
          "scattergl": [
           {
            "marker": {
             "colorbar": {
              "outlinewidth": 0,
              "ticks": ""
             }
            },
            "type": "scattergl"
           }
          ],
          "scattermapbox": [
           {
            "marker": {
             "colorbar": {
              "outlinewidth": 0,
              "ticks": ""
             }
            },
            "type": "scattermapbox"
           }
          ],
          "scatterpolar": [
           {
            "marker": {
             "colorbar": {
              "outlinewidth": 0,
              "ticks": ""
             }
            },
            "type": "scatterpolar"
           }
          ],
          "scatterpolargl": [
           {
            "marker": {
             "colorbar": {
              "outlinewidth": 0,
              "ticks": ""
             }
            },
            "type": "scatterpolargl"
           }
          ],
          "scatterternary": [
           {
            "marker": {
             "colorbar": {
              "outlinewidth": 0,
              "ticks": ""
             }
            },
            "type": "scatterternary"
           }
          ],
          "surface": [
           {
            "colorbar": {
             "outlinewidth": 0,
             "ticks": ""
            },
            "colorscale": [
             [
              0,
              "#0d0887"
             ],
             [
              0.1111111111111111,
              "#46039f"
             ],
             [
              0.2222222222222222,
              "#7201a8"
             ],
             [
              0.3333333333333333,
              "#9c179e"
             ],
             [
              0.4444444444444444,
              "#bd3786"
             ],
             [
              0.5555555555555556,
              "#d8576b"
             ],
             [
              0.6666666666666666,
              "#ed7953"
             ],
             [
              0.7777777777777778,
              "#fb9f3a"
             ],
             [
              0.8888888888888888,
              "#fdca26"
             ],
             [
              1,
              "#f0f921"
             ]
            ],
            "type": "surface"
           }
          ],
          "table": [
           {
            "cells": {
             "fill": {
              "color": "#EBF0F8"
             },
             "line": {
              "color": "white"
             }
            },
            "header": {
             "fill": {
              "color": "#C8D4E3"
             },
             "line": {
              "color": "white"
             }
            },
            "type": "table"
           }
          ]
         },
         "layout": {
          "annotationdefaults": {
           "arrowcolor": "#2a3f5f",
           "arrowhead": 0,
           "arrowwidth": 1
          },
          "autotypenumbers": "strict",
          "coloraxis": {
           "colorbar": {
            "outlinewidth": 0,
            "ticks": ""
           }
          },
          "colorscale": {
           "diverging": [
            [
             0,
             "#8e0152"
            ],
            [
             0.1,
             "#c51b7d"
            ],
            [
             0.2,
             "#de77ae"
            ],
            [
             0.3,
             "#f1b6da"
            ],
            [
             0.4,
             "#fde0ef"
            ],
            [
             0.5,
             "#f7f7f7"
            ],
            [
             0.6,
             "#e6f5d0"
            ],
            [
             0.7,
             "#b8e186"
            ],
            [
             0.8,
             "#7fbc41"
            ],
            [
             0.9,
             "#4d9221"
            ],
            [
             1,
             "#276419"
            ]
           ],
           "sequential": [
            [
             0,
             "#0d0887"
            ],
            [
             0.1111111111111111,
             "#46039f"
            ],
            [
             0.2222222222222222,
             "#7201a8"
            ],
            [
             0.3333333333333333,
             "#9c179e"
            ],
            [
             0.4444444444444444,
             "#bd3786"
            ],
            [
             0.5555555555555556,
             "#d8576b"
            ],
            [
             0.6666666666666666,
             "#ed7953"
            ],
            [
             0.7777777777777778,
             "#fb9f3a"
            ],
            [
             0.8888888888888888,
             "#fdca26"
            ],
            [
             1,
             "#f0f921"
            ]
           ],
           "sequentialminus": [
            [
             0,
             "#0d0887"
            ],
            [
             0.1111111111111111,
             "#46039f"
            ],
            [
             0.2222222222222222,
             "#7201a8"
            ],
            [
             0.3333333333333333,
             "#9c179e"
            ],
            [
             0.4444444444444444,
             "#bd3786"
            ],
            [
             0.5555555555555556,
             "#d8576b"
            ],
            [
             0.6666666666666666,
             "#ed7953"
            ],
            [
             0.7777777777777778,
             "#fb9f3a"
            ],
            [
             0.8888888888888888,
             "#fdca26"
            ],
            [
             1,
             "#f0f921"
            ]
           ]
          },
          "colorway": [
           "#636efa",
           "#EF553B",
           "#00cc96",
           "#ab63fa",
           "#FFA15A",
           "#19d3f3",
           "#FF6692",
           "#B6E880",
           "#FF97FF",
           "#FECB52"
          ],
          "font": {
           "color": "#2a3f5f"
          },
          "geo": {
           "bgcolor": "white",
           "lakecolor": "white",
           "landcolor": "#E5ECF6",
           "showlakes": true,
           "showland": true,
           "subunitcolor": "white"
          },
          "hoverlabel": {
           "align": "left"
          },
          "hovermode": "closest",
          "mapbox": {
           "style": "light"
          },
          "paper_bgcolor": "white",
          "plot_bgcolor": "#E5ECF6",
          "polar": {
           "angularaxis": {
            "gridcolor": "white",
            "linecolor": "white",
            "ticks": ""
           },
           "bgcolor": "#E5ECF6",
           "radialaxis": {
            "gridcolor": "white",
            "linecolor": "white",
            "ticks": ""
           }
          },
          "scene": {
           "xaxis": {
            "backgroundcolor": "#E5ECF6",
            "gridcolor": "white",
            "gridwidth": 2,
            "linecolor": "white",
            "showbackground": true,
            "ticks": "",
            "zerolinecolor": "white"
           },
           "yaxis": {
            "backgroundcolor": "#E5ECF6",
            "gridcolor": "white",
            "gridwidth": 2,
            "linecolor": "white",
            "showbackground": true,
            "ticks": "",
            "zerolinecolor": "white"
           },
           "zaxis": {
            "backgroundcolor": "#E5ECF6",
            "gridcolor": "white",
            "gridwidth": 2,
            "linecolor": "white",
            "showbackground": true,
            "ticks": "",
            "zerolinecolor": "white"
           }
          },
          "shapedefaults": {
           "line": {
            "color": "#2a3f5f"
           }
          },
          "ternary": {
           "aaxis": {
            "gridcolor": "white",
            "linecolor": "white",
            "ticks": ""
           },
           "baxis": {
            "gridcolor": "white",
            "linecolor": "white",
            "ticks": ""
           },
           "bgcolor": "#E5ECF6",
           "caxis": {
            "gridcolor": "white",
            "linecolor": "white",
            "ticks": ""
           }
          },
          "title": {
           "x": 0.05
          },
          "xaxis": {
           "automargin": true,
           "gridcolor": "white",
           "linecolor": "white",
           "ticks": "",
           "title": {
            "standoff": 15
           },
           "zerolinecolor": "white",
           "zerolinewidth": 2
          },
          "yaxis": {
           "automargin": true,
           "gridcolor": "white",
           "linecolor": "white",
           "ticks": "",
           "title": {
            "standoff": 15
           },
           "zerolinecolor": "white",
           "zerolinewidth": 2
          }
         }
        },
        "title": {
         "text": "Daily Cashback Trend"
        },
        "xaxis": {
         "anchor": "y",
         "domain": [
          0,
          1
         ],
         "title": {
          "text": "Date"
         }
        },
        "yaxis": {
         "anchor": "x",
         "domain": [
          0,
          1
         ],
         "title": {
          "text": "Total Cashback"
         }
        }
       }
      }
     },
     "metadata": {},
     "output_type": "display_data"
    }
   ],
   "source": [
    "# Daily cashback trend\n",
    "\n",
    "query13 = (\"SELECT Date, SUM(Cashback) FROM PERSONAL_EXPENSES GROUP BY Date ORDER BY Date\")\n",
    "\n",
    "my_cursor.execute(query13)\n",
    "\n",
    "Daily_Cashback_Trend = my_cursor.fetchall()\n",
    "\n",
    "for x in Daily_Cashback_Trend:\n",
    "    print(x)\n",
    "\n",
    "cashback_trend_df = pd.DataFrame(Daily_Cashback_Trend, columns=['Date','Total Cashback'])\n",
    "\n",
    "fig = px.line(\n",
    "    cashback_trend_df,\n",
    "    x='Date',\n",
    "    y='Total Cashback',\n",
    "    title='Daily Cashback Trend',\n",
    "    markers=True,\n",
    "    color_discrete_sequence=px.colors.sequential.Plasma\n",
    "    )\n",
    "\n",
    "fig.update_traces(\n",
    "    line=dict(color=\"#2d3d5c\", width=3),\n",
    "    marker=dict(color=\"#ffccd5\", size=5))\n",
    "\n",
    "fig.show()"
   ]
  }
 ],
 "metadata": {
  "kernelspec": {
   "display_name": "Python 3",
   "language": "python",
   "name": "python3"
  },
  "language_info": {
   "codemirror_mode": {
    "name": "ipython",
    "version": 3
   },
   "file_extension": ".py",
   "mimetype": "text/x-python",
   "name": "python",
   "nbconvert_exporter": "python",
   "pygments_lexer": "ipython3",
   "version": "3.11.11"
  }
 },
 "nbformat": 4,
 "nbformat_minor": 2
}
